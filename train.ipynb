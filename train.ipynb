{
  "nbformat": 4,
  "nbformat_minor": 0,
  "metadata": {
    "colab": {
      "provenance": [],
      "collapsed_sections": [
        "dr3IzUkwp8ZT",
        "6F3Rt0qotIs4",
        "eui_sRUsrAlf",
        "JRRD1Jujr6gU",
        "9w3r7zX4BpZe",
        "5Ulo0voFBydr",
        "7yqWuQB1B2Pa",
        "Xl0sMbtDweJG",
        "5YYI0LoYWUIv",
        "h6ctwtHiX5X_",
        "PRL9x4rHZ0dI",
        "ACw3fb-RqZOi",
        "jikwKY3auNzS",
        "D6Q4ZoWSaKPa",
        "vThhmUCtapuj",
        "j3G7a16dkzpn"
      ]
    },
    "kernelspec": {
      "name": "python3",
      "display_name": "Python 3"
    },
    "language_info": {
      "name": "python"
    }
  },
  "cells": [
    {
      "cell_type": "markdown",
      "source": [
        "\n",
        "# Project Setup and Execution Instructions\n",
        "\n",
        "## Overview\n",
        "This notebook requires access to a specific folder in Google Drive. Follow the steps below to set up the project:\n",
        "\n",
        "## Project Setup\n",
        "1. Add a shortcut of this folder: [Shared Folder Link](https://drive.google.com/drive/folders/1ySpjMA1MVeFCnnFrjvxei4QucpDnk27e?usp=sharing) to your Google Drive directory: `/content/drive/MyDrive/Colab Notebooks/`\n",
        "\n",
        "Adding shortcut steps:\n",
        "1.1. Open the shared folder link.\n",
        "1.2. Right click on the DL_course folder -> Organize -> Add shorcut.\n",
        "1.3. A popup with \"Add shortcut to DL_course\" title will appear. Choose Colab Notebooks folder.\n",
        "\n",
        "2. Verify the folder addition by running the `checkDriveDir` function. If successful, you should see a list of folders, including `chest_xray` and `winning_architecture`, confirming that the DL_course shortcut was added to your drive.\n",
        "\n",
        "3. Run Notebook Cells: Execute the notebook cells one by one to perform the training.\n"
      ],
      "metadata": {
        "id": "v_XXLEPlnvPi"
      }
    },
    {
      "cell_type": "markdown",
      "source": [
        "## Imports"
      ],
      "metadata": {
        "id": "6T74ZttDhRVF"
      }
    },
    {
      "cell_type": "code",
      "execution_count": null,
      "metadata": {
        "id": "OOuVDfIHhRVF"
      },
      "outputs": [],
      "source": [
        "import copy\n",
        "import os\n",
        "import torch\n",
        "import torch.nn as nn\n",
        "import torch.optim as optim\n",
        "from matplotlib import pyplot as plt\n",
        "from torchvision import datasets, models, transforms\n",
        "from sklearn.metrics import confusion_matrix\n",
        "import seaborn as sns\n",
        "import torch.nn.functional as F\n",
        "from google.colab import drive\n",
        "from torch.utils.data import Dataset\n",
        "from PIL import Image\n",
        "import numpy as np\n",
        "from sklearn.manifold import TSNE\n",
        "from sklearn.metrics import confusion_matrix\n",
        "from sklearn.neighbors import KNeighborsClassifier\n",
        "from matplotlib import pyplot as plt\n",
        "from PIL import Image\n",
        "import torchvision.transforms as transforms\n",
        "import random\n"
      ]
    },
    {
      "cell_type": "markdown",
      "source": [
        "## Hyperparameters\n"
      ],
      "metadata": {
        "id": "MiQf-UlwhRVG"
      }
    },
    {
      "cell_type": "code",
      "source": [
        "\n",
        "EPOCHS = 10\n",
        "data_dir = \"/content/drive/MyDrive/Colab Notebooks/DL_course/chest_xray\"\n",
        "\n",
        "TEST = 'test'\n",
        "TRAIN = 'train'\n",
        "VAL ='val'\n",
        "checkpoint_dir = \"/content/drive/MyDrive/Colab Notebooks/DL_course\"\n",
        "\n",
        "checkpoint_with_focal_dir = checkpoint_dir + \"/with_focal\"\n",
        "device = torch.device(\"cuda\" if torch.cuda.is_available() else \"cpu\")\n",
        "visualization = True\n",
        "from google.colab import drive\n",
        "drive.mount('/content/drive')\n",
        "device\n"
      ],
      "metadata": {
        "colab": {
          "base_uri": "https://localhost:8080/"
        },
        "outputId": "470ac8b3-81aa-4fa0-aaf8-adee587205a3",
        "id": "hZMxfKN8hRVG"
      },
      "execution_count": null,
      "outputs": [
        {
          "output_type": "execute_result",
          "data": {
            "text/plain": [
              "device(type='cpu')"
            ]
          },
          "metadata": {},
          "execution_count": 2
        }
      ]
    },
    {
      "cell_type": "code",
      "source": [
        "def checkDriveDir():\n",
        "  folders = [folder for folder in os.listdir(checkpoint_dir) if os.path.isdir(os.path.join(checkpoint_dir, folder))]\n",
        "\n",
        "  # Print the list of folders\n",
        "  if folders:\n",
        "      print(\"List of Folders:\")\n",
        "      for folder in folders:\n",
        "          print(f\" - {folder}\")\n",
        "  else:\n",
        "      print(\"No folders found in the /content/drive/MyDrive/Colab Notebooks/DL_course.\")\n",
        "checkDriveDir()"
      ],
      "metadata": {
        "colab": {
          "base_uri": "https://localhost:8080/"
        },
        "id": "m4pQgxfUi9UC",
        "outputId": "65625420-c55b-40c0-9555-99c14c17534f"
      },
      "execution_count": null,
      "outputs": [
        {
          "output_type": "stream",
          "name": "stdout",
          "text": [
            "List of Folders:\n",
            " - chest_xray\n",
            " - with_focal\n",
            " - winning architecture\n",
            " - Output_1b\n",
            " - with_focal_backup\n",
            " - logs\n"
          ]
        }
      ]
    },
    {
      "cell_type": "markdown",
      "metadata": {
        "id": "xWkCABP4p06N"
      },
      "source": [
        "**Task 1a - Classification healthy/sick Xray Imaging  🍒**\n",
        "\n",
        "\n",
        "---\n",
        "\n"
      ]
    },
    {
      "cell_type": "markdown",
      "source": [
        "# Task 1.a - Classification of healthy/sick"
      ],
      "metadata": {
        "id": "dr3IzUkwp8ZT"
      }
    },
    {
      "cell_type": "markdown",
      "source": [
        "## Accuracy Graph"
      ],
      "metadata": {
        "id": "6F3Rt0qotIs4"
      }
    },
    {
      "cell_type": "code",
      "source": [
        "def accuracy_graph(train_losses, val_losses, train_accs, val_accs):\n",
        "        # Plot training and validation loss\n",
        "        plt.figure(figsize=(10, 4))\n",
        "        plt.subplot(1, 2, 1)\n",
        "        plt.plot(train_losses, label='Training loss')\n",
        "        plt.plot(val_losses, label='Validation loss')\n",
        "        plt.title('Training and Validation Loss')\n",
        "        plt.legend()\n",
        "\n",
        "        # Plot training and validation accuracy\n",
        "        plt.subplot(1, 2, 2)\n",
        "        plt.plot(train_accs, label='Training acc')\n",
        "        plt.plot(val_accs, label='Validation acc')\n",
        "        plt.title('Training and Validation Accuracy')\n",
        "        plt.legend()\n",
        "\n",
        "        plt.savefig(os.path.join(checkpoint_dir, 'training_validation_loss_acc.png'))\n",
        "        plt.close()"
      ],
      "metadata": {
        "id": "wkPL4IkstNHA"
      },
      "execution_count": null,
      "outputs": []
    },
    {
      "cell_type": "markdown",
      "source": [
        "## Model, Optimizer, Data Preprocessing\n",
        "\n",
        "\n"
      ],
      "metadata": {
        "id": "eui_sRUsrAlf"
      }
    },
    {
      "cell_type": "code",
      "source": [
        "# Loss\n",
        "class FocalLoss(nn.Module):\n",
        "    def __init__(self, alpha=0.25, gamma=2):\n",
        "        super(FocalLoss, self).__init__()\n",
        "        self.alpha = alpha\n",
        "        self.gamma = gamma\n",
        "\n",
        "    def forward(self, inputs, targets):\n",
        "        BCE_loss = F.cross_entropy(inputs, targets, reduction='none')\n",
        "        targets = targets.type(torch.long)\n",
        "        at = self.alpha * targets + (1 - self.alpha) * (1 - targets)\n",
        "        pt = torch.exp(-BCE_loss)\n",
        "        F_loss = at * (1 - pt) ** self.gamma * BCE_loss\n",
        "        return F_loss.mean()"
      ],
      "metadata": {
        "id": "X46N8iCprHXy"
      },
      "execution_count": null,
      "outputs": []
    },
    {
      "cell_type": "code",
      "source": [
        "# Data Transformation & Augmentations\n",
        "def data_transforms(phase):\n",
        "    # If the phase is TRAIN\n",
        "    if phase == TRAIN:\n",
        "        # Compose transformations: Resize, CenterCrop, Convert to Tensor, Normalize\n",
        "        transform = transforms.Compose([\n",
        "            transforms.Resize(256),  # Resize the image to 256x256 pixels\n",
        "            transforms.CenterCrop(224),  # Crop the center of the image to 224x224 pixels\n",
        "            transforms.ToTensor(),  # Convert the image to a PyTorch Tensor\n",
        "            transforms.Normalize([0.485, 0.456, 0.406], [0.229, 0.224, 0.225]),  # Normalize the Tensor\n",
        "        ])\n",
        "\n",
        "    # If the phase is VAL\n",
        "    if phase == VAL:\n",
        "        # Apply the same transformations as the TRAIN phase\n",
        "        transform = transforms.Compose([\n",
        "            transforms.Resize(256),\n",
        "            transforms.CenterCrop(224),\n",
        "            transforms.ToTensor(),\n",
        "            transforms.Normalize([0.485, 0.456, 0.406], [0.229, 0.224, 0.225]),\n",
        "        ])\n",
        "\n",
        "    # If the phase is TEST\n",
        "    if phase == TEST:\n",
        "        # Apply the same transformations as the TRAIN phase\n",
        "        transform = transforms.Compose([\n",
        "            transforms.Resize(256),\n",
        "            transforms.CenterCrop(224),\n",
        "            transforms.ToTensor(),\n",
        "            transforms.Normalize([0.485, 0.456, 0.406], [0.229, 0.224, 0.225]),\n",
        "        ])\n",
        "\n",
        "    return transform"
      ],
      "metadata": {
        "id": "P4hdQajQrOia"
      },
      "execution_count": null,
      "outputs": []
    },
    {
      "cell_type": "code",
      "source": [
        "# Prepere dataset and dataloader\n",
        "\n",
        "image_datasets = {x: datasets.ImageFolder(os.path.join(data_dir, x), data_transforms(x))\n",
        "                  for x in [TRAIN, VAL, TEST]}\n",
        "\n",
        "dataloaders = {\n",
        "    TRAIN: torch.utils.data.DataLoader(image_datasets[TRAIN], batch_size=32, shuffle=True),\n",
        "    VAL: torch.utils.data.DataLoader(image_datasets[VAL], batch_size=1, shuffle=True),\n",
        "    TEST: torch.utils.data.DataLoader(image_datasets[TEST], batch_size=1, shuffle=True)\n",
        "}\n",
        "\n",
        "dataset_sizes = {\n",
        "    x: len(image_datasets[x])\n",
        "    for x in [TRAIN, VAL]\n",
        "}\n",
        "\n",
        "classes = image_datasets[TRAIN].classes\n",
        "class_names = image_datasets[TRAIN].classes"
      ],
      "metadata": {
        "id": "9uyrqwMvd9Gv"
      },
      "execution_count": null,
      "outputs": []
    },
    {
      "cell_type": "markdown",
      "source": [
        "## Training"
      ],
      "metadata": {
        "id": "JRRD1Jujr6gU"
      }
    },
    {
      "cell_type": "code",
      "source": [
        "# Prepere training loop\n",
        "def train_model(model, criterion, optimizer, scheduler, num_epochs):\n",
        "    # Initialize lists to track loss and accuracy\n",
        "    train_losses, val_losses = [], []\n",
        "    train_accs, val_accs = [], []\n",
        "    best_model_wts = copy.deepcopy(model.state_dict())\n",
        "    best_acc = 0.0\n",
        "\n",
        "    for epoch in range(num_epochs):\n",
        "        print(f'Epoch {epoch+1}/{num_epochs}')\n",
        "        print('-' * 10)\n",
        "\n",
        "        for phase in [TRAIN, VAL]:\n",
        "            if phase == TRAIN:\n",
        "                model.train()  # Set model to training mode\n",
        "            else:\n",
        "                model.eval()   # Set model to evaluate mode\n",
        "\n",
        "            running_loss = 0.0\n",
        "            running_corrects = 0\n",
        "\n",
        "            for inputs, labels in dataloaders[phase]:\n",
        "                print(\"computing\")\n",
        "                inputs = inputs.to(device)\n",
        "                labels = labels.to(device)\n",
        "\n",
        "                optimizer.zero_grad()\n",
        "\n",
        "                with torch.set_grad_enabled(phase == TRAIN):\n",
        "                    outputs = model(inputs)\n",
        "                    _, preds = torch.max(outputs, 1)\n",
        "                    loss = criterion(outputs, labels)\n",
        "\n",
        "                    if phase == TRAIN:\n",
        "                        loss.backward()\n",
        "                        optimizer.step()\n",
        "\n",
        "                running_loss += loss.item() * inputs.size(0)\n",
        "                running_corrects += torch.sum(preds == labels.data)\n",
        "\n",
        "            if phase == TRAIN:\n",
        "                scheduler.step()  # Update the learning rate after optimizer updates\n",
        "\n",
        "            epoch_loss = running_loss / dataset_sizes[phase]\n",
        "            epoch_acc = running_corrects.double() / dataset_sizes[phase]\n",
        "\n",
        "            print(f'{phase} Loss: {epoch_loss:.4f} Acc: {epoch_acc:.4f}')\n",
        "\n",
        "            if phase == TRAIN:\n",
        "                train_losses.append(epoch_loss)\n",
        "                train_accs.append(epoch_acc.detach().cpu().numpy().min())\n",
        "            else:\n",
        "                val_losses.append(epoch_loss)\n",
        "                val_accs.append(epoch_acc.detach().cpu().numpy().min())\n",
        "\n",
        "            if phase == VAL and epoch_acc > best_acc:\n",
        "                best_acc = epoch_acc\n",
        "                best_model_wts = copy.deepcopy(model.state_dict())\n",
        "            checkpoint_path = os.path.join(checkpoint_with_focal_dir, f\"epoch_{epoch+1}.pth\")\n",
        "            torch.save(model.state_dict(), checkpoint_path)\n",
        "\n",
        "            if visualization:\n",
        "                accuracy_graph(train_losses, val_losses, train_accs, val_accs)\n",
        "\n",
        "    print(f'Best val Acc: {best_acc:4f}')\n",
        "    model.load_state_dict(best_model_wts)\n",
        "    return model"
      ],
      "metadata": {
        "id": "m1uuLRXusQd4"
      },
      "execution_count": null,
      "outputs": []
    },
    {
      "cell_type": "code",
      "source": [
        "# Prepere dataset and dataloader\n",
        "\n",
        "image_datasets = {x: datasets.ImageFolder(os.path.join(data_dir, x), data_transforms(x))\n",
        "                  for x in [TRAIN, VAL, TEST]}\n",
        "\n",
        "dataloaders = {\n",
        "    TRAIN: torch.utils.data.DataLoader(image_datasets[TRAIN], batch_size=32, shuffle=True),\n",
        "    VAL: torch.utils.data.DataLoader(image_datasets[VAL], batch_size=1, shuffle=True),\n",
        "    TEST: torch.utils.data.DataLoader(image_datasets[TEST], batch_size=1, shuffle=True)\n",
        "}\n",
        "\n",
        "dataset_sizes = {\n",
        "    x: len(image_datasets[x])\n",
        "    for x in [TRAIN, VAL]\n",
        "}\n",
        "\n",
        "classes = image_datasets[TRAIN].classes\n",
        "class_names = image_datasets[TRAIN].classes"
      ],
      "metadata": {
        "id": "2BxdA232rtXu"
      },
      "execution_count": null,
      "outputs": []
    },
    {
      "cell_type": "markdown",
      "source": [
        "## Train RestNet"
      ],
      "metadata": {
        "id": "9w3r7zX4BpZe"
      }
    },
    {
      "cell_type": "code",
      "source": [
        "# Initializing Model and Train\n",
        "model_pre = models.resnet18(pretrained=True)\n",
        "\n",
        "for param in model_pre.parameters():\n",
        "    param.requires_grad = True\n",
        "\n",
        "model_pre.fc = nn.Sequential(\n",
        "    nn.Linear(512, 128),\n",
        "    nn.ReLU(inplace=True),\n",
        "    nn.Linear(128, 2)).to(device)\n",
        "\n",
        "model_pre = model_pre.to(device)\n",
        "criterion = FocalLoss(alpha=0.25, gamma=2) #nn.CrossEntropyLoss()\n",
        "optimizer = optim.SGD(model_pre.parameters(), lr=0.001, momentum=0.9, weight_decay=0.01)\n",
        "exp_lr_scheduler = optim.lr_scheduler.StepLR(optimizer, step_size=10, gamma=0.1)\n",
        "model_pre = train_model(model_pre, criterion, optimizer, exp_lr_scheduler, num_epochs=EPOCHS)"
      ],
      "metadata": {
        "id": "uLY07Kr8sKZA",
        "colab": {
          "base_uri": "https://localhost:8080/"
        },
        "outputId": "106d42b9-aae2-4e23-8b86-ed3e27bd7a0e"
      },
      "execution_count": null,
      "outputs": [
        {
          "output_type": "stream",
          "name": "stderr",
          "text": [
            "/usr/local/lib/python3.10/dist-packages/torchvision/models/_utils.py:208: UserWarning: The parameter 'pretrained' is deprecated since 0.13 and may be removed in the future, please use 'weights' instead.\n",
            "  warnings.warn(\n",
            "/usr/local/lib/python3.10/dist-packages/torchvision/models/_utils.py:223: UserWarning: Arguments other than a weight enum or `None` for 'weights' are deprecated since 0.13 and may be removed in the future. The current behavior is equivalent to passing `weights=ResNet18_Weights.IMAGENET1K_V1`. You can also use `weights=ResNet18_Weights.DEFAULT` to get the most up-to-date weights.\n",
            "  warnings.warn(msg)\n"
          ]
        },
        {
          "output_type": "stream",
          "name": "stdout",
          "text": [
            "Epoch 1/10\n",
            "----------\n",
            "computing\n",
            "computing\n",
            "computing\n",
            "computing\n",
            "computing\n",
            "computing\n",
            "computing\n",
            "computing\n",
            "computing\n",
            "computing\n",
            "computing\n",
            "computing\n",
            "computing\n",
            "computing\n",
            "computing\n",
            "computing\n",
            "computing\n",
            "computing\n",
            "computing\n",
            "computing\n",
            "computing\n",
            "computing\n",
            "computing\n",
            "computing\n",
            "computing\n",
            "computing\n",
            "computing\n",
            "computing\n",
            "computing\n",
            "computing\n",
            "computing\n",
            "computing\n",
            "computing\n",
            "computing\n",
            "computing\n",
            "computing\n",
            "computing\n",
            "computing\n",
            "computing\n",
            "computing\n",
            "computing\n",
            "computing\n",
            "computing\n",
            "computing\n",
            "computing\n",
            "computing\n",
            "computing\n",
            "computing\n",
            "computing\n",
            "computing\n",
            "computing\n",
            "computing\n",
            "computing\n",
            "computing\n",
            "computing\n",
            "computing\n",
            "computing\n",
            "computing\n",
            "computing\n",
            "computing\n",
            "computing\n",
            "computing\n",
            "computing\n",
            "computing\n",
            "computing\n",
            "computing\n",
            "computing\n",
            "computing\n",
            "computing\n",
            "computing\n",
            "computing\n",
            "computing\n",
            "computing\n",
            "computing\n",
            "computing\n",
            "computing\n",
            "computing\n",
            "computing\n",
            "computing\n",
            "computing\n",
            "computing\n",
            "computing\n",
            "computing\n",
            "computing\n",
            "computing\n",
            "computing\n",
            "computing\n",
            "computing\n",
            "computing\n",
            "computing\n",
            "computing\n",
            "computing\n",
            "computing\n",
            "computing\n",
            "computing\n",
            "computing\n",
            "computing\n",
            "computing\n",
            "computing\n",
            "computing\n",
            "computing\n",
            "computing\n",
            "computing\n",
            "computing\n",
            "computing\n",
            "computing\n",
            "computing\n",
            "computing\n",
            "computing\n",
            "computing\n",
            "computing\n",
            "computing\n",
            "computing\n",
            "computing\n",
            "computing\n",
            "computing\n",
            "computing\n",
            "computing\n",
            "computing\n",
            "computing\n",
            "computing\n",
            "computing\n",
            "computing\n",
            "computing\n",
            "computing\n",
            "computing\n",
            "computing\n",
            "computing\n",
            "computing\n",
            "computing\n",
            "computing\n",
            "computing\n",
            "computing\n",
            "computing\n",
            "computing\n",
            "computing\n",
            "computing\n",
            "computing\n",
            "computing\n",
            "computing\n",
            "computing\n",
            "computing\n",
            "computing\n",
            "computing\n",
            "computing\n",
            "computing\n",
            "computing\n",
            "computing\n",
            "computing\n",
            "computing\n",
            "computing\n",
            "computing\n",
            "computing\n",
            "computing\n",
            "computing\n",
            "computing\n",
            "computing\n",
            "computing\n",
            "computing\n",
            "computing\n",
            "computing\n",
            "computing\n",
            "computing\n",
            "train Loss: 0.0375 Acc: 0.8612\n",
            "computing\n",
            "computing\n",
            "computing\n",
            "computing\n",
            "computing\n",
            "computing\n",
            "computing\n",
            "computing\n",
            "computing\n",
            "computing\n",
            "computing\n",
            "computing\n",
            "computing\n",
            "computing\n",
            "computing\n",
            "computing\n",
            "val Loss: 0.0715 Acc: 0.7500\n",
            "Epoch 2/10\n",
            "----------\n",
            "computing\n",
            "computing\n",
            "computing\n",
            "computing\n",
            "computing\n",
            "computing\n",
            "computing\n",
            "computing\n",
            "computing\n",
            "computing\n",
            "computing\n",
            "computing\n",
            "computing\n",
            "computing\n",
            "computing\n",
            "computing\n",
            "computing\n",
            "computing\n",
            "computing\n",
            "computing\n",
            "computing\n",
            "computing\n",
            "computing\n",
            "computing\n",
            "computing\n",
            "computing\n",
            "computing\n",
            "computing\n",
            "computing\n",
            "computing\n",
            "computing\n",
            "computing\n",
            "computing\n",
            "computing\n",
            "computing\n",
            "computing\n",
            "computing\n",
            "computing\n",
            "computing\n",
            "computing\n",
            "computing\n",
            "computing\n",
            "computing\n",
            "computing\n",
            "computing\n",
            "computing\n",
            "computing\n",
            "computing\n",
            "computing\n",
            "computing\n",
            "computing\n",
            "computing\n",
            "computing\n",
            "computing\n",
            "computing\n",
            "computing\n",
            "computing\n",
            "computing\n",
            "computing\n",
            "computing\n",
            "computing\n",
            "computing\n",
            "computing\n",
            "computing\n",
            "computing\n",
            "computing\n",
            "computing\n",
            "computing\n",
            "computing\n",
            "computing\n",
            "computing\n",
            "computing\n",
            "computing\n",
            "computing\n",
            "computing\n",
            "computing\n",
            "computing\n",
            "computing\n",
            "computing\n",
            "computing\n",
            "computing\n",
            "computing\n",
            "computing\n",
            "computing\n",
            "computing\n",
            "computing\n",
            "computing\n",
            "computing\n",
            "computing\n",
            "computing\n",
            "computing\n",
            "computing\n",
            "computing\n",
            "computing\n",
            "computing\n",
            "computing\n",
            "computing\n",
            "computing\n",
            "computing\n",
            "computing\n",
            "computing\n",
            "computing\n",
            "computing\n",
            "computing\n",
            "computing\n",
            "computing\n",
            "computing\n",
            "computing\n",
            "computing\n",
            "computing\n",
            "computing\n",
            "computing\n",
            "computing\n",
            "computing\n",
            "computing\n",
            "computing\n",
            "computing\n",
            "computing\n",
            "computing\n",
            "computing\n",
            "computing\n",
            "computing\n",
            "computing\n",
            "computing\n",
            "computing\n",
            "computing\n",
            "computing\n",
            "computing\n",
            "computing\n",
            "computing\n",
            "computing\n",
            "computing\n",
            "computing\n",
            "computing\n",
            "computing\n",
            "computing\n",
            "computing\n",
            "computing\n",
            "computing\n",
            "computing\n",
            "computing\n",
            "computing\n",
            "computing\n",
            "computing\n",
            "computing\n",
            "computing\n",
            "computing\n",
            "computing\n",
            "computing\n",
            "computing\n",
            "computing\n",
            "computing\n",
            "computing\n",
            "computing\n",
            "computing\n",
            "computing\n",
            "computing\n",
            "computing\n",
            "computing\n",
            "computing\n",
            "computing\n",
            "computing\n",
            "computing\n",
            "train Loss: 0.0176 Acc: 0.9342\n",
            "computing\n",
            "computing\n",
            "computing\n",
            "computing\n",
            "computing\n",
            "computing\n",
            "computing\n",
            "computing\n",
            "computing\n",
            "computing\n",
            "computing\n",
            "computing\n",
            "computing\n",
            "computing\n",
            "computing\n",
            "computing\n",
            "val Loss: 0.0805 Acc: 0.7500\n",
            "Epoch 3/10\n",
            "----------\n",
            "computing\n",
            "computing\n",
            "computing\n",
            "computing\n",
            "computing\n",
            "computing\n",
            "computing\n",
            "computing\n",
            "computing\n",
            "computing\n",
            "computing\n",
            "computing\n",
            "computing\n",
            "computing\n",
            "computing\n",
            "computing\n",
            "computing\n",
            "computing\n",
            "computing\n",
            "computing\n",
            "computing\n",
            "computing\n",
            "computing\n",
            "computing\n",
            "computing\n",
            "computing\n",
            "computing\n",
            "computing\n",
            "computing\n",
            "computing\n",
            "computing\n",
            "computing\n",
            "computing\n",
            "computing\n",
            "computing\n",
            "computing\n",
            "computing\n",
            "computing\n",
            "computing\n",
            "computing\n",
            "computing\n",
            "computing\n",
            "computing\n",
            "computing\n",
            "computing\n",
            "computing\n",
            "computing\n",
            "computing\n",
            "computing\n",
            "computing\n",
            "computing\n",
            "computing\n",
            "computing\n",
            "computing\n",
            "computing\n",
            "computing\n",
            "computing\n",
            "computing\n",
            "computing\n",
            "computing\n",
            "computing\n",
            "computing\n",
            "computing\n",
            "computing\n",
            "computing\n",
            "computing\n",
            "computing\n",
            "computing\n",
            "computing\n",
            "computing\n",
            "computing\n",
            "computing\n",
            "computing\n",
            "computing\n",
            "computing\n",
            "computing\n",
            "computing\n",
            "computing\n",
            "computing\n",
            "computing\n",
            "computing\n",
            "computing\n",
            "computing\n",
            "computing\n",
            "computing\n",
            "computing\n",
            "computing\n",
            "computing\n",
            "computing\n",
            "computing\n",
            "computing\n",
            "computing\n",
            "computing\n",
            "computing\n",
            "computing\n",
            "computing\n",
            "computing\n",
            "computing\n",
            "computing\n",
            "computing\n",
            "computing\n",
            "computing\n",
            "computing\n",
            "computing\n",
            "computing\n",
            "computing\n",
            "computing\n",
            "computing\n",
            "computing\n",
            "computing\n",
            "computing\n",
            "computing\n",
            "computing\n",
            "computing\n",
            "computing\n",
            "computing\n",
            "computing\n",
            "computing\n",
            "computing\n",
            "computing\n",
            "computing\n",
            "computing\n",
            "computing\n",
            "computing\n",
            "computing\n",
            "computing\n",
            "computing\n",
            "computing\n",
            "computing\n",
            "computing\n",
            "computing\n",
            "computing\n",
            "computing\n",
            "computing\n",
            "computing\n",
            "computing\n",
            "computing\n",
            "computing\n",
            "computing\n",
            "computing\n",
            "computing\n",
            "computing\n",
            "computing\n",
            "computing\n",
            "computing\n",
            "computing\n",
            "computing\n",
            "computing\n",
            "computing\n",
            "computing\n",
            "computing\n",
            "computing\n",
            "computing\n",
            "computing\n",
            "computing\n",
            "computing\n",
            "computing\n",
            "computing\n",
            "computing\n",
            "computing\n",
            "computing\n",
            "computing\n",
            "computing\n",
            "train Loss: 0.0140 Acc: 0.9475\n",
            "computing\n",
            "computing\n",
            "computing\n",
            "computing\n",
            "computing\n",
            "computing\n",
            "computing\n",
            "computing\n",
            "computing\n",
            "computing\n",
            "computing\n",
            "computing\n",
            "computing\n",
            "computing\n",
            "computing\n",
            "computing\n",
            "val Loss: 0.0740 Acc: 0.7500\n",
            "Epoch 4/10\n",
            "----------\n",
            "computing\n",
            "computing\n",
            "computing\n",
            "computing\n",
            "computing\n",
            "computing\n",
            "computing\n",
            "computing\n",
            "computing\n",
            "computing\n",
            "computing\n",
            "computing\n",
            "computing\n",
            "computing\n",
            "computing\n",
            "computing\n",
            "computing\n",
            "computing\n",
            "computing\n",
            "computing\n",
            "computing\n",
            "computing\n",
            "computing\n",
            "computing\n",
            "computing\n",
            "computing\n",
            "computing\n",
            "computing\n",
            "computing\n",
            "computing\n",
            "computing\n",
            "computing\n",
            "computing\n",
            "computing\n",
            "computing\n",
            "computing\n",
            "computing\n",
            "computing\n",
            "computing\n",
            "computing\n",
            "computing\n",
            "computing\n",
            "computing\n",
            "computing\n",
            "computing\n",
            "computing\n",
            "computing\n",
            "computing\n",
            "computing\n",
            "computing\n",
            "computing\n",
            "computing\n",
            "computing\n",
            "computing\n",
            "computing\n",
            "computing\n",
            "computing\n",
            "computing\n",
            "computing\n",
            "computing\n",
            "computing\n",
            "computing\n",
            "computing\n",
            "computing\n",
            "computing\n",
            "computing\n",
            "computing\n",
            "computing\n",
            "computing\n",
            "computing\n",
            "computing\n",
            "computing\n",
            "computing\n",
            "computing\n",
            "computing\n",
            "computing\n",
            "computing\n",
            "computing\n",
            "computing\n",
            "computing\n",
            "computing\n",
            "computing\n",
            "computing\n",
            "computing\n",
            "computing\n",
            "computing\n",
            "computing\n",
            "computing\n",
            "computing\n",
            "computing\n",
            "computing\n",
            "computing\n",
            "computing\n",
            "computing\n",
            "computing\n",
            "computing\n",
            "computing\n",
            "computing\n",
            "computing\n",
            "computing\n",
            "computing\n",
            "computing\n",
            "computing\n",
            "computing\n",
            "computing\n",
            "computing\n",
            "computing\n",
            "computing\n",
            "computing\n",
            "computing\n",
            "computing\n",
            "computing\n",
            "computing\n",
            "computing\n",
            "computing\n",
            "computing\n",
            "computing\n",
            "computing\n",
            "computing\n",
            "computing\n",
            "computing\n",
            "computing\n",
            "computing\n",
            "computing\n",
            "computing\n",
            "computing\n",
            "computing\n",
            "computing\n",
            "computing\n",
            "computing\n",
            "computing\n",
            "computing\n",
            "computing\n",
            "computing\n",
            "computing\n",
            "computing\n",
            "computing\n",
            "computing\n",
            "computing\n",
            "computing\n",
            "computing\n",
            "computing\n",
            "computing\n",
            "computing\n",
            "computing\n",
            "computing\n",
            "computing\n",
            "computing\n",
            "computing\n",
            "computing\n",
            "computing\n",
            "computing\n",
            "computing\n",
            "computing\n",
            "computing\n",
            "computing\n",
            "computing\n",
            "computing\n",
            "computing\n",
            "computing\n",
            "computing\n",
            "computing\n",
            "computing\n",
            "train Loss: 0.0124 Acc: 0.9542\n",
            "computing\n",
            "computing\n",
            "computing\n",
            "computing\n",
            "computing\n",
            "computing\n",
            "computing\n",
            "computing\n",
            "computing\n",
            "computing\n",
            "computing\n",
            "computing\n",
            "computing\n",
            "computing\n",
            "computing\n",
            "computing\n",
            "val Loss: 0.0839 Acc: 0.6875\n",
            "Epoch 5/10\n",
            "----------\n",
            "computing\n",
            "computing\n",
            "computing\n",
            "computing\n",
            "computing\n",
            "computing\n",
            "computing\n",
            "computing\n",
            "computing\n",
            "computing\n",
            "computing\n",
            "computing\n",
            "computing\n",
            "computing\n",
            "computing\n",
            "computing\n",
            "computing\n",
            "computing\n",
            "computing\n",
            "computing\n",
            "computing\n",
            "computing\n",
            "computing\n",
            "computing\n",
            "computing\n",
            "computing\n",
            "computing\n",
            "computing\n",
            "computing\n",
            "computing\n",
            "computing\n",
            "computing\n",
            "computing\n",
            "computing\n",
            "computing\n",
            "computing\n",
            "computing\n",
            "computing\n",
            "computing\n",
            "computing\n",
            "computing\n",
            "computing\n",
            "computing\n",
            "computing\n",
            "computing\n",
            "computing\n",
            "computing\n",
            "computing\n",
            "computing\n",
            "computing\n",
            "computing\n",
            "computing\n",
            "computing\n",
            "computing\n",
            "computing\n",
            "computing\n",
            "computing\n",
            "computing\n",
            "computing\n",
            "computing\n",
            "computing\n",
            "computing\n",
            "computing\n",
            "computing\n",
            "computing\n",
            "computing\n",
            "computing\n",
            "computing\n",
            "computing\n",
            "computing\n",
            "computing\n",
            "computing\n",
            "computing\n",
            "computing\n",
            "computing\n",
            "computing\n",
            "computing\n",
            "computing\n",
            "computing\n",
            "computing\n",
            "computing\n",
            "computing\n",
            "computing\n",
            "computing\n",
            "computing\n",
            "computing\n",
            "computing\n",
            "computing\n",
            "computing\n",
            "computing\n",
            "computing\n",
            "computing\n",
            "computing\n",
            "computing\n",
            "computing\n",
            "computing\n",
            "computing\n",
            "computing\n",
            "computing\n",
            "computing\n",
            "computing\n",
            "computing\n",
            "computing\n",
            "computing\n",
            "computing\n",
            "computing\n",
            "computing\n",
            "computing\n",
            "computing\n",
            "computing\n",
            "computing\n",
            "computing\n",
            "computing\n",
            "computing\n",
            "computing\n",
            "computing\n",
            "computing\n",
            "computing\n",
            "computing\n",
            "computing\n",
            "computing\n",
            "computing\n",
            "computing\n",
            "computing\n",
            "computing\n",
            "computing\n",
            "computing\n",
            "computing\n",
            "computing\n",
            "computing\n",
            "computing\n",
            "computing\n",
            "computing\n",
            "computing\n",
            "computing\n",
            "computing\n",
            "computing\n",
            "computing\n",
            "computing\n",
            "computing\n",
            "computing\n",
            "computing\n",
            "computing\n",
            "computing\n",
            "computing\n",
            "computing\n",
            "computing\n",
            "computing\n",
            "computing\n",
            "computing\n",
            "computing\n",
            "computing\n",
            "computing\n",
            "computing\n",
            "computing\n",
            "computing\n",
            "computing\n",
            "computing\n",
            "computing\n",
            "computing\n",
            "computing\n",
            "computing\n",
            "computing\n",
            "train Loss: 0.0099 Acc: 0.9659\n",
            "computing\n",
            "computing\n",
            "computing\n",
            "computing\n",
            "computing\n",
            "computing\n",
            "computing\n",
            "computing\n",
            "computing\n",
            "computing\n",
            "computing\n",
            "computing\n",
            "computing\n",
            "computing\n",
            "computing\n",
            "computing\n",
            "val Loss: 0.0631 Acc: 0.8750\n",
            "Epoch 6/10\n",
            "----------\n",
            "computing\n",
            "computing\n",
            "computing\n",
            "computing\n",
            "computing\n",
            "computing\n",
            "computing\n",
            "computing\n",
            "computing\n",
            "computing\n",
            "computing\n",
            "computing\n",
            "computing\n",
            "computing\n",
            "computing\n",
            "computing\n",
            "computing\n",
            "computing\n",
            "computing\n",
            "computing\n",
            "computing\n",
            "computing\n",
            "computing\n",
            "computing\n",
            "computing\n",
            "computing\n",
            "computing\n",
            "computing\n",
            "computing\n",
            "computing\n",
            "computing\n",
            "computing\n",
            "computing\n",
            "computing\n",
            "computing\n",
            "computing\n",
            "computing\n",
            "computing\n",
            "computing\n",
            "computing\n",
            "computing\n",
            "computing\n",
            "computing\n",
            "computing\n",
            "computing\n",
            "computing\n",
            "computing\n",
            "computing\n",
            "computing\n",
            "computing\n",
            "computing\n",
            "computing\n",
            "computing\n",
            "computing\n",
            "computing\n",
            "computing\n",
            "computing\n",
            "computing\n",
            "computing\n",
            "computing\n",
            "computing\n",
            "computing\n",
            "computing\n",
            "computing\n",
            "computing\n",
            "computing\n",
            "computing\n",
            "computing\n",
            "computing\n",
            "computing\n",
            "computing\n",
            "computing\n",
            "computing\n",
            "computing\n",
            "computing\n",
            "computing\n",
            "computing\n",
            "computing\n",
            "computing\n",
            "computing\n",
            "computing\n",
            "computing\n",
            "computing\n",
            "computing\n",
            "computing\n",
            "computing\n",
            "computing\n",
            "computing\n",
            "computing\n",
            "computing\n",
            "computing\n",
            "computing\n",
            "computing\n",
            "computing\n",
            "computing\n",
            "computing\n",
            "computing\n",
            "computing\n",
            "computing\n",
            "computing\n",
            "computing\n",
            "computing\n",
            "computing\n",
            "computing\n",
            "computing\n",
            "computing\n",
            "computing\n",
            "computing\n",
            "computing\n",
            "computing\n",
            "computing\n",
            "computing\n",
            "computing\n",
            "computing\n",
            "computing\n",
            "computing\n",
            "computing\n",
            "computing\n",
            "computing\n",
            "computing\n",
            "computing\n",
            "computing\n",
            "computing\n",
            "computing\n",
            "computing\n",
            "computing\n",
            "computing\n",
            "computing\n",
            "computing\n",
            "computing\n",
            "computing\n",
            "computing\n",
            "computing\n",
            "computing\n",
            "computing\n",
            "computing\n",
            "computing\n",
            "computing\n",
            "computing\n",
            "computing\n",
            "computing\n",
            "computing\n",
            "computing\n",
            "computing\n",
            "computing\n",
            "computing\n",
            "computing\n",
            "computing\n",
            "computing\n",
            "computing\n",
            "computing\n",
            "computing\n",
            "computing\n",
            "computing\n",
            "computing\n",
            "computing\n",
            "computing\n",
            "computing\n",
            "computing\n",
            "computing\n",
            "computing\n",
            "computing\n",
            "computing\n",
            "train Loss: 0.0087 Acc: 0.9689\n",
            "computing\n",
            "computing\n",
            "computing\n",
            "computing\n",
            "computing\n",
            "computing\n",
            "computing\n",
            "computing\n",
            "computing\n",
            "computing\n",
            "computing\n",
            "computing\n",
            "computing\n",
            "computing\n",
            "computing\n",
            "computing\n",
            "val Loss: 0.0403 Acc: 0.9375\n",
            "Epoch 7/10\n",
            "----------\n",
            "computing\n",
            "computing\n",
            "computing\n",
            "computing\n",
            "computing\n",
            "computing\n",
            "computing\n",
            "computing\n",
            "computing\n",
            "computing\n",
            "computing\n",
            "computing\n",
            "computing\n",
            "computing\n",
            "computing\n",
            "computing\n",
            "computing\n",
            "computing\n",
            "computing\n",
            "computing\n",
            "computing\n",
            "computing\n",
            "computing\n",
            "computing\n",
            "computing\n",
            "computing\n",
            "computing\n",
            "computing\n",
            "computing\n",
            "computing\n",
            "computing\n",
            "computing\n",
            "computing\n",
            "computing\n",
            "computing\n",
            "computing\n",
            "computing\n",
            "computing\n",
            "computing\n",
            "computing\n",
            "computing\n",
            "computing\n",
            "computing\n",
            "computing\n",
            "computing\n",
            "computing\n",
            "computing\n",
            "computing\n",
            "computing\n",
            "computing\n",
            "computing\n",
            "computing\n",
            "computing\n",
            "computing\n",
            "computing\n",
            "computing\n",
            "computing\n",
            "computing\n",
            "computing\n",
            "computing\n",
            "computing\n",
            "computing\n",
            "computing\n",
            "computing\n",
            "computing\n",
            "computing\n",
            "computing\n",
            "computing\n",
            "computing\n",
            "computing\n",
            "computing\n",
            "computing\n",
            "computing\n",
            "computing\n",
            "computing\n",
            "computing\n",
            "computing\n",
            "computing\n",
            "computing\n",
            "computing\n",
            "computing\n",
            "computing\n",
            "computing\n",
            "computing\n",
            "computing\n",
            "computing\n",
            "computing\n",
            "computing\n",
            "computing\n",
            "computing\n",
            "computing\n",
            "computing\n",
            "computing\n",
            "computing\n",
            "computing\n",
            "computing\n",
            "computing\n",
            "computing\n",
            "computing\n",
            "computing\n",
            "computing\n",
            "computing\n",
            "computing\n",
            "computing\n",
            "computing\n",
            "computing\n",
            "computing\n",
            "computing\n",
            "computing\n",
            "computing\n",
            "computing\n",
            "computing\n",
            "computing\n",
            "computing\n",
            "computing\n",
            "computing\n",
            "computing\n",
            "computing\n",
            "computing\n",
            "computing\n",
            "computing\n",
            "computing\n",
            "computing\n",
            "computing\n",
            "computing\n",
            "computing\n",
            "computing\n",
            "computing\n",
            "computing\n",
            "computing\n",
            "computing\n",
            "computing\n",
            "computing\n",
            "computing\n",
            "computing\n",
            "computing\n",
            "computing\n",
            "computing\n",
            "computing\n",
            "computing\n",
            "computing\n",
            "computing\n",
            "computing\n",
            "computing\n",
            "computing\n",
            "computing\n",
            "computing\n",
            "computing\n",
            "computing\n",
            "computing\n",
            "computing\n",
            "computing\n",
            "computing\n",
            "computing\n",
            "computing\n",
            "computing\n",
            "computing\n",
            "computing\n",
            "computing\n",
            "computing\n",
            "computing\n",
            "computing\n",
            "computing\n",
            "train Loss: 0.0075 Acc: 0.9741\n",
            "computing\n",
            "computing\n",
            "computing\n",
            "computing\n",
            "computing\n",
            "computing\n",
            "computing\n",
            "computing\n",
            "computing\n",
            "computing\n",
            "computing\n",
            "computing\n",
            "computing\n",
            "computing\n",
            "computing\n",
            "computing\n",
            "val Loss: 0.0794 Acc: 0.8125\n",
            "Epoch 8/10\n",
            "----------\n",
            "computing\n",
            "computing\n",
            "computing\n",
            "computing\n",
            "computing\n",
            "computing\n",
            "computing\n",
            "computing\n",
            "computing\n",
            "computing\n",
            "computing\n",
            "computing\n",
            "computing\n",
            "computing\n",
            "computing\n",
            "computing\n",
            "computing\n",
            "computing\n",
            "computing\n",
            "computing\n",
            "computing\n",
            "computing\n",
            "computing\n",
            "computing\n",
            "computing\n",
            "computing\n",
            "computing\n",
            "computing\n",
            "computing\n",
            "computing\n",
            "computing\n",
            "computing\n",
            "computing\n",
            "computing\n",
            "computing\n",
            "computing\n",
            "computing\n",
            "computing\n",
            "computing\n",
            "computing\n",
            "computing\n",
            "computing\n",
            "computing\n",
            "computing\n",
            "computing\n",
            "computing\n",
            "computing\n",
            "computing\n",
            "computing\n",
            "computing\n",
            "computing\n",
            "computing\n",
            "computing\n",
            "computing\n",
            "computing\n",
            "computing\n",
            "computing\n",
            "computing\n",
            "computing\n",
            "computing\n",
            "computing\n",
            "computing\n",
            "computing\n",
            "computing\n",
            "computing\n",
            "computing\n",
            "computing\n",
            "computing\n",
            "computing\n",
            "computing\n",
            "computing\n",
            "computing\n",
            "computing\n",
            "computing\n",
            "computing\n",
            "computing\n",
            "computing\n",
            "computing\n",
            "computing\n",
            "computing\n",
            "computing\n",
            "computing\n",
            "computing\n",
            "computing\n",
            "computing\n",
            "computing\n",
            "computing\n",
            "computing\n",
            "computing\n",
            "computing\n",
            "computing\n",
            "computing\n",
            "computing\n",
            "computing\n",
            "computing\n",
            "computing\n",
            "computing\n",
            "computing\n",
            "computing\n",
            "computing\n",
            "computing\n",
            "computing\n",
            "computing\n",
            "computing\n",
            "computing\n",
            "computing\n",
            "computing\n",
            "computing\n",
            "computing\n",
            "computing\n",
            "computing\n",
            "computing\n",
            "computing\n",
            "computing\n",
            "computing\n",
            "computing\n",
            "computing\n",
            "computing\n",
            "computing\n",
            "computing\n",
            "computing\n",
            "computing\n",
            "computing\n",
            "computing\n",
            "computing\n",
            "computing\n",
            "computing\n",
            "computing\n",
            "computing\n",
            "computing\n",
            "computing\n",
            "computing\n",
            "computing\n",
            "computing\n",
            "computing\n",
            "computing\n",
            "computing\n",
            "computing\n",
            "computing\n",
            "computing\n",
            "computing\n",
            "computing\n",
            "computing\n",
            "computing\n",
            "computing\n",
            "computing\n",
            "computing\n",
            "computing\n",
            "computing\n",
            "computing\n",
            "computing\n",
            "computing\n",
            "computing\n",
            "computing\n",
            "computing\n",
            "computing\n",
            "computing\n",
            "computing\n",
            "computing\n",
            "computing\n",
            "computing\n",
            "computing\n",
            "computing\n",
            "train Loss: 0.0066 Acc: 0.9762\n",
            "computing\n",
            "computing\n",
            "computing\n",
            "computing\n",
            "computing\n",
            "computing\n",
            "computing\n",
            "computing\n",
            "computing\n",
            "computing\n",
            "computing\n",
            "computing\n",
            "computing\n",
            "computing\n",
            "computing\n",
            "computing\n",
            "val Loss: 0.0421 Acc: 0.8750\n",
            "Epoch 9/10\n",
            "----------\n",
            "computing\n",
            "computing\n",
            "computing\n",
            "computing\n",
            "computing\n",
            "computing\n",
            "computing\n",
            "computing\n",
            "computing\n",
            "computing\n",
            "computing\n",
            "computing\n",
            "computing\n",
            "computing\n",
            "computing\n",
            "computing\n",
            "computing\n",
            "computing\n",
            "computing\n",
            "computing\n",
            "computing\n",
            "computing\n",
            "computing\n",
            "computing\n",
            "computing\n",
            "computing\n",
            "computing\n",
            "computing\n",
            "computing\n",
            "computing\n",
            "computing\n",
            "computing\n",
            "computing\n",
            "computing\n",
            "computing\n",
            "computing\n",
            "computing\n",
            "computing\n",
            "computing\n",
            "computing\n",
            "computing\n",
            "computing\n",
            "computing\n",
            "computing\n",
            "computing\n",
            "computing\n",
            "computing\n",
            "computing\n",
            "computing\n",
            "computing\n",
            "computing\n",
            "computing\n",
            "computing\n",
            "computing\n",
            "computing\n",
            "computing\n",
            "computing\n",
            "computing\n",
            "computing\n",
            "computing\n",
            "computing\n",
            "computing\n",
            "computing\n",
            "computing\n",
            "computing\n",
            "computing\n",
            "computing\n",
            "computing\n",
            "computing\n",
            "computing\n",
            "computing\n",
            "computing\n",
            "computing\n",
            "computing\n",
            "computing\n",
            "computing\n",
            "computing\n",
            "computing\n",
            "computing\n",
            "computing\n",
            "computing\n",
            "computing\n",
            "computing\n",
            "computing\n",
            "computing\n",
            "computing\n",
            "computing\n",
            "computing\n",
            "computing\n",
            "computing\n",
            "computing\n",
            "computing\n",
            "computing\n",
            "computing\n",
            "computing\n",
            "computing\n",
            "computing\n",
            "computing\n",
            "computing\n",
            "computing\n",
            "computing\n",
            "computing\n",
            "computing\n",
            "computing\n",
            "computing\n",
            "computing\n",
            "computing\n",
            "computing\n",
            "computing\n",
            "computing\n",
            "computing\n",
            "computing\n",
            "computing\n",
            "computing\n",
            "computing\n",
            "computing\n",
            "computing\n",
            "computing\n",
            "computing\n",
            "computing\n",
            "computing\n",
            "computing\n",
            "computing\n",
            "computing\n",
            "computing\n",
            "computing\n",
            "computing\n",
            "computing\n",
            "computing\n",
            "computing\n",
            "computing\n",
            "computing\n",
            "computing\n",
            "computing\n",
            "computing\n",
            "computing\n",
            "computing\n",
            "computing\n",
            "computing\n",
            "computing\n",
            "computing\n",
            "computing\n",
            "computing\n",
            "computing\n",
            "computing\n",
            "computing\n",
            "computing\n",
            "computing\n",
            "computing\n",
            "computing\n",
            "computing\n",
            "computing\n",
            "computing\n",
            "computing\n",
            "computing\n",
            "computing\n",
            "computing\n",
            "computing\n",
            "computing\n",
            "computing\n",
            "computing\n",
            "computing\n",
            "computing\n",
            "train Loss: 0.0062 Acc: 0.9780\n",
            "computing\n",
            "computing\n",
            "computing\n",
            "computing\n",
            "computing\n",
            "computing\n",
            "computing\n",
            "computing\n",
            "computing\n",
            "computing\n",
            "computing\n",
            "computing\n",
            "computing\n",
            "computing\n",
            "computing\n",
            "computing\n",
            "val Loss: 0.0374 Acc: 0.8750\n",
            "Epoch 10/10\n",
            "----------\n",
            "computing\n",
            "computing\n",
            "computing\n",
            "computing\n",
            "computing\n",
            "computing\n",
            "computing\n",
            "computing\n",
            "computing\n",
            "computing\n",
            "computing\n",
            "computing\n",
            "computing\n",
            "computing\n",
            "computing\n",
            "computing\n",
            "computing\n",
            "computing\n",
            "computing\n",
            "computing\n",
            "computing\n",
            "computing\n",
            "computing\n",
            "computing\n",
            "computing\n",
            "computing\n",
            "computing\n",
            "computing\n",
            "computing\n",
            "computing\n",
            "computing\n",
            "computing\n",
            "computing\n",
            "computing\n",
            "computing\n",
            "computing\n",
            "computing\n",
            "computing\n",
            "computing\n",
            "computing\n",
            "computing\n",
            "computing\n",
            "computing\n",
            "computing\n",
            "computing\n",
            "computing\n",
            "computing\n",
            "computing\n",
            "computing\n",
            "computing\n",
            "computing\n",
            "computing\n",
            "computing\n",
            "computing\n",
            "computing\n",
            "computing\n",
            "computing\n",
            "computing\n",
            "computing\n",
            "computing\n",
            "computing\n",
            "computing\n",
            "computing\n",
            "computing\n",
            "computing\n",
            "computing\n",
            "computing\n",
            "computing\n",
            "computing\n",
            "computing\n",
            "computing\n",
            "computing\n",
            "computing\n",
            "computing\n",
            "computing\n",
            "computing\n",
            "computing\n",
            "computing\n",
            "computing\n",
            "computing\n",
            "computing\n",
            "computing\n",
            "computing\n",
            "computing\n",
            "computing\n",
            "computing\n",
            "computing\n",
            "computing\n",
            "computing\n",
            "computing\n",
            "computing\n",
            "computing\n",
            "computing\n",
            "computing\n",
            "computing\n",
            "computing\n",
            "computing\n",
            "computing\n",
            "computing\n",
            "computing\n",
            "computing\n",
            "computing\n",
            "computing\n",
            "computing\n",
            "computing\n",
            "computing\n",
            "computing\n",
            "computing\n",
            "computing\n",
            "computing\n",
            "computing\n",
            "computing\n",
            "computing\n",
            "computing\n",
            "computing\n",
            "computing\n",
            "computing\n",
            "computing\n",
            "computing\n",
            "computing\n",
            "computing\n",
            "computing\n",
            "computing\n",
            "computing\n",
            "computing\n",
            "computing\n",
            "computing\n",
            "computing\n",
            "computing\n",
            "computing\n",
            "computing\n",
            "computing\n",
            "computing\n",
            "computing\n",
            "computing\n",
            "computing\n",
            "computing\n",
            "computing\n",
            "computing\n",
            "computing\n",
            "computing\n",
            "computing\n",
            "computing\n",
            "computing\n",
            "computing\n",
            "computing\n",
            "computing\n",
            "computing\n",
            "computing\n",
            "computing\n",
            "computing\n",
            "computing\n",
            "computing\n",
            "computing\n",
            "computing\n",
            "computing\n",
            "computing\n",
            "computing\n",
            "computing\n",
            "computing\n",
            "computing\n",
            "computing\n",
            "computing\n",
            "train Loss: 0.0057 Acc: 0.9818\n",
            "computing\n",
            "computing\n",
            "computing\n",
            "computing\n",
            "computing\n",
            "computing\n",
            "computing\n",
            "computing\n",
            "computing\n",
            "computing\n",
            "computing\n",
            "computing\n",
            "computing\n",
            "computing\n",
            "computing\n",
            "computing\n",
            "val Loss: 0.0646 Acc: 0.8750\n",
            "Best val Acc: 0.937500\n"
          ]
        }
      ]
    },
    {
      "cell_type": "markdown",
      "source": [
        "## Train AlexNet"
      ],
      "metadata": {
        "id": "5Ulo0voFBydr"
      }
    },
    {
      "cell_type": "code",
      "execution_count": null,
      "metadata": {
        "id": "XngdX7EW3W6b",
        "outputId": "667b03e0-f8b1-4ff8-a0a4-96871f4593ae"
      },
      "outputs": [
        {
          "name": "stdout",
          "output_type": "stream",
          "text": [
            "Epoch 1/10\n",
            "----------\n",
            "train Loss: 0.1309 Acc: 0.9513\n",
            "val Loss: 0.0676 Acc: 1.0000\n",
            "Epoch 2/10\n",
            "----------\n",
            "train Loss: 0.0861 Acc: 0.9701\n",
            "val Loss: 0.2003 Acc: 0.9375\n",
            "Epoch 3/10\n",
            "----------\n",
            "train Loss: 0.0589 Acc: 0.9766\n",
            "val Loss: 0.3566 Acc: 0.8125\n",
            "Epoch 4/10\n",
            "----------\n",
            "train Loss: 0.0489 Acc: 0.9810\n",
            "val Loss: 0.1375 Acc: 0.9375\n",
            "Epoch 5/10\n",
            "----------\n",
            "train Loss: 0.0309 Acc: 0.9881\n",
            "val Loss: 0.3392 Acc: 0.8125\n",
            "Epoch 6/10\n",
            "----------\n",
            "train Loss: 0.0378 Acc: 0.9862\n",
            "val Loss: 0.3410 Acc: 0.8125\n",
            "Epoch 7/10\n",
            "----------\n",
            "train Loss: 0.0233 Acc: 0.9916\n",
            "val Loss: 1.7486 Acc: 0.5625\n",
            "Epoch 8/10\n",
            "----------\n",
            "train Loss: 0.0308 Acc: 0.9887\n",
            "val Loss: 0.2868 Acc: 0.8750\n",
            "Epoch 9/10\n",
            "----------\n",
            "train Loss: 0.0289 Acc: 0.9881\n",
            "val Loss: 0.2115 Acc: 0.9375\n",
            "Epoch 10/10\n",
            "----------\n",
            "train Loss: 0.0301 Acc: 0.9883\n",
            "val Loss: 0.1035 Acc: 0.9375\n",
            "Best val Acc: 1.000000\n"
          ]
        }
      ],
      "source": [
        "import torch\n",
        "import torchvision.models as models\n",
        "import torch.nn as nn\n",
        "import torch.optim as optim\n",
        "from torch.optim import lr_scheduler\n",
        "from torchvision import transforms\n",
        "\n",
        "# Load AlexNet pre-trained on ImageNet\n",
        "model_pre = models.alexnet(pretrained=True)\n",
        "\n",
        "# Freeze the pre-trained parameters\n",
        "for param in model_pre.parameters():\n",
        "    param.requires_grad = False\n",
        "\n",
        "# Replace the classifier (fully connected layers) with a custom one\n",
        "model_pre.classifier = nn.Sequential(\n",
        "    nn.Linear(256 * 6 * 6, 4096),\n",
        "    nn.ReLU(inplace=True),\n",
        "    nn.Dropout(p=0.5),\n",
        "    nn.Linear(4096, 1024),\n",
        "    nn.ReLU(inplace=True),\n",
        "    nn.Dropout(p=0.5),\n",
        "    nn.Linear(1024, 2)  # Output layer for 2 classes (adjust based on your task)\n",
        ").to(device)\n",
        "num_epochs = 10\n",
        "\n",
        "# Define loss function, optimizer, and learning rate scheduler\n",
        "criterion = nn.CrossEntropyLoss()\n",
        "optimizer = optim.Adam(model_pre.parameters(), lr=0.0001, eps = 0.0001/num_epochs)\n",
        "exp_lr_scheduler = lr_scheduler.StepLR(optimizer, step_size=10, gamma=0.1)\n",
        "\n",
        "# Optionally, unfreeze the classifier parameters for fine-tuning\n",
        "for param in model_pre.classifier.parameters():\n",
        "    param.requires_grad = True\n",
        "\n",
        "# Move the model to the appropriate device (e.g., GPU)\n",
        "model_pre = model_pre.to(device)\n",
        "\n",
        "# Define a function to train the model (implementation not provided)\n",
        "model_pre = train_model(model_pre, criterion, optimizer, exp_lr_scheduler, num_epochs=EPOCHS)\n"
      ]
    },
    {
      "cell_type": "markdown",
      "source": [
        "## Train VGG16"
      ],
      "metadata": {
        "id": "7yqWuQB1B2Pa"
      }
    },
    {
      "cell_type": "code",
      "execution_count": null,
      "metadata": {
        "id": "UHl0ZF4w3W6b",
        "outputId": "e517abc6-410a-407d-ba91-2d0553e12500"
      },
      "outputs": [
        {
          "name": "stdout",
          "output_type": "stream",
          "text": [
            "Epoch 1/10\n",
            "----------\n",
            "train Loss: 0.1548 Acc: 0.9358\n",
            "val Loss: 0.3798 Acc: 0.7500\n",
            "Epoch 2/10\n",
            "----------\n",
            "train Loss: 0.0691 Acc: 0.9751\n",
            "val Loss: 0.1809 Acc: 0.9375\n",
            "Epoch 3/10\n",
            "----------\n",
            "train Loss: 0.0439 Acc: 0.9864\n",
            "val Loss: 0.1499 Acc: 0.9375\n",
            "Epoch 4/10\n",
            "----------\n",
            "train Loss: 0.0336 Acc: 0.9879\n",
            "val Loss: 0.2549 Acc: 0.9375\n",
            "Epoch 5/10\n",
            "----------\n",
            "train Loss: 0.0251 Acc: 0.9918\n",
            "val Loss: 0.2171 Acc: 0.9375\n",
            "Epoch 6/10\n",
            "----------\n",
            "train Loss: 0.0204 Acc: 0.9918\n",
            "val Loss: 0.2302 Acc: 0.9375\n",
            "Epoch 7/10\n",
            "----------\n",
            "train Loss: 0.0250 Acc: 0.9914\n",
            "val Loss: 0.4227 Acc: 0.8750\n",
            "Epoch 8/10\n",
            "----------\n",
            "train Loss: 0.0154 Acc: 0.9958\n",
            "val Loss: 0.5636 Acc: 0.8750\n",
            "Epoch 9/10\n",
            "----------\n",
            "train Loss: 0.0161 Acc: 0.9927\n",
            "val Loss: 0.5792 Acc: 0.8750\n",
            "Epoch 10/10\n",
            "----------\n",
            "train Loss: 0.0098 Acc: 0.9969\n",
            "val Loss: 0.4648 Acc: 0.8750\n",
            "Best val Acc: 0.937500\n"
          ]
        }
      ],
      "source": [
        "import torch\n",
        "import torch.nn as nn\n",
        "import torch.optim as optim\n",
        "from torchvision import models\n",
        "from torch.optim import lr_scheduler\n",
        "\n",
        "# Load VGG pre-trained on ImageNet\n",
        "model_pre = models.vgg16(pretrained=True)\n",
        "\n",
        "# Freeze the pre-trained parameters\n",
        "for param in model_pre.parameters():\n",
        "    param.requires_grad = False\n",
        "\n",
        "# Replace the classifier (fully connected layers) with a custom one\n",
        "num_features = model_pre.classifier[6].in_features\n",
        "model_pre.classifier[6] = nn.Sequential(\n",
        "    nn.Linear(num_features, 4096),\n",
        "    nn.ReLU(inplace=True),\n",
        "    nn.Dropout(p=0.5),\n",
        "    nn.Linear(4096, 1024),\n",
        "    nn.ReLU(inplace=True),\n",
        "    nn.Dropout(p=0.5),\n",
        "    nn.Linear(1024, 2)  # Output layer for 2 classes (adjust based on your task)\n",
        ")\n",
        "\n",
        "num_epochs = 10\n",
        "\n",
        "# Define loss function, optimizer, and learning rate scheduler\n",
        "criterion = nn.CrossEntropyLoss()\n",
        "optimizer = optim.Adam(model_pre.parameters(), lr=0.0001)\n",
        "exp_lr_scheduler = lr_scheduler.StepLR(optimizer, step_size=10, gamma=0.1)\n",
        "\n",
        "# Optionally, unfreeze the classifier parameters for fine-tuning\n",
        "for param in model_pre.classifier.parameters():\n",
        "    param.requires_grad = True\n",
        "\n",
        "# Move the model to the appropriate device (e.g., GPU)\n",
        "\n",
        "# Define a function to train the model (implementation not provided)\n",
        "model_pre = train_model(model_pre, criterion, optimizer, exp_lr_scheduler, num_epochs=num_epochs)\n"
      ]
    },
    {
      "cell_type": "markdown",
      "source": [
        "**Task 1b - Classification healthy, bacterial and viral Xray Imaging  🌵**\n"
      ],
      "metadata": {
        "id": "lbejmh9yvbC0"
      }
    },
    {
      "cell_type": "markdown",
      "source": [
        "# Task 1.b - Classification of healthy/bacterial pneumonia/viral pneumonia"
      ],
      "metadata": {
        "id": "WlykNxhLqK_0"
      }
    },
    {
      "cell_type": "markdown",
      "source": [
        "## Revision For 3 classes - Modifiy Dataloader and Model Architecture"
      ],
      "metadata": {
        "id": "Xl0sMbtDweJG"
      }
    },
    {
      "cell_type": "code",
      "source": [
        "# Model architecture (pretrain from 1a)\n",
        "class ResNet3Classes(nn.Module):\n",
        "    def __init__(self, pretrained_model):\n",
        "        super(ResNet3Classes, self).__init__()\n",
        "        self.pretrained = pretrained_model\n",
        "        # Remove the last layer (classifier) to get the embeddings\n",
        "        self.features = nn.Sequential(*list(pretrained_model.children())[:-1])\n",
        "        self.fc = nn.Sequential(\n",
        "            nn.Linear(512, 128),\n",
        "            nn.ReLU(inplace=True),\n",
        "            nn.Linear(128, 3)).to(device)\n",
        "\n",
        "\n",
        "    def forward(self, x):\n",
        "        x = self.features(x)\n",
        "        x = x.view(-1,512)\n",
        "        x = self.fc(x)  # Flatten the features\n",
        "        return x"
      ],
      "metadata": {
        "id": "4UVX7jMwksxw"
      },
      "execution_count": null,
      "outputs": []
    },
    {
      "cell_type": "code",
      "source": [
        "# Define New Dataloader for 3 classes, add one more label: \"Normal\" - label 0, \"Virus\" - label 1, for \"bacteria\": label 2\n",
        "class CustomDataset(Dataset):\n",
        "    def __init__(self, root_dir, transform=None):\n",
        "        \"\"\"\n",
        "        Args:\n",
        "            root_dir (string): Directory with all the images.\n",
        "            transform (callable, optional): Optional transform to be applied on a sample.\n",
        "        \"\"\"\n",
        "        self.root_dir = root_dir\n",
        "        self.transform = transform\n",
        "        self.images = []\n",
        "        self.labels = []\n",
        "\n",
        "        # Loop through each folder and file, assigning labels based on the criteria\n",
        "        for subdir, dirs, files in os.walk(root_dir):\n",
        "            for file in files:\n",
        "                if file.lower().endswith(('.png', '.jpg', '.jpeg')):\n",
        "                    self.images.append(os.path.join(subdir, file))\n",
        "                    if 'NORMAL' in subdir:\n",
        "                        self.labels.append(0)  # Normal\n",
        "                    elif 'virus' in file.lower():\n",
        "                        self.labels.append(1)  # Virus\n",
        "                    elif 'bacteria' in file.lower():\n",
        "                        self.labels.append(2)  # Bacteria\n",
        "\n",
        "    def __len__(self):\n",
        "        return len(self.images)\n",
        "\n",
        "    def __getitem__(self, idx):\n",
        "        img_name = self.images[idx]\n",
        "        image = Image.open(img_name)\n",
        "\n",
        "        if self.transform:\n",
        "            image = self.transform(image)\n",
        "\n",
        "        label = self.labels[idx]\n",
        "        return image, label"
      ],
      "metadata": {
        "id": "uI4sCIuCwLJ4"
      },
      "execution_count": null,
      "outputs": []
    },
    {
      "cell_type": "code",
      "source": [
        "data_transform = transforms.Compose([\n",
        "    transforms.Resize(256),\n",
        "    transforms.CenterCrop(224),\n",
        "    transforms.Grayscale(num_output_channels=3),  # Add this line if you need to convert grayscale to RGB\n",
        "    transforms.ToTensor(),\n",
        "    transforms.Normalize([0.485, 0.456, 0.406], [0.229, 0.224, 0.225]),\n",
        "])"
      ],
      "metadata": {
        "id": "C4pSWzsQwpzF"
      },
      "execution_count": null,
      "outputs": []
    },
    {
      "cell_type": "code",
      "source": [
        "image_datasets = {\n",
        "    TRAIN: CustomDataset(os.path.join(data_dir, TRAIN), transform=data_transform),\n",
        "    VAL: CustomDataset(os.path.join(data_dir, VAL), transform=data_transform),\n",
        "    TEST: CustomDataset(os.path.join(data_dir, TEST), transform=data_transform)\n",
        "}\n",
        "\n",
        "dataloaders = {\n",
        "    TRAIN: torch.utils.data.DataLoader(image_datasets[TRAIN], batch_size=64, shuffle=True),\n",
        "    VAL: torch.utils.data.DataLoader(image_datasets[VAL], batch_size=1, shuffle=True),\n",
        "    TEST: torch.utils.data.DataLoader(image_datasets[TEST], batch_size=1, shuffle=True)\n",
        "}\n",
        "\n",
        "dataset_sizes = {\n",
        "    x: len(image_datasets[x])\n",
        "    for x in [TRAIN, VAL]\n",
        "}"
      ],
      "metadata": {
        "id": "EVLRFPJ9wxd9"
      },
      "execution_count": null,
      "outputs": []
    },
    {
      "cell_type": "markdown",
      "source": [
        "## ResNet Training 3 classes"
      ],
      "metadata": {
        "id": "5YYI0LoYWUIv"
      }
    },
    {
      "cell_type": "code",
      "source": [
        "# Change Model Architecture for 3 neurons output\n",
        "model_pre = models.resnet18(pretrained=True)\n",
        "\n",
        "for param in model_pre.parameters():\n",
        "    param.requires_grad = True\n",
        "\n",
        "model_pre.fc = nn.Sequential(\n",
        "    nn.Linear(512, 128),\n",
        "    nn.ReLU(inplace=True),\n",
        "    nn.Linear(128, 3)).to(device)"
      ],
      "metadata": {
        "id": "GgAZpPGrw8PQ",
        "colab": {
          "base_uri": "https://localhost:8080/"
        },
        "outputId": "30e1fb0a-cf0b-45f0-ddf8-d2e19e2a467d"
      },
      "execution_count": null,
      "outputs": [
        {
          "output_type": "stream",
          "name": "stderr",
          "text": [
            "/usr/local/lib/python3.10/dist-packages/torchvision/models/_utils.py:208: UserWarning: The parameter 'pretrained' is deprecated since 0.13 and may be removed in the future, please use 'weights' instead.\n",
            "  warnings.warn(\n",
            "/usr/local/lib/python3.10/dist-packages/torchvision/models/_utils.py:223: UserWarning: Arguments other than a weight enum or `None` for 'weights' are deprecated since 0.13 and may be removed in the future. The current behavior is equivalent to passing `weights=ResNet18_Weights.IMAGENET1K_V1`. You can also use `weights=ResNet18_Weights.DEFAULT` to get the most up-to-date weights.\n",
            "  warnings.warn(msg)\n"
          ]
        }
      ]
    },
    {
      "cell_type": "code",
      "source": [
        "# Choose if load pretrained or start new training\n",
        "INFERENCE = False\n",
        "\n",
        "if INFERENCE:\n",
        "    model_pre = models.resnet18(pretrained=True)\n",
        "    model_pre.fc = nn.Sequential(\n",
        "        nn.Linear(512, 128),\n",
        "        nn.ReLU(inplace=True),\n",
        "        nn.Linear(128, 2)).to(device)\n",
        "    model_pre = ResNet3Classes(model_pre)\n",
        "    checkpoint_path = os.path.join(pre_train_dir, 'epoch_10_winning_1b.pth')\n",
        "    checkpoint = torch.load(checkpoint_path)\n",
        "    model_pre.load_state_dict(checkpoint)\n",
        "    for param in model_pre.parameters():\n",
        "        param.requires_grad = False\n",
        "    model_pre.eval()\n",
        "else:\n",
        "    model_pre = models.resnet18(pretrained=True)\n",
        "    model_pre.fc = nn.Sequential(\n",
        "        nn.Linear(512, 128),\n",
        "        nn.ReLU(inplace=True),\n",
        "        nn.Linear(128, 2)).to(device)\n",
        "    checkpoint = torch.load(os.path.join(pre_train_dir, 'epoch_7_winning_1a.pth'))\n",
        "    model_pre.load_state_dict(checkpoint)\n",
        "    for param in model_pre.parameters():\n",
        "        param.requires_grad = False\n",
        "    model_pre = ResNet3Classes(model_pre)\n",
        "\n",
        "model_pre = model_pre.to(device)\n"
      ],
      "metadata": {
        "id": "HWDoOiTLlOsx"
      },
      "execution_count": null,
      "outputs": []
    },
    {
      "cell_type": "code",
      "source": [
        "# Optimizer\n",
        "criterion = nn.CrossEntropyLoss()\n",
        "optimizer = optim.SGD(model_pre.parameters(), lr=0.0001, momentum=0.9, weight_decay=0.01)\n",
        "# Decay LR by a factor of 0.1 every 10 epochs\n",
        "exp_lr_scheduler = optim.lr_scheduler.StepLR(optimizer, step_size=10, gamma=0.1)"
      ],
      "metadata": {
        "id": "PpVM0MH9nGJd"
      },
      "execution_count": null,
      "outputs": []
    },
    {
      "cell_type": "code",
      "source": [
        "model_pre = train_model(model_pre, criterion, optimizer, exp_lr_scheduler, num_epochs=EPOCHS)\n"
      ],
      "metadata": {
        "id": "CWjpjxljxI_i",
        "colab": {
          "base_uri": "https://localhost:8080/"
        },
        "outputId": "92281948-09c8-4984-bd53-a9895e86096e"
      },
      "execution_count": null,
      "outputs": [
        {
          "output_type": "stream",
          "name": "stdout",
          "text": [
            "Epoch 1/10\n",
            "----------\n",
            "computing\n",
            "computing\n",
            "computing\n",
            "computing\n",
            "computing\n",
            "computing\n",
            "computing\n",
            "computing\n",
            "computing\n",
            "computing\n",
            "computing\n",
            "computing\n",
            "computing\n",
            "computing\n",
            "computing\n",
            "computing\n",
            "computing\n",
            "computing\n",
            "computing\n",
            "computing\n",
            "computing\n",
            "computing\n",
            "computing\n",
            "computing\n",
            "computing\n",
            "computing\n",
            "computing\n",
            "computing\n",
            "computing\n",
            "computing\n",
            "computing\n",
            "computing\n",
            "computing\n",
            "computing\n",
            "computing\n",
            "computing\n",
            "computing\n",
            "computing\n",
            "computing\n",
            "computing\n",
            "computing\n",
            "computing\n",
            "computing\n",
            "computing\n",
            "computing\n",
            "computing\n",
            "computing\n",
            "computing\n",
            "computing\n",
            "computing\n",
            "computing\n",
            "computing\n",
            "computing\n",
            "computing\n",
            "computing\n",
            "computing\n",
            "computing\n",
            "computing\n",
            "computing\n",
            "computing\n",
            "computing\n",
            "computing\n",
            "computing\n",
            "computing\n",
            "computing\n",
            "computing\n",
            "computing\n",
            "computing\n",
            "computing\n",
            "computing\n",
            "computing\n",
            "computing\n",
            "computing\n",
            "computing\n",
            "computing\n",
            "computing\n",
            "computing\n",
            "computing\n",
            "computing\n",
            "computing\n",
            "computing\n",
            "computing\n",
            "train Loss: 1.0331 Acc: 0.5226\n",
            "computing\n",
            "computing\n",
            "computing\n",
            "computing\n",
            "computing\n",
            "computing\n",
            "computing\n",
            "computing\n",
            "computing\n",
            "computing\n",
            "computing\n",
            "computing\n",
            "computing\n",
            "computing\n",
            "computing\n",
            "computing\n",
            "val Loss: 0.9403 Acc: 0.5625\n",
            "Epoch 2/10\n",
            "----------\n",
            "computing\n",
            "computing\n",
            "computing\n",
            "computing\n",
            "computing\n",
            "computing\n",
            "computing\n",
            "computing\n",
            "computing\n",
            "computing\n",
            "computing\n",
            "computing\n",
            "computing\n",
            "computing\n",
            "computing\n",
            "computing\n",
            "computing\n",
            "computing\n",
            "computing\n",
            "computing\n",
            "computing\n",
            "computing\n",
            "computing\n",
            "computing\n",
            "computing\n",
            "computing\n",
            "computing\n",
            "computing\n",
            "computing\n",
            "computing\n",
            "computing\n",
            "computing\n",
            "computing\n",
            "computing\n",
            "computing\n",
            "computing\n",
            "computing\n",
            "computing\n",
            "computing\n",
            "computing\n",
            "computing\n",
            "computing\n",
            "computing\n",
            "computing\n",
            "computing\n",
            "computing\n",
            "computing\n",
            "computing\n",
            "computing\n",
            "computing\n",
            "computing\n",
            "computing\n",
            "computing\n",
            "computing\n",
            "computing\n",
            "computing\n",
            "computing\n",
            "computing\n",
            "computing\n",
            "computing\n",
            "computing\n",
            "computing\n",
            "computing\n",
            "computing\n",
            "computing\n",
            "computing\n",
            "computing\n",
            "computing\n",
            "computing\n",
            "computing\n",
            "computing\n",
            "computing\n",
            "computing\n",
            "computing\n",
            "computing\n",
            "computing\n",
            "computing\n",
            "computing\n",
            "computing\n",
            "computing\n",
            "computing\n",
            "computing\n",
            "train Loss: 0.9011 Acc: 0.6950\n",
            "computing\n",
            "computing\n",
            "computing\n",
            "computing\n",
            "computing\n",
            "computing\n",
            "computing\n",
            "computing\n",
            "computing\n",
            "computing\n",
            "computing\n",
            "computing\n",
            "computing\n",
            "computing\n",
            "computing\n",
            "computing\n",
            "val Loss: 0.8551 Acc: 0.6875\n",
            "Epoch 3/10\n",
            "----------\n",
            "computing\n",
            "computing\n",
            "computing\n",
            "computing\n",
            "computing\n",
            "computing\n",
            "computing\n",
            "computing\n",
            "computing\n",
            "computing\n",
            "computing\n",
            "computing\n",
            "computing\n",
            "computing\n",
            "computing\n",
            "computing\n",
            "computing\n",
            "computing\n",
            "computing\n",
            "computing\n",
            "computing\n",
            "computing\n",
            "computing\n",
            "computing\n",
            "computing\n",
            "computing\n",
            "computing\n",
            "computing\n",
            "computing\n",
            "computing\n",
            "computing\n",
            "computing\n",
            "computing\n",
            "computing\n",
            "computing\n",
            "computing\n",
            "computing\n",
            "computing\n",
            "computing\n",
            "computing\n",
            "computing\n",
            "computing\n",
            "computing\n",
            "computing\n",
            "computing\n",
            "computing\n",
            "computing\n",
            "computing\n",
            "computing\n",
            "computing\n",
            "computing\n",
            "computing\n",
            "computing\n",
            "computing\n",
            "computing\n",
            "computing\n",
            "computing\n",
            "computing\n",
            "computing\n",
            "computing\n",
            "computing\n",
            "computing\n",
            "computing\n",
            "computing\n",
            "computing\n",
            "computing\n",
            "computing\n",
            "computing\n",
            "computing\n",
            "computing\n",
            "computing\n",
            "computing\n",
            "computing\n",
            "computing\n",
            "computing\n",
            "computing\n",
            "computing\n",
            "computing\n",
            "computing\n",
            "computing\n",
            "computing\n",
            "computing\n",
            "train Loss: 0.8174 Acc: 0.7203\n",
            "computing\n",
            "computing\n",
            "computing\n",
            "computing\n",
            "computing\n",
            "computing\n",
            "computing\n",
            "computing\n",
            "computing\n",
            "computing\n",
            "computing\n",
            "computing\n",
            "computing\n",
            "computing\n",
            "computing\n",
            "computing\n",
            "val Loss: 0.8084 Acc: 0.6875\n",
            "Epoch 4/10\n",
            "----------\n",
            "computing\n",
            "computing\n",
            "computing\n",
            "computing\n",
            "computing\n",
            "computing\n",
            "computing\n",
            "computing\n",
            "computing\n",
            "computing\n",
            "computing\n",
            "computing\n",
            "computing\n",
            "computing\n",
            "computing\n",
            "computing\n",
            "computing\n",
            "computing\n",
            "computing\n",
            "computing\n",
            "computing\n",
            "computing\n",
            "computing\n",
            "computing\n",
            "computing\n",
            "computing\n",
            "computing\n",
            "computing\n",
            "computing\n",
            "computing\n",
            "computing\n",
            "computing\n",
            "computing\n",
            "computing\n",
            "computing\n",
            "computing\n",
            "computing\n",
            "computing\n",
            "computing\n",
            "computing\n",
            "computing\n",
            "computing\n",
            "computing\n",
            "computing\n",
            "computing\n",
            "computing\n",
            "computing\n",
            "computing\n",
            "computing\n",
            "computing\n",
            "computing\n",
            "computing\n",
            "computing\n",
            "computing\n",
            "computing\n",
            "computing\n",
            "computing\n",
            "computing\n",
            "computing\n",
            "computing\n",
            "computing\n",
            "computing\n",
            "computing\n",
            "computing\n",
            "computing\n",
            "computing\n",
            "computing\n",
            "computing\n",
            "computing\n",
            "computing\n",
            "computing\n",
            "computing\n",
            "computing\n",
            "computing\n",
            "computing\n",
            "computing\n",
            "computing\n",
            "computing\n",
            "computing\n",
            "computing\n",
            "computing\n",
            "computing\n",
            "train Loss: 0.7496 Acc: 0.7281\n",
            "computing\n",
            "computing\n",
            "computing\n",
            "computing\n",
            "computing\n",
            "computing\n",
            "computing\n",
            "computing\n",
            "computing\n",
            "computing\n",
            "computing\n",
            "computing\n",
            "computing\n",
            "computing\n",
            "computing\n",
            "computing\n",
            "val Loss: 0.7875 Acc: 0.6875\n",
            "Epoch 5/10\n",
            "----------\n",
            "computing\n",
            "computing\n",
            "computing\n",
            "computing\n",
            "computing\n",
            "computing\n",
            "computing\n",
            "computing\n",
            "computing\n",
            "computing\n",
            "computing\n",
            "computing\n",
            "computing\n",
            "computing\n",
            "computing\n",
            "computing\n",
            "computing\n",
            "computing\n",
            "computing\n",
            "computing\n",
            "computing\n",
            "computing\n",
            "computing\n",
            "computing\n",
            "computing\n",
            "computing\n",
            "computing\n",
            "computing\n",
            "computing\n",
            "computing\n",
            "computing\n",
            "computing\n",
            "computing\n",
            "computing\n",
            "computing\n",
            "computing\n",
            "computing\n",
            "computing\n",
            "computing\n",
            "computing\n",
            "computing\n",
            "computing\n",
            "computing\n",
            "computing\n",
            "computing\n",
            "computing\n",
            "computing\n",
            "computing\n",
            "computing\n",
            "computing\n",
            "computing\n",
            "computing\n",
            "computing\n",
            "computing\n",
            "computing\n",
            "computing\n",
            "computing\n",
            "computing\n",
            "computing\n",
            "computing\n",
            "computing\n",
            "computing\n",
            "computing\n",
            "computing\n",
            "computing\n",
            "computing\n",
            "computing\n",
            "computing\n",
            "computing\n",
            "computing\n",
            "computing\n",
            "computing\n",
            "computing\n",
            "computing\n",
            "computing\n",
            "computing\n",
            "computing\n",
            "computing\n",
            "computing\n",
            "computing\n",
            "computing\n",
            "computing\n",
            "train Loss: 0.6955 Acc: 0.7312\n",
            "computing\n",
            "computing\n",
            "computing\n",
            "computing\n",
            "computing\n",
            "computing\n",
            "computing\n",
            "computing\n",
            "computing\n",
            "computing\n",
            "computing\n",
            "computing\n",
            "computing\n",
            "computing\n",
            "computing\n",
            "computing\n",
            "val Loss: 0.7710 Acc: 0.7500\n",
            "Epoch 6/10\n",
            "----------\n",
            "computing\n",
            "computing\n",
            "computing\n",
            "computing\n",
            "computing\n",
            "computing\n",
            "computing\n",
            "computing\n",
            "computing\n",
            "computing\n",
            "computing\n",
            "computing\n",
            "computing\n",
            "computing\n",
            "computing\n",
            "computing\n",
            "computing\n",
            "computing\n",
            "computing\n",
            "computing\n",
            "computing\n",
            "computing\n",
            "computing\n",
            "computing\n",
            "computing\n",
            "computing\n",
            "computing\n",
            "computing\n",
            "computing\n",
            "computing\n",
            "computing\n",
            "computing\n",
            "computing\n",
            "computing\n",
            "computing\n",
            "computing\n",
            "computing\n",
            "computing\n",
            "computing\n",
            "computing\n",
            "computing\n",
            "computing\n",
            "computing\n",
            "computing\n",
            "computing\n",
            "computing\n",
            "computing\n",
            "computing\n",
            "computing\n",
            "computing\n",
            "computing\n",
            "computing\n",
            "computing\n",
            "computing\n",
            "computing\n",
            "computing\n",
            "computing\n",
            "computing\n",
            "computing\n",
            "computing\n",
            "computing\n",
            "computing\n",
            "computing\n",
            "computing\n",
            "computing\n",
            "computing\n",
            "computing\n",
            "computing\n",
            "computing\n",
            "computing\n",
            "computing\n",
            "computing\n",
            "computing\n",
            "computing\n",
            "computing\n",
            "computing\n",
            "computing\n",
            "computing\n",
            "computing\n",
            "computing\n",
            "computing\n",
            "computing\n",
            "train Loss: 0.6568 Acc: 0.7320\n",
            "computing\n",
            "computing\n",
            "computing\n",
            "computing\n",
            "computing\n",
            "computing\n",
            "computing\n",
            "computing\n",
            "computing\n",
            "computing\n",
            "computing\n",
            "computing\n",
            "computing\n",
            "computing\n",
            "computing\n",
            "computing\n",
            "val Loss: 0.7813 Acc: 0.7500\n",
            "Epoch 7/10\n",
            "----------\n",
            "computing\n",
            "computing\n",
            "computing\n",
            "computing\n",
            "computing\n",
            "computing\n",
            "computing\n",
            "computing\n",
            "computing\n",
            "computing\n",
            "computing\n",
            "computing\n",
            "computing\n",
            "computing\n",
            "computing\n",
            "computing\n",
            "computing\n",
            "computing\n",
            "computing\n",
            "computing\n",
            "computing\n",
            "computing\n",
            "computing\n",
            "computing\n",
            "computing\n",
            "computing\n",
            "computing\n",
            "computing\n",
            "computing\n",
            "computing\n",
            "computing\n",
            "computing\n",
            "computing\n",
            "computing\n",
            "computing\n",
            "computing\n",
            "computing\n",
            "computing\n",
            "computing\n",
            "computing\n",
            "computing\n",
            "computing\n",
            "computing\n",
            "computing\n",
            "computing\n",
            "computing\n",
            "computing\n",
            "computing\n",
            "computing\n",
            "computing\n",
            "computing\n",
            "computing\n",
            "computing\n",
            "computing\n",
            "computing\n",
            "computing\n",
            "computing\n",
            "computing\n",
            "computing\n",
            "computing\n",
            "computing\n",
            "computing\n",
            "computing\n",
            "computing\n",
            "computing\n",
            "computing\n",
            "computing\n",
            "computing\n",
            "computing\n",
            "computing\n",
            "computing\n",
            "computing\n",
            "computing\n",
            "computing\n",
            "computing\n",
            "computing\n",
            "computing\n",
            "computing\n",
            "computing\n",
            "computing\n",
            "computing\n",
            "computing\n",
            "train Loss: 0.6257 Acc: 0.7327\n",
            "computing\n",
            "computing\n",
            "computing\n",
            "computing\n",
            "computing\n",
            "computing\n",
            "computing\n",
            "computing\n",
            "computing\n",
            "computing\n",
            "computing\n",
            "computing\n",
            "computing\n",
            "computing\n",
            "computing\n",
            "computing\n",
            "val Loss: 0.7483 Acc: 0.7500\n",
            "Epoch 8/10\n",
            "----------\n",
            "computing\n",
            "computing\n",
            "computing\n",
            "computing\n",
            "computing\n",
            "computing\n",
            "computing\n",
            "computing\n",
            "computing\n",
            "computing\n",
            "computing\n",
            "computing\n",
            "computing\n",
            "computing\n",
            "computing\n",
            "computing\n",
            "computing\n",
            "computing\n",
            "computing\n",
            "computing\n",
            "computing\n",
            "computing\n",
            "computing\n",
            "computing\n",
            "computing\n",
            "computing\n",
            "computing\n",
            "computing\n",
            "computing\n",
            "computing\n",
            "computing\n",
            "computing\n",
            "computing\n",
            "computing\n",
            "computing\n",
            "computing\n",
            "computing\n",
            "computing\n",
            "computing\n",
            "computing\n",
            "computing\n",
            "computing\n",
            "computing\n",
            "computing\n",
            "computing\n",
            "computing\n",
            "computing\n",
            "computing\n",
            "computing\n",
            "computing\n",
            "computing\n",
            "computing\n",
            "computing\n",
            "computing\n",
            "computing\n",
            "computing\n",
            "computing\n",
            "computing\n",
            "computing\n",
            "computing\n",
            "computing\n",
            "computing\n",
            "computing\n",
            "computing\n",
            "computing\n",
            "computing\n",
            "computing\n",
            "computing\n",
            "computing\n",
            "computing\n",
            "computing\n",
            "computing\n",
            "computing\n",
            "computing\n",
            "computing\n",
            "computing\n",
            "computing\n",
            "computing\n",
            "computing\n",
            "computing\n",
            "computing\n",
            "computing\n",
            "train Loss: 0.5988 Acc: 0.7395\n",
            "computing\n",
            "computing\n",
            "computing\n",
            "computing\n",
            "computing\n",
            "computing\n",
            "computing\n",
            "computing\n",
            "computing\n",
            "computing\n",
            "computing\n",
            "computing\n",
            "computing\n",
            "computing\n",
            "computing\n",
            "computing\n",
            "val Loss: 0.7520 Acc: 0.7500\n",
            "Epoch 9/10\n",
            "----------\n",
            "computing\n",
            "computing\n",
            "computing\n",
            "computing\n",
            "computing\n",
            "computing\n",
            "computing\n",
            "computing\n",
            "computing\n",
            "computing\n",
            "computing\n",
            "computing\n",
            "computing\n",
            "computing\n",
            "computing\n",
            "computing\n",
            "computing\n",
            "computing\n",
            "computing\n",
            "computing\n",
            "computing\n",
            "computing\n",
            "computing\n",
            "computing\n",
            "computing\n",
            "computing\n",
            "computing\n",
            "computing\n",
            "computing\n",
            "computing\n",
            "computing\n",
            "computing\n",
            "computing\n",
            "computing\n",
            "computing\n",
            "computing\n",
            "computing\n",
            "computing\n",
            "computing\n",
            "computing\n",
            "computing\n",
            "computing\n",
            "computing\n",
            "computing\n",
            "computing\n",
            "computing\n",
            "computing\n",
            "computing\n",
            "computing\n",
            "computing\n",
            "computing\n",
            "computing\n",
            "computing\n",
            "computing\n",
            "computing\n",
            "computing\n",
            "computing\n",
            "computing\n",
            "computing\n",
            "computing\n",
            "computing\n",
            "computing\n",
            "computing\n",
            "computing\n",
            "computing\n",
            "computing\n",
            "computing\n",
            "computing\n",
            "computing\n",
            "computing\n",
            "computing\n",
            "computing\n",
            "computing\n",
            "computing\n",
            "computing\n",
            "computing\n",
            "computing\n",
            "computing\n",
            "computing\n",
            "computing\n",
            "computing\n",
            "computing\n",
            "train Loss: 0.5812 Acc: 0.7439\n",
            "computing\n",
            "computing\n",
            "computing\n",
            "computing\n",
            "computing\n",
            "computing\n",
            "computing\n",
            "computing\n",
            "computing\n",
            "computing\n",
            "computing\n",
            "computing\n",
            "computing\n",
            "computing\n",
            "computing\n",
            "computing\n",
            "val Loss: 0.7754 Acc: 0.7500\n",
            "Epoch 10/10\n",
            "----------\n",
            "computing\n",
            "computing\n",
            "computing\n",
            "computing\n",
            "computing\n",
            "computing\n",
            "computing\n",
            "computing\n",
            "computing\n",
            "computing\n",
            "computing\n",
            "computing\n",
            "computing\n",
            "computing\n",
            "computing\n",
            "computing\n",
            "computing\n",
            "computing\n",
            "computing\n",
            "computing\n",
            "computing\n",
            "computing\n",
            "computing\n",
            "computing\n",
            "computing\n",
            "computing\n",
            "computing\n",
            "computing\n",
            "computing\n",
            "computing\n",
            "computing\n",
            "computing\n",
            "computing\n",
            "computing\n",
            "computing\n",
            "computing\n",
            "computing\n",
            "computing\n",
            "computing\n",
            "computing\n",
            "computing\n",
            "computing\n",
            "computing\n",
            "computing\n",
            "computing\n",
            "computing\n",
            "computing\n",
            "computing\n",
            "computing\n",
            "computing\n",
            "computing\n",
            "computing\n",
            "computing\n",
            "computing\n",
            "computing\n",
            "computing\n",
            "computing\n",
            "computing\n",
            "computing\n",
            "computing\n",
            "computing\n",
            "computing\n",
            "computing\n",
            "computing\n",
            "computing\n",
            "computing\n",
            "computing\n",
            "computing\n",
            "computing\n",
            "computing\n",
            "computing\n",
            "computing\n",
            "computing\n",
            "computing\n",
            "computing\n",
            "computing\n",
            "computing\n",
            "computing\n",
            "computing\n",
            "computing\n",
            "computing\n",
            "computing\n",
            "train Loss: 0.5629 Acc: 0.7515\n",
            "computing\n",
            "computing\n",
            "computing\n",
            "computing\n",
            "computing\n",
            "computing\n",
            "computing\n",
            "computing\n",
            "computing\n",
            "computing\n",
            "computing\n",
            "computing\n",
            "computing\n",
            "computing\n",
            "computing\n",
            "computing\n",
            "val Loss: 0.7407 Acc: 0.7500\n",
            "Best val Acc: 0.750000\n"
          ]
        }
      ]
    },
    {
      "cell_type": "markdown",
      "source": [
        "## AlexNet Training and Testing 3 classes"
      ],
      "metadata": {
        "id": "h6ctwtHiX5X_"
      }
    },
    {
      "cell_type": "code",
      "execution_count": null,
      "metadata": {
        "id": "iBgi1nSdXE6u",
        "outputId": "8245613b-cc7b-4522-a937-0e06ceac5f45"
      },
      "outputs": [
        {
          "name": "stdout",
          "output_type": "stream",
          "text": [
            "Epoch 1/10\n",
            "----------\n",
            "train Loss: 0.5465 Acc: 0.7540\n",
            "val Loss: 1.8295 Acc: 0.1875\n",
            "Epoch 2/10\n",
            "----------\n",
            "train Loss: 0.4571 Acc: 0.7935\n",
            "val Loss: 1.0463 Acc: 0.4375\n",
            "Epoch 3/10\n",
            "----------\n",
            "train Loss: 0.4051 Acc: 0.8234\n",
            "val Loss: 1.0481 Acc: 0.3750\n",
            "Epoch 4/10\n",
            "----------\n",
            "train Loss: 0.3679 Acc: 0.8391\n",
            "val Loss: 0.6548 Acc: 0.6875\n",
            "Epoch 5/10\n",
            "----------\n",
            "train Loss: 0.3332 Acc: 0.8537\n",
            "val Loss: 1.1631 Acc: 0.5000\n",
            "Epoch 6/10\n",
            "----------\n",
            "train Loss: 0.3057 Acc: 0.8675\n",
            "val Loss: 0.8290 Acc: 0.6250\n",
            "Epoch 7/10\n",
            "----------\n",
            "train Loss: 0.2829 Acc: 0.8817\n",
            "val Loss: 2.0722 Acc: 0.3125\n",
            "Epoch 8/10\n",
            "----------\n",
            "train Loss: 0.2479 Acc: 0.8928\n",
            "val Loss: 0.7510 Acc: 0.6875\n",
            "Epoch 9/10\n",
            "----------\n",
            "train Loss: 0.2287 Acc: 0.9099\n",
            "val Loss: 1.5115 Acc: 0.3125\n",
            "Epoch 10/10\n",
            "----------\n",
            "train Loss: 0.2119 Acc: 0.9099\n",
            "val Loss: 1.7222 Acc: 0.2500\n",
            "Best val Acc: 0.687500\n"
          ]
        }
      ],
      "source": [
        "import torchvision.models as models\n",
        "from torch.optim import lr_scheduler\n",
        "# Change Model Architecture for 3 neurons output\n",
        "model_pre = models.alexnet(pretrained=True)\n",
        "\n",
        "# Freeze the pre-trained parameters\n",
        "for param in model_pre.parameters():\n",
        "    param.requires_grad = False\n",
        "\n",
        "\n",
        "# Replace the classifier (fully connected layers) with a custom one\n",
        "model_pre.classifier = nn.Sequential(\n",
        "    nn.Linear(256 * 6 * 6, 4096),\n",
        "    nn.ReLU(inplace=True),\n",
        "    nn.Dropout(p=0.5),\n",
        "    nn.Linear(4096, 1024),\n",
        "    nn.ReLU(inplace=True),\n",
        "    nn.Dropout(p=0.5),\n",
        "    nn.Linear(1024, 3)  # Output layer for 3 classes (adjust based on your task)\n",
        ").to(device)\n",
        "num_epochs = 10\n",
        "\n",
        "# Define loss function, optimizer, and learning rate scheduler\n",
        "criterion = nn.CrossEntropyLoss()\n",
        "optimizer = optim.Adam(model_pre.parameters(), lr=0.0001, eps = 0.0001/num_epochs)\n",
        "exp_lr_scheduler = lr_scheduler.StepLR(optimizer, step_size=10, gamma=0.1)\n",
        "\n",
        "# Optionally, unfreeze the classifier parameters for fine-tuning\n",
        "for param in model_pre.classifier.parameters():\n",
        "    param.requires_grad = True\n",
        "\n",
        "# Move the model to the appropriate device (e.g., GPU)\n",
        "model_pre = model_pre.to(device)\n",
        "\n",
        "# Define a function to train the model (implementation not provided)\n",
        "model_pre = train_model(model_pre, criterion, optimizer, exp_lr_scheduler, num_epochs=EPOCHS)"
      ]
    },
    {
      "cell_type": "markdown",
      "source": [
        "## VGG16 Training and Testing 3 classes"
      ],
      "metadata": {
        "id": "PRL9x4rHZ0dI"
      }
    },
    {
      "cell_type": "code",
      "execution_count": null,
      "metadata": {
        "id": "TCMR-1UDWTwR",
        "outputId": "e949b929-78bb-418a-a6e2-6048543fd354"
      },
      "outputs": [
        {
          "name": "stdout",
          "output_type": "stream",
          "text": [
            "Epoch 1/10\n",
            "----------\n",
            "train Loss: 0.6061 Acc: 0.7274\n",
            "val Loss: 0.5891 Acc: 0.7500\n",
            "Epoch 2/10\n",
            "----------\n",
            "train Loss: 0.4305 Acc: 0.8154\n",
            "val Loss: 0.8717 Acc: 0.6875\n",
            "Epoch 3/10\n",
            "----------\n",
            "train Loss: 0.3607 Acc: 0.8499\n",
            "val Loss: 0.7576 Acc: 0.6875\n",
            "Epoch 4/10\n",
            "----------\n",
            "train Loss: 0.2812 Acc: 0.8809\n",
            "val Loss: 0.7511 Acc: 0.6875\n",
            "Epoch 5/10\n",
            "----------\n",
            "train Loss: 0.2190 Acc: 0.9078\n",
            "val Loss: 1.1697 Acc: 0.5000\n",
            "Epoch 6/10\n",
            "----------\n",
            "train Loss: 0.1653 Acc: 0.9339\n",
            "val Loss: 1.2995 Acc: 0.5625\n",
            "Epoch 7/10\n",
            "----------\n",
            "train Loss: 0.1145 Acc: 0.9578\n",
            "val Loss: 1.4564 Acc: 0.6250\n",
            "Epoch 8/10\n",
            "----------\n",
            "train Loss: 0.0856 Acc: 0.9674\n",
            "val Loss: 1.3199 Acc: 0.6250\n",
            "Epoch 9/10\n",
            "----------\n",
            "train Loss: 0.0930 Acc: 0.9655\n",
            "val Loss: 1.4374 Acc: 0.6250\n",
            "Epoch 10/10\n",
            "----------\n",
            "train Loss: 0.0596 Acc: 0.9789\n",
            "val Loss: 1.2715 Acc: 0.7500\n",
            "Best val Acc: 0.750000\n"
          ]
        }
      ],
      "source": [
        "import torch\n",
        "import torchvision.models as models\n",
        "import torch.nn as nn\n",
        "import torch.optim as optim\n",
        "from torch.optim import lr_scheduler\n",
        "from torchvision import transforms\n",
        "# Change Model Architecture for 3 neurons output\n",
        "model_pre = models.vgg16(pretrained=True)\n",
        "\n",
        "# Freeze the pre-trained parameters\n",
        "for param in model_pre.parameters():\n",
        "    param.requires_grad = False\n",
        "\n",
        "# Replace the classifier (fully connected layers) with a custom one\n",
        "num_features = model_pre.classifier[6].in_features\n",
        "model_pre.classifier[6] = nn.Sequential(\n",
        "    nn.Linear(num_features, 4096),\n",
        "    nn.ReLU(inplace=True),\n",
        "    nn.Dropout(p=0.5),\n",
        "    nn.Linear(4096, 1024),\n",
        "    nn.ReLU(inplace=True),\n",
        "    nn.Dropout(p=0.5),\n",
        "    nn.Linear(1024, 3)  # Output layer for 2 classes (adjust based on your task)\n",
        ")\n",
        "num_epochs = 10\n",
        "\n",
        "# Define loss function, optimizer, and learning rate scheduler\n",
        "criterion = nn.CrossEntropyLoss()\n",
        "optimizer = optim.Adam(model_pre.parameters(), lr=0.0001, eps = 0.0001/num_epochs)\n",
        "exp_lr_scheduler = lr_scheduler.StepLR(optimizer, step_size=10, gamma=0.1)\n",
        "\n",
        "# Optionally, unfreeze the classifier parameters for fine-tuning\n",
        "for param in model_pre.classifier.parameters():\n",
        "    param.requires_grad = True\n",
        "\n",
        "# Move the model to the appropriate device (e.g., GPU)\n",
        "model_pre = model_pre.to(device)\n",
        "\n",
        "# Define a function to train the model (implementation not provided)\n",
        "model_pre = train_model(model_pre, criterion, optimizer, exp_lr_scheduler, num_epochs=EPOCHS)"
      ]
    },
    {
      "cell_type": "markdown",
      "source": [
        "# Task 2 - Tsne Visualization for 1.a"
      ],
      "metadata": {
        "id": "ACw3fb-RqZOi"
      }
    },
    {
      "cell_type": "code",
      "source": [
        "# Imports\n",
        "import os\n",
        "import numpy as np\n",
        "import torch\n",
        "import torch.nn as nn\n",
        "from torchvision import datasets, models, transforms\n",
        "from matplotlib import pyplot as plt\n",
        "from sklearn.manifold import TSNE\n",
        "import seaborn as sns\n",
        "from sklearn.metrics import confusion_matrix\n",
        "from sklearn.neighbors import KNeighborsClassifier\n",
        "import torch"
      ],
      "metadata": {
        "id": "wpPKVPVLPY5C"
      },
      "execution_count": null,
      "outputs": []
    },
    {
      "cell_type": "markdown",
      "source": [
        "## Load Model\n"
      ],
      "metadata": {
        "id": "j62mgNqCmz6N"
      }
    },
    {
      "cell_type": "code",
      "source": [
        "checkpoint_path = checkpoint_dir + \"/winning architecture/epoch_7_winning_1a.pth\"\n",
        "embedding_model = models.resnet18(pretrained=True)\n",
        "embedding_model.fc = nn.Sequential(\n",
        "    nn.Linear(512, 128),\n",
        "    nn.ReLU(inplace=True),\n",
        "    nn.Linear(128, 2)).to(device)\n",
        "embedding_model = ResNet3Classes(embedding_model)\n",
        "checkpoint = torch.load(checkpoint_path, map_location=torch.device(device) )\n",
        "embedding_model = embedding_model.to(device)"
      ],
      "metadata": {
        "id": "nb2AlCFamTZF",
        "colab": {
          "base_uri": "https://localhost:8080/"
        },
        "outputId": "7b6c5550-f983-4069-eefb-abb999b4f581"
      },
      "execution_count": null,
      "outputs": [
        {
          "output_type": "stream",
          "name": "stderr",
          "text": [
            "/usr/local/lib/python3.10/dist-packages/torchvision/models/_utils.py:208: UserWarning: The parameter 'pretrained' is deprecated since 0.13 and may be removed in the future, please use 'weights' instead.\n",
            "  warnings.warn(\n",
            "/usr/local/lib/python3.10/dist-packages/torchvision/models/_utils.py:223: UserWarning: Arguments other than a weight enum or `None` for 'weights' are deprecated since 0.13 and may be removed in the future. The current behavior is equivalent to passing `weights=ResNet18_Weights.IMAGENET1K_V1`. You can also use `weights=ResNet18_Weights.DEFAULT` to get the most up-to-date weights.\n",
            "  warnings.warn(msg)\n"
          ]
        }
      ]
    },
    {
      "cell_type": "markdown",
      "source": [
        "Model and Data Initializaing"
      ],
      "metadata": {
        "id": "5VFoO8sGYFGX"
      }
    },
    {
      "cell_type": "code",
      "execution_count": null,
      "metadata": {
        "id": "kzMFCkQoYFGf"
      },
      "outputs": [],
      "source": [
        "# Dataloader and Transforms\n",
        "data_transforms = {\n",
        "    TRAIN: transforms.Compose([\n",
        "        transforms.Resize(256),\n",
        "        transforms.CenterCrop(224),\n",
        "        transforms.ToTensor(),\n",
        "        transforms.Normalize([0.485, 0.456, 0.406], [0.229, 0.224, 0.225]),\n",
        "    ]),\n",
        "    VAL: transforms.Compose([\n",
        "        transforms.Resize(256),\n",
        "        transforms.CenterCrop(224),\n",
        "        transforms.ToTensor(),\n",
        "        transforms.Normalize([0.485, 0.456, 0.406], [0.229, 0.224, 0.225]),\n",
        "    ]),\n",
        "    TEST: transforms.Compose([\n",
        "        transforms.Resize(256),\n",
        "        transforms.CenterCrop(224),\n",
        "        transforms.ToTensor(),\n",
        "        transforms.Normalize([0.485, 0.456, 0.406], [0.229, 0.224, 0.225]),\n",
        "    ]),\n",
        "}"
      ]
    },
    {
      "cell_type": "code",
      "source": [
        "# Load datasets\n",
        "image_datasets = {x: datasets.ImageFolder(os.path.join(data_dir, x), data_transforms[x])\n",
        "                  for x in [TRAIN, VAL, TEST]}\n",
        "dataloaders = {\n",
        "    TRAIN: torch.utils.data.DataLoader(image_datasets[TRAIN], batch_size=32, shuffle=True),\n",
        "    VAL: torch.utils.data.DataLoader(image_datasets[VAL], batch_size=1, shuffle=True),\n",
        "    TEST: torch.utils.data.DataLoader(image_datasets[TEST], batch_size=1, shuffle=True)\n",
        "}\n",
        "dataloaders[TEST] = torch.utils.data.DataLoader(image_datasets[TEST], batch_size=1, shuffle=False)\n",
        "\n",
        "class_names = image_datasets[TRAIN].classes\n"
      ],
      "metadata": {
        "id": "_vJo7_71YFGf"
      },
      "execution_count": null,
      "outputs": []
    },
    {
      "cell_type": "code",
      "source": [
        "# Extract feature layers\n",
        "class ResNet18Embedding(nn.Module):\n",
        "    def __init__(self, pretrained_model):\n",
        "        super(ResNet18Embedding, self).__init__()\n",
        "        self.pretrained = pretrained_model\n",
        "        # Remove the last layer (classifier) to get the embeddings\n",
        "        self.features = nn.Sequential(*list(pretrained_model.children())[:-1])\n",
        "\n",
        "    def forward(self, x):\n",
        "        x = self.features(x)\n",
        "        x = torch.flatten(x, 1)  # Flatten the features\n",
        "        return x"
      ],
      "metadata": {
        "id": "11F1OGgUYFGf"
      },
      "execution_count": null,
      "outputs": []
    },
    {
      "cell_type": "markdown",
      "source": [
        "Tsne and Embedding Visualizations"
      ],
      "metadata": {
        "id": "VcwbtqWLYFGf"
      }
    },
    {
      "cell_type": "code",
      "source": [
        "# Aggregate embedding\n",
        "def generate_embeddings(dataloader, model):\n",
        "    model.eval()\n",
        "    embeddings = []\n",
        "    labels = []\n",
        "    with torch.no_grad():\n",
        "        for inputs, label in dataloader:\n",
        "            inputs = inputs.to(device)\n",
        "            embed = model(inputs)\n",
        "            embeddings.append(embed.cpu().numpy())\n",
        "            labels.append(label.numpy())\n",
        "    embeddings = np.vstack(embeddings)\n",
        "    labels = np.concatenate(labels)\n",
        "    return embeddings, labels"
      ],
      "metadata": {
        "id": "TvDnN7iHYFGg"
      },
      "execution_count": null,
      "outputs": []
    },
    {
      "cell_type": "code",
      "source": [
        "checkpoint_path = checkpoint_dir + \"/winning architecture/epoch_7_winning_1a.pth\"\n",
        "\n",
        "embedding_model = models.resnet18(pretrained=True)\n",
        "embedding_model.fc = nn.Sequential(\n",
        "    nn.Linear(512, 128),\n",
        "    nn.ReLU(inplace=True),\n",
        "    nn.Linear(128, 2)).to(device)\n",
        "checkpoint = torch.load(checkpoint_path, map_location=torch.device(device))\n",
        "embedding_model.load_state_dict(checkpoint)\n",
        "\n",
        "embedding_model = ResNet18Embedding(embedding_model)\n",
        "embedding_model = embedding_model.to(device)"
      ],
      "metadata": {
        "colab": {
          "base_uri": "https://localhost:8080/"
        },
        "outputId": "a321d151-e641-42c5-98d5-2161488e04a1",
        "id": "qYj1wGUlYFGg"
      },
      "execution_count": null,
      "outputs": [
        {
          "output_type": "stream",
          "name": "stderr",
          "text": [
            "/usr/local/lib/python3.10/dist-packages/torchvision/models/_utils.py:208: UserWarning: The parameter 'pretrained' is deprecated since 0.13 and may be removed in the future, please use 'weights' instead.\n",
            "  warnings.warn(\n",
            "/usr/local/lib/python3.10/dist-packages/torchvision/models/_utils.py:223: UserWarning: Arguments other than a weight enum or `None` for 'weights' are deprecated since 0.13 and may be removed in the future. The current behavior is equivalent to passing `weights=ResNet18_Weights.IMAGENET1K_V1`. You can also use `weights=ResNet18_Weights.DEFAULT` to get the most up-to-date weights.\n",
            "  warnings.warn(msg)\n"
          ]
        }
      ]
    },
    {
      "cell_type": "code",
      "source": [
        "from PIL import Image\n",
        "\n",
        "train_embeddings, train_labels = generate_embeddings(dataloaders[TRAIN], embedding_model)\n"
      ],
      "metadata": {
        "id": "6BgEg0iUmTZF"
      },
      "execution_count": null,
      "outputs": []
    },
    {
      "cell_type": "code",
      "source": [
        "train_embeddings_path = checkpoint_dir + \"/winning architecture/train_embeddings.csv\"\n",
        "# Save train_embeddings to a file\n",
        "np.savetxt(train_embeddings_path, train_embeddings, delimiter=',')\n",
        "\n",
        "train_labels_path = checkpoint_dir + \"/winning architecture/train_labels.csv\"\n",
        "# Save train_embeddings to a file\n",
        "np.savetxt(train_labels_path, train_labels, delimiter=',')"
      ],
      "metadata": {
        "id": "l95dmAfQtZrN"
      },
      "execution_count": null,
      "outputs": []
    },
    {
      "cell_type": "code",
      "source": [
        "# Apply TSNE on Training set\n",
        "tsne = TSNE(n_components=2, random_state=0)\n",
        "train_tsne_embeddings = tsne.fit_transform(train_embeddings)"
      ],
      "metadata": {
        "id": "kpZn55_9r5-a"
      },
      "execution_count": null,
      "outputs": []
    },
    {
      "cell_type": "code",
      "source": [
        "len(train_tsne_embeddings)"
      ],
      "metadata": {
        "colab": {
          "base_uri": "https://localhost:8080/"
        },
        "id": "Qg8qX7SmmaZc",
        "outputId": "20f6e287-7da4-4889-c457-cabc18b3cac7"
      },
      "execution_count": null,
      "outputs": [
        {
          "output_type": "execute_result",
          "data": {
            "text/plain": [
              "5216"
            ]
          },
          "metadata": {},
          "execution_count": 31
        }
      ]
    },
    {
      "cell_type": "code",
      "source": [
        "# Visualization of train samples latent space\n",
        "plt.figure(figsize=(10, 5))\n",
        "colors = ['r', 'g', 'b', 'c', 'm', 'y', 'k']\n",
        "for i, label in enumerate(np.unique(train_labels)):\n",
        "    indices = np.where(train_labels == label)\n",
        "    plt.scatter(train_tsne_embeddings[indices, 0], train_tsne_embeddings[indices, 1], c=colors[i], label=class_names[label])\n",
        "plt.legend()\n",
        "plt.title(\"t-SNE visualization of embeddings\")\n",
        "plt.show()"
      ],
      "metadata": {
        "id": "04yUDnMcsAEc",
        "colab": {
          "base_uri": "https://localhost:8080/",
          "height": 468
        },
        "outputId": "246f27e3-f59d-4048-854d-973ac7feb391"
      },
      "execution_count": null,
      "outputs": [
        {
          "output_type": "display_data",
          "data": {
            "text/plain": [
              "<Figure size 1000x500 with 1 Axes>"
            ],
            "image/png": "[encoded data removed]"
          },
          "metadata": {}
        }
      ]
    },
    {
      "cell_type": "code",
      "source": [
        "# Aggergate test embedding\n",
        "# This part related to test but since it takes time to run it, we will run it in train notebook and will load the output in test notebook\n",
        "test_embeddings, test_labels = generate_embeddings(dataloaders[TEST], embedding_model)"
      ],
      "metadata": {
        "id": "wNRYErFAsIoq"
      },
      "execution_count": null,
      "outputs": []
    },
    {
      "cell_type": "code",
      "source": [
        "test_embeddings_path = checkpoint_dir + \"/winning architecture/test_embeddings.csv\"\n",
        "test_labels_path = checkpoint_dir + \"/winning architecture/test_labels.csv\"\n",
        "\n",
        "# Save the embeddings and labels to a file\n",
        "np.savetxt(test_embeddings_path, test_embeddings, delimiter=',')\n",
        "np.savetxt(test_labels_path, test_labels, delimiter=',')"
      ],
      "metadata": {
        "id": "Uvq5MvAuuGZW"
      },
      "execution_count": null,
      "outputs": []
    },
    {
      "cell_type": "markdown",
      "source": [
        "# Task 2 - Tsne Visualization for 1.b"
      ],
      "metadata": {
        "id": "jikwKY3auNzS"
      }
    },
    {
      "cell_type": "code",
      "source": [
        "class VGG3Classes(nn.Module):\n",
        "    def __init__(self, pretrained_model):\n",
        "        super(VGG3Classes, self).__init__()\n",
        "        self.pretrained = pretrained_model\n",
        "        # Remove the last layer (classifier) to get the embeddings\n",
        "        self.features = nn.Sequential(*list(pretrained_model.children())[:-1])\n",
        "\n",
        "\n",
        "\n",
        "    def forward(self, x):\n",
        "        x = self.features(x)\n",
        "        x = torch.flatten(x,1)\n",
        "        return x"
      ],
      "metadata": {
        "id": "mtW6aQhVuqad"
      },
      "execution_count": null,
      "outputs": []
    },
    {
      "cell_type": "code",
      "source": [
        "from torch.utils.data import Dataset\n",
        "\n",
        "class CustomDataset(Dataset):\n",
        "    def __init__(self, root_dir, transform=None):\n",
        "        \"\"\"\n",
        "        Args:\n",
        "            root_dir (string): Directory with all the images.\n",
        "            transform (callable, optional): Optional transform to be applied on a sample.\n",
        "        \"\"\"\n",
        "        self.root_dir = root_dir\n",
        "        self.transform = transform\n",
        "        self.images = []\n",
        "        self.labels = []\n",
        "\n",
        "        # Loop through each folder and file, assigning labels based on the criteria\n",
        "        for subdir, dirs, files in os.walk(root_dir):\n",
        "            for file in files:\n",
        "                if file.lower().endswith(('.png', '.jpg', '.jpeg')):\n",
        "                    self.images.append(os.path.join(subdir, file))\n",
        "                    if 'NORMAL' in subdir:\n",
        "                        self.labels.append(0)  # Normal\n",
        "                    elif 'virus' in file.lower():\n",
        "                        self.labels.append(1)  # Virus\n",
        "                    elif 'bacteria' in file.lower():\n",
        "                        self.labels.append(2)  # Bacteria\n",
        "    def __len__(self):\n",
        "        return len(self.images)\n",
        "\n",
        "    def __getitem__(self, idx):\n",
        "        img_name = self.images[idx]\n",
        "        image = Image.open(img_name)\n",
        "\n",
        "        if self.transform:\n",
        "            image = self.transform(image)\n",
        "\n",
        "        label = self.labels[idx]\n",
        "        return image, label\n",
        "\n",
        "data_transform = transforms.Compose([\n",
        "    transforms.Resize(256),\n",
        "    transforms.CenterCrop(224),\n",
        "    transforms.Grayscale(num_output_channels=3),  # Add this line if you need to convert grayscale to RGB\n",
        "    transforms.ToTensor(),\n",
        "    transforms.Normalize([0.485, 0.456, 0.406], [0.229, 0.224, 0.225]),\n",
        "])\n",
        "\n",
        "\n",
        "image_datasets = {\n",
        "    TRAIN: CustomDataset(os.path.join(data_dir, TRAIN), transform=data_transform),\n",
        "    VAL: CustomDataset(os.path.join(data_dir, VAL), transform=data_transform),\n",
        "    TEST: CustomDataset(os.path.join(data_dir, TEST), transform=data_transform)\n",
        "}\n",
        "\n",
        "dataloaders = {\n",
        "    TRAIN: torch.utils.data.DataLoader(image_datasets[TRAIN], batch_size=32, shuffle=True),\n",
        "    VAL: torch.utils.data.DataLoader(image_datasets[VAL], batch_size=1, shuffle=True),\n",
        "    TEST: torch.utils.data.DataLoader(image_datasets[TEST], batch_size=1, shuffle=True)\n",
        "}\n",
        "\n",
        "dataset_sizes = {\n",
        "    x: len(image_datasets[x])\n",
        "    for x in [TRAIN, VAL]\n",
        "}"
      ],
      "metadata": {
        "id": "O0G7oKRau0iT"
      },
      "execution_count": null,
      "outputs": []
    },
    {
      "cell_type": "code",
      "execution_count": null,
      "metadata": {
        "outputId": "a0000554-7c04-4139-e365-02bd6d553b98",
        "id": "nzwvSrCRef_U",
        "colab": {
          "base_uri": "https://localhost:8080/"
        }
      },
      "outputs": [
        {
          "output_type": "stream",
          "name": "stderr",
          "text": [
            "/usr/local/lib/python3.10/dist-packages/torchvision/models/_utils.py:208: UserWarning: The parameter 'pretrained' is deprecated since 0.13 and may be removed in the future, please use 'weights' instead.\n",
            "  warnings.warn(\n",
            "/usr/local/lib/python3.10/dist-packages/torchvision/models/_utils.py:223: UserWarning: Arguments other than a weight enum or `None` for 'weights' are deprecated since 0.13 and may be removed in the future. The current behavior is equivalent to passing `weights=VGG16_Weights.IMAGENET1K_V1`. You can also use `weights=VGG16_Weights.DEFAULT` to get the most up-to-date weights.\n",
            "  warnings.warn(msg)\n"
          ]
        }
      ],
      "source": [
        "# Load Model\n",
        "checkpoint_path_VGG = checkpoint_dir + \"/winning architecture/VGG16_3classes.pth\"\n",
        "embedding_model = models.vgg16(pretrained=True)\n",
        "num_features = embedding_model.classifier[6].in_features\n",
        "embedding_model.classifier[6] = nn.Sequential(\n",
        "    nn.Linear(num_features, 4096),\n",
        "    nn.ReLU(inplace=True),\n",
        "    nn.Dropout(p=0.5),\n",
        "    nn.Linear(4096, 1024),\n",
        "    nn.ReLU(inplace=True),\n",
        "    nn.Dropout(p=0.5),\n",
        "    nn.Linear(1024, 3)  # Output layer for 2 classes (adjust based on your task)\n",
        ").to(device)\n",
        "embedding_model = VGG3Classes(embedding_model)\n",
        "checkpoint = torch.load(checkpoint_path, map_location=torch.device(device))\n",
        "embedding_model = embedding_model.to(device)"
      ]
    },
    {
      "cell_type": "code",
      "source": [
        "# Aggregate embedding\n",
        "def generate_embeddings(dataloader, model):\n",
        "    model.eval()\n",
        "    embeddings = []\n",
        "    labels = []\n",
        "    with torch.no_grad():\n",
        "        for inputs, label in dataloader:\n",
        "            inputs = inputs.to(device)\n",
        "            embed = model(inputs)\n",
        "            embeddings.append(embed.cpu().numpy())\n",
        "            labels.append(label.numpy())\n",
        "    embeddings = np.vstack(embeddings)\n",
        "    labels = np.concatenate(labels)\n",
        "    return embeddings, labels"
      ],
      "metadata": {
        "id": "X66II28PHVjj"
      },
      "execution_count": null,
      "outputs": []
    },
    {
      "cell_type": "code",
      "source": [
        "from PIL import Image\n",
        "\n",
        "train_embeddings, train_labels = generate_embeddings(dataloaders[TRAIN], embedding_model)\n"
      ],
      "metadata": {
        "id": "6dlKLXhwvZnF"
      },
      "execution_count": null,
      "outputs": []
    },
    {
      "cell_type": "code",
      "source": [
        "train_embeddings_path = checkpoint_dir + \"/winning architecture/train_embeddings_3.csv\"\n",
        "# Save train_embeddings to a file\n",
        "np.savetxt(train_embeddings_path, train_embeddings, delimiter=',')\n",
        "\n",
        "train_labels_path = checkpoint_dir + \"/winning architecture/train_labels_3.csv\"\n",
        "# Save train_embeddings to a file\n",
        "np.savetxt(train_labels_path, train_labels, delimiter=',')"
      ],
      "metadata": {
        "id": "piP5vWb0x10r"
      },
      "execution_count": null,
      "outputs": []
    },
    {
      "cell_type": "code",
      "source": [
        "# Apply TSNE on Training set\n",
        "tsne = TSNE(n_components=2, random_state=0)\n",
        "train_tsne_embeddings = tsne.fit_transform(train_embeddings)"
      ],
      "metadata": {
        "id": "DDpDeXmBvL7r"
      },
      "execution_count": null,
      "outputs": []
    },
    {
      "cell_type": "code",
      "execution_count": null,
      "metadata": {
        "colab": {
          "base_uri": "https://localhost:8080/",
          "height": 468
        },
        "outputId": "7147910c-80b1-4d03-e069-2ca3dd7124be",
        "id": "eKZGwDBIesJ_"
      },
      "outputs": [
        {
          "output_type": "display_data",
          "data": {
            "text/plain": [
              "<Figure size 1000x500 with 1 Axes>"
            ],
            "image/png": "[encoded data removed]"
          },
          "metadata": {}
        }
      ],
      "source": [
        "class_names = [\"Normal\", \"Viral\", \"Bacteria\"]\n",
        "\n",
        "\n",
        "# Visualization of train samples latent space\n",
        "plt.figure(figsize=(10, 5))\n",
        "colors = ['r', 'g', 'b', 'c', 'm', 'y', 'k']\n",
        "for i, label in enumerate(np.unique(train_labels)):\n",
        "    indices = np.where(train_labels == label)\n",
        "    plt.scatter(train_tsne_embeddings[indices, 0], train_tsne_embeddings[indices, 1], c=colors[i], label=class_names[label])\n",
        "plt.legend()\n",
        "plt.title(\"t-SNE visualization of embeddings\")\n",
        "plt.show()"
      ]
    },
    {
      "cell_type": "code",
      "source": [
        "# Aggergate test embedding\n",
        "# This part related to test but since it takes time to run it, we will run it in train notebook and will load the output in test notebook\n",
        "\n",
        "test_embeddings, test_labels = generate_embeddings(dataloaders[TEST], embedding_model)"
      ],
      "metadata": {
        "id": "QjXRKIoXvjmB"
      },
      "execution_count": null,
      "outputs": []
    },
    {
      "cell_type": "code",
      "source": [
        "test_embeddings_path = checkpoint_dir + \"/winning architecture/test_embeddings_3.csv\"\n",
        "test_labels_path = checkpoint_dir + \"/winning architecture/test_labels_3.csv\"\n",
        "\n",
        "# Save the embeddings and labels to a file\n",
        "np.savetxt(test_embeddings_path, test_embeddings, delimiter=',')\n",
        "np.savetxt(test_labels_path, test_labels, delimiter=',')"
      ],
      "metadata": {
        "id": "he_Aa8Yhxo8N"
      },
      "execution_count": null,
      "outputs": []
    },
    {
      "cell_type": "markdown",
      "source": [
        "# Task 3 - Anomaly Detection"
      ],
      "metadata": {
        "id": "D6Q4ZoWSaKPa"
      }
    },
    {
      "cell_type": "markdown",
      "source": [
        "### Autoencoder Model"
      ],
      "metadata": {
        "id": "vThhmUCtapuj"
      }
    },
    {
      "cell_type": "code",
      "source": [
        "import torch.nn as nn\n",
        "\n",
        "class AE(nn.Module):\n",
        "    def __init__(self, latent_size, multiplier=4, img_size=64):\n",
        "        super(AE, self).__init__()\n",
        "        out_channels = 1\n",
        "        self.fm = img_size // 16\n",
        "        self.mp = multiplier\n",
        "        self.encoder = nn.Sequential(\n",
        "            nn.Conv2d(1, int(16 * multiplier), 4, 2, 1, bias=False),\n",
        "            nn.BatchNorm2d(int(16 * multiplier)),\n",
        "            nn.ReLU(True),\n",
        "            nn.Conv2d(int(16 * multiplier),\n",
        "                      int(32 * multiplier), 4, 2, 1, bias=False),\n",
        "            nn.BatchNorm2d(int(32 * multiplier)),\n",
        "            nn.ReLU(True),\n",
        "            nn.Conv2d(int(32 * multiplier),\n",
        "                      int(64 * multiplier), 4, 2, 1, bias=False),\n",
        "            nn.BatchNorm2d(int(64 * multiplier)),\n",
        "            nn.ReLU(True),\n",
        "            nn.Conv2d(int(64 * multiplier),\n",
        "                      int(64 * multiplier), 4, 2, 1, bias=False),\n",
        "            nn.BatchNorm2d(int(64 * multiplier)),\n",
        "            nn.ReLU(True),\n",
        "        )\n",
        "        self.linear_enc = nn.Sequential(\n",
        "            nn.Linear(int(64 * multiplier) * self.fm*self.fm, 2048),\n",
        "            nn.BatchNorm1d(2048),\n",
        "            nn.ReLU(True),\n",
        "            nn.Linear(2048, latent_size),\n",
        "        )\n",
        "\n",
        "\n",
        "        self.linear_dec = nn.Sequential(\n",
        "            nn.Linear(latent_size, 2048),\n",
        "            nn.BatchNorm1d(2048),\n",
        "            nn.ReLU(True),\n",
        "            nn.Linear(2048, int(64 * multiplier) * self.fm*self.fm),\n",
        "        )\n",
        "\n",
        "        self.decoder = nn.Sequential(\n",
        "            nn.ConvTranspose2d(int(64*multiplier), int(64 *\n",
        "                                                       multiplier), 4, 2, 1, bias=False),\n",
        "            nn.BatchNorm2d(int(64*multiplier)),\n",
        "            nn.ReLU(True),\n",
        "            nn.ConvTranspose2d(int(64*multiplier), int(32 *\n",
        "                                                       multiplier), 4, 2, 1, bias=False),\n",
        "            nn.BatchNorm2d(int(32*multiplier)),\n",
        "            nn.ReLU(True),\n",
        "            nn.ConvTranspose2d(int(32*multiplier), int(16 *\n",
        "                                                       multiplier), 4, 2, 1, bias=False),\n",
        "            nn.BatchNorm2d(int(16*multiplier)),\n",
        "            nn.ReLU(True),\n",
        "            nn.ConvTranspose2d(int(16*multiplier),\n",
        "                               out_channels, 4, 2, 1, bias=False),\n",
        "        )\n",
        "\n",
        "    def forward(self, x):\n",
        "        lat_rep = self.feature(x)\n",
        "        out = self.decode(lat_rep)\n",
        "        return out\n",
        "\n",
        "    def feature(self, x):\n",
        "        lat_rep = self.encoder(x)\n",
        "        lat_rep = lat_rep.view(lat_rep.size(0), -1)\n",
        "        lat_rep = self.linear_enc(lat_rep)\n",
        "        return lat_rep\n",
        "\n",
        "    def decode(self, x):\n",
        "        out = self.linear_dec(x)\n",
        "        out = out.view(out.size(0), int(64 * self.mp), self.fm, self.fm)\n",
        "        out = self.decoder(out)\n",
        "        return out\n"
      ],
      "metadata": {
        "id": "T4c3-HqgaQdu"
      },
      "execution_count": null,
      "outputs": []
    },
    {
      "cell_type": "markdown",
      "source": [
        "### Loading Data"
      ],
      "metadata": {
        "id": "j3G7a16dkzpn"
      }
    },
    {
      "cell_type": "code",
      "source": [
        "import cv2\n",
        "import os\n",
        "import glob as gb\n",
        "import numpy as np\n",
        "import torch\n",
        "from torch.utils.data import DataLoader, TensorDataset\n",
        "\n",
        "BATCH_SIZE = 64\n",
        "IMG_SIZE = 64\n",
        "path='chest_xray/'\n",
        "NORMAL = 'NORMAL'\n",
        "BACTERIA = 'bacteria'\n",
        "VIRAL = 'virus'\n",
        "PNEUMONIA = 'PNEUMONIA'\n",
        "code = {NORMAL:0 ,PNEUMONIA:1 }\n",
        "\n",
        "\n",
        "X_train_normal = []\n",
        "y_train_normal = []\n",
        "for folder in  os.listdir(path) :\n",
        "    files = gb.glob(pathname= str( path + 'train/NORMAL/*.jpeg'))\n",
        "    for file in files:\n",
        "\n",
        "        # Read the image\n",
        "        image = cv2.imread(file)\n",
        "\n",
        "        # Convert the image to grayscale\n",
        "        gray_image = cv2.cvtColor(image, cv2.COLOR_BGR2GRAY)\n",
        "\n",
        "        # Resize the grayscale image to 64x64 pixels\n",
        "        resized_image = cv2.resize(gray_image, (64, 64))\n",
        "\n",
        "        # Append the resized grayscale image to X_train\n",
        "\n",
        "        X_train_normal.append(resized_image)\n",
        "        y_train_normal.append(code[NORMAL])\n",
        "\n",
        "np.save('X_train_gray_noraml',X_train_normal)\n",
        "np.save('y_train_gray_normal',y_train_normal)\n",
        "# Load preprocessed data\n",
        "X_train = np.load('X_train_gray_noraml.npy')\n",
        "y_train = np.load('y_train_gray_normal.npy')\n",
        "\n",
        "# Convert data to PyTorch tensors\n",
        "X_train_tensor = torch.tensor(X_train, dtype=torch.float32).unsqueeze(1)\n",
        "y_train_tensor = torch.tensor(y_train, dtype=torch.long)\n",
        "\n",
        "# Define dataset and dataloader\n",
        "train_dataset = TensorDataset(X_train_tensor, y_train_tensor)\n",
        "train_loader = DataLoader(train_dataset, batch_size=64, shuffle=True)"
      ],
      "metadata": {
        "id": "W3ZACG6Ak3Nh"
      },
      "execution_count": null,
      "outputs": []
    },
    {
      "cell_type": "markdown",
      "source": [
        "### Trainign AE"
      ],
      "metadata": {
        "id": "7RE2XVKAk9gW"
      }
    },
    {
      "cell_type": "code",
      "execution_count": null,
      "metadata": {
        "id": "DEaizFnFpQKf",
        "outputId": "1b1817de-ae9c-452f-f96a-658449df70d9"
      },
      "outputs": [
        {
          "name": "stderr",
          "output_type": "stream",
          "text": [
            "  0%|          | 1/250 [00:03<14:57,  3.60s/it]"
          ]
        },
        {
          "name": "stdout",
          "output_type": "stream",
          "text": [
            "epochs:0, loss:19157.31396484375\n"
          ]
        },
        {
          "name": "stderr",
          "output_type": "stream",
          "text": [
            "  1%|          | 2/250 [00:07<16:44,  4.05s/it]"
          ]
        },
        {
          "name": "stdout",
          "output_type": "stream",
          "text": [
            "epochs:1, loss:18912.947265625\n"
          ]
        },
        {
          "name": "stderr",
          "output_type": "stream",
          "text": [
            "  1%|          | 3/250 [00:11<15:59,  3.88s/it]"
          ]
        },
        {
          "name": "stdout",
          "output_type": "stream",
          "text": [
            "epochs:2, loss:18649.65234375\n"
          ]
        },
        {
          "name": "stderr",
          "output_type": "stream",
          "text": [
            "  2%|▏         | 4/250 [00:14<13:59,  3.41s/it]"
          ]
        },
        {
          "name": "stdout",
          "output_type": "stream",
          "text": [
            "epochs:3, loss:18579.84716796875\n"
          ]
        },
        {
          "name": "stderr",
          "output_type": "stream",
          "text": [
            "  2%|▏         | 5/250 [00:17<13:55,  3.41s/it]"
          ]
        },
        {
          "name": "stdout",
          "output_type": "stream",
          "text": [
            "epochs:4, loss:18478.00146484375\n"
          ]
        },
        {
          "name": "stderr",
          "output_type": "stream",
          "text": [
            "  2%|▏         | 6/250 [00:21<14:58,  3.68s/it]"
          ]
        },
        {
          "name": "stdout",
          "output_type": "stream",
          "text": [
            "epochs:5, loss:18401.6650390625\n"
          ]
        },
        {
          "name": "stderr",
          "output_type": "stream",
          "text": [
            "  3%|▎         | 7/250 [00:26<15:39,  3.87s/it]"
          ]
        },
        {
          "name": "stdout",
          "output_type": "stream",
          "text": [
            "epochs:6, loss:18402.40478515625\n"
          ]
        },
        {
          "name": "stderr",
          "output_type": "stream",
          "text": [
            "  3%|▎         | 8/250 [00:29<14:38,  3.63s/it]"
          ]
        },
        {
          "name": "stdout",
          "output_type": "stream",
          "text": [
            "epochs:7, loss:18281.39990234375\n"
          ]
        },
        {
          "name": "stderr",
          "output_type": "stream",
          "text": [
            "  4%|▎         | 9/250 [00:33<14:50,  3.69s/it]"
          ]
        },
        {
          "name": "stdout",
          "output_type": "stream",
          "text": [
            "epochs:8, loss:18217.1552734375\n"
          ]
        },
        {
          "name": "stderr",
          "output_type": "stream",
          "text": [
            "  4%|▍         | 10/250 [00:37<15:23,  3.85s/it]"
          ]
        },
        {
          "name": "stdout",
          "output_type": "stream",
          "text": [
            "epochs:9, loss:18102.06640625\n"
          ]
        },
        {
          "name": "stderr",
          "output_type": "stream",
          "text": [
            "  4%|▍         | 11/250 [00:41<15:33,  3.91s/it]"
          ]
        },
        {
          "name": "stdout",
          "output_type": "stream",
          "text": [
            "epochs:10, loss:18051.77978515625\n"
          ]
        },
        {
          "name": "stderr",
          "output_type": "stream",
          "text": [
            "  5%|▍         | 12/250 [00:44<14:42,  3.71s/it]"
          ]
        },
        {
          "name": "stdout",
          "output_type": "stream",
          "text": [
            "epochs:11, loss:18017.6884765625\n"
          ]
        },
        {
          "name": "stderr",
          "output_type": "stream",
          "text": [
            "  5%|▌         | 13/250 [00:48<14:43,  3.73s/it]"
          ]
        },
        {
          "name": "stdout",
          "output_type": "stream",
          "text": [
            "epochs:12, loss:18015.32958984375\n"
          ]
        },
        {
          "name": "stderr",
          "output_type": "stream",
          "text": [
            "  6%|▌         | 14/250 [00:52<14:32,  3.70s/it]"
          ]
        },
        {
          "name": "stdout",
          "output_type": "stream",
          "text": [
            "epochs:13, loss:17864.373046875\n"
          ]
        },
        {
          "name": "stderr",
          "output_type": "stream",
          "text": [
            "  6%|▌         | 15/250 [00:55<14:32,  3.71s/it]"
          ]
        },
        {
          "name": "stdout",
          "output_type": "stream",
          "text": [
            "epochs:14, loss:17760.16650390625\n"
          ]
        },
        {
          "name": "stderr",
          "output_type": "stream",
          "text": [
            "  6%|▋         | 16/250 [00:58<13:32,  3.47s/it]"
          ]
        },
        {
          "name": "stdout",
          "output_type": "stream",
          "text": [
            "epochs:15, loss:17682.220703125\n"
          ]
        },
        {
          "name": "stderr",
          "output_type": "stream",
          "text": [
            "  7%|▋         | 17/250 [01:01<12:52,  3.32s/it]"
          ]
        },
        {
          "name": "stdout",
          "output_type": "stream",
          "text": [
            "epochs:16, loss:17633.69091796875\n"
          ]
        },
        {
          "name": "stderr",
          "output_type": "stream",
          "text": [
            "  7%|▋         | 18/250 [01:04<12:23,  3.20s/it]"
          ]
        },
        {
          "name": "stdout",
          "output_type": "stream",
          "text": [
            "epochs:17, loss:17635.67626953125\n"
          ]
        },
        {
          "name": "stderr",
          "output_type": "stream",
          "text": [
            "  8%|▊         | 19/250 [01:07<12:10,  3.16s/it]"
          ]
        },
        {
          "name": "stdout",
          "output_type": "stream",
          "text": [
            "epochs:18, loss:17510.48974609375\n"
          ]
        },
        {
          "name": "stderr",
          "output_type": "stream",
          "text": [
            "  8%|▊         | 20/250 [01:12<14:07,  3.69s/it]"
          ]
        },
        {
          "name": "stdout",
          "output_type": "stream",
          "text": [
            "epochs:19, loss:17477.6845703125\n"
          ]
        },
        {
          "name": "stderr",
          "output_type": "stream",
          "text": [
            "  8%|▊         | 21/250 [01:17<15:12,  3.98s/it]"
          ]
        },
        {
          "name": "stdout",
          "output_type": "stream",
          "text": [
            "epochs:20, loss:17353.23681640625\n"
          ]
        },
        {
          "name": "stderr",
          "output_type": "stream",
          "text": [
            "  9%|▉         | 22/250 [01:20<14:35,  3.84s/it]"
          ]
        },
        {
          "name": "stdout",
          "output_type": "stream",
          "text": [
            "epochs:21, loss:17355.7568359375\n"
          ]
        },
        {
          "name": "stderr",
          "output_type": "stream",
          "text": [
            "  9%|▉         | 23/250 [01:23<13:20,  3.52s/it]"
          ]
        },
        {
          "name": "stdout",
          "output_type": "stream",
          "text": [
            "epochs:22, loss:17161.9267578125\n"
          ]
        },
        {
          "name": "stderr",
          "output_type": "stream",
          "text": [
            " 10%|▉         | 24/250 [01:26<12:22,  3.29s/it]"
          ]
        },
        {
          "name": "stdout",
          "output_type": "stream",
          "text": [
            "epochs:23, loss:17133.115234375\n"
          ]
        },
        {
          "name": "stderr",
          "output_type": "stream",
          "text": [
            " 10%|█         | 25/250 [01:28<11:40,  3.11s/it]"
          ]
        },
        {
          "name": "stdout",
          "output_type": "stream",
          "text": [
            "epochs:24, loss:16978.85546875\n"
          ]
        },
        {
          "name": "stderr",
          "output_type": "stream",
          "text": [
            " 10%|█         | 26/250 [01:31<11:12,  3.00s/it]"
          ]
        },
        {
          "name": "stdout",
          "output_type": "stream",
          "text": [
            "epochs:25, loss:16858.646484375\n"
          ]
        },
        {
          "name": "stderr",
          "output_type": "stream",
          "text": [
            " 11%|█         | 27/250 [01:34<11:11,  3.01s/it]"
          ]
        },
        {
          "name": "stdout",
          "output_type": "stream",
          "text": [
            "epochs:26, loss:16883.38232421875\n"
          ]
        },
        {
          "name": "stderr",
          "output_type": "stream",
          "text": [
            " 11%|█         | 28/250 [01:37<10:55,  2.95s/it]"
          ]
        },
        {
          "name": "stdout",
          "output_type": "stream",
          "text": [
            "epochs:27, loss:16841.83203125\n"
          ]
        },
        {
          "name": "stderr",
          "output_type": "stream",
          "text": [
            " 12%|█▏        | 29/250 [01:40<10:36,  2.88s/it]"
          ]
        },
        {
          "name": "stdout",
          "output_type": "stream",
          "text": [
            "epochs:28, loss:16674.1533203125\n"
          ]
        },
        {
          "name": "stderr",
          "output_type": "stream",
          "text": [
            " 12%|█▏        | 30/250 [01:43<10:28,  2.85s/it]"
          ]
        },
        {
          "name": "stdout",
          "output_type": "stream",
          "text": [
            "epochs:29, loss:16626.20361328125\n"
          ]
        },
        {
          "name": "stderr",
          "output_type": "stream",
          "text": [
            " 12%|█▏        | 31/250 [01:45<10:18,  2.82s/it]"
          ]
        },
        {
          "name": "stdout",
          "output_type": "stream",
          "text": [
            "epochs:30, loss:16434.37109375\n"
          ]
        },
        {
          "name": "stderr",
          "output_type": "stream",
          "text": [
            " 13%|█▎        | 32/250 [01:48<10:30,  2.89s/it]"
          ]
        },
        {
          "name": "stdout",
          "output_type": "stream",
          "text": [
            "epochs:31, loss:16385.789306640625\n"
          ]
        },
        {
          "name": "stderr",
          "output_type": "stream",
          "text": [
            " 13%|█▎        | 33/250 [01:52<10:51,  3.00s/it]"
          ]
        },
        {
          "name": "stdout",
          "output_type": "stream",
          "text": [
            "epochs:32, loss:16313.111083984375\n"
          ]
        },
        {
          "name": "stderr",
          "output_type": "stream",
          "text": [
            " 14%|█▎        | 34/250 [01:56<11:51,  3.30s/it]"
          ]
        },
        {
          "name": "stdout",
          "output_type": "stream",
          "text": [
            "epochs:33, loss:16171.825439453125\n"
          ]
        },
        {
          "name": "stderr",
          "output_type": "stream",
          "text": [
            " 14%|█▍        | 35/250 [01:59<12:21,  3.45s/it]"
          ]
        },
        {
          "name": "stdout",
          "output_type": "stream",
          "text": [
            "epochs:34, loss:16085.586669921875\n"
          ]
        },
        {
          "name": "stderr",
          "output_type": "stream",
          "text": [
            " 14%|█▍        | 36/250 [02:03<12:41,  3.56s/it]"
          ]
        },
        {
          "name": "stdout",
          "output_type": "stream",
          "text": [
            "epochs:35, loss:16034.718505859375\n"
          ]
        },
        {
          "name": "stderr",
          "output_type": "stream",
          "text": [
            " 15%|█▍        | 37/250 [02:06<11:53,  3.35s/it]"
          ]
        },
        {
          "name": "stdout",
          "output_type": "stream",
          "text": [
            "epochs:36, loss:15913.523193359375\n"
          ]
        },
        {
          "name": "stderr",
          "output_type": "stream",
          "text": [
            " 15%|█▌        | 38/250 [02:09<11:20,  3.21s/it]"
          ]
        },
        {
          "name": "stdout",
          "output_type": "stream",
          "text": [
            "epochs:37, loss:15827.81640625\n"
          ]
        },
        {
          "name": "stderr",
          "output_type": "stream",
          "text": [
            " 16%|█▌        | 39/250 [02:12<11:00,  3.13s/it]"
          ]
        },
        {
          "name": "stdout",
          "output_type": "stream",
          "text": [
            "epochs:38, loss:15712.570068359375\n"
          ]
        },
        {
          "name": "stderr",
          "output_type": "stream",
          "text": [
            " 16%|█▌        | 40/250 [02:15<10:51,  3.10s/it]"
          ]
        },
        {
          "name": "stdout",
          "output_type": "stream",
          "text": [
            "epochs:39, loss:15673.287109375\n"
          ]
        },
        {
          "name": "stderr",
          "output_type": "stream",
          "text": [
            " 16%|█▋        | 41/250 [02:18<10:24,  2.99s/it]"
          ]
        },
        {
          "name": "stdout",
          "output_type": "stream",
          "text": [
            "epochs:40, loss:15471.573486328125\n"
          ]
        },
        {
          "name": "stderr",
          "output_type": "stream",
          "text": [
            " 17%|█▋        | 42/250 [02:20<10:09,  2.93s/it]"
          ]
        },
        {
          "name": "stdout",
          "output_type": "stream",
          "text": [
            "epochs:41, loss:15419.430908203125\n"
          ]
        },
        {
          "name": "stderr",
          "output_type": "stream",
          "text": [
            " 17%|█▋        | 43/250 [02:23<09:58,  2.89s/it]"
          ]
        },
        {
          "name": "stdout",
          "output_type": "stream",
          "text": [
            "epochs:42, loss:15377.199951171875\n"
          ]
        },
        {
          "name": "stderr",
          "output_type": "stream",
          "text": [
            " 18%|█▊        | 44/250 [02:26<09:42,  2.83s/it]"
          ]
        },
        {
          "name": "stdout",
          "output_type": "stream",
          "text": [
            "epochs:43, loss:15189.465576171875\n"
          ]
        },
        {
          "name": "stderr",
          "output_type": "stream",
          "text": [
            " 18%|█▊        | 45/250 [02:29<09:41,  2.83s/it]"
          ]
        },
        {
          "name": "stdout",
          "output_type": "stream",
          "text": [
            "epochs:44, loss:15053.167724609375\n"
          ]
        },
        {
          "name": "stderr",
          "output_type": "stream",
          "text": [
            " 18%|█▊        | 46/250 [02:32<09:33,  2.81s/it]"
          ]
        },
        {
          "name": "stdout",
          "output_type": "stream",
          "text": [
            "epochs:45, loss:15001.73876953125\n"
          ]
        },
        {
          "name": "stderr",
          "output_type": "stream",
          "text": [
            " 19%|█▉        | 47/250 [02:34<09:36,  2.84s/it]"
          ]
        },
        {
          "name": "stdout",
          "output_type": "stream",
          "text": [
            "epochs:46, loss:14946.146728515625\n"
          ]
        },
        {
          "name": "stderr",
          "output_type": "stream",
          "text": [
            " 19%|█▉        | 48/250 [02:37<09:25,  2.80s/it]"
          ]
        },
        {
          "name": "stdout",
          "output_type": "stream",
          "text": [
            "epochs:47, loss:14777.574951171875\n"
          ]
        },
        {
          "name": "stderr",
          "output_type": "stream",
          "text": [
            " 20%|█▉        | 49/250 [02:40<09:07,  2.72s/it]"
          ]
        },
        {
          "name": "stdout",
          "output_type": "stream",
          "text": [
            "epochs:48, loss:14675.7080078125\n"
          ]
        },
        {
          "name": "stderr",
          "output_type": "stream",
          "text": [
            " 20%|██        | 50/250 [02:43<09:09,  2.75s/it]"
          ]
        },
        {
          "name": "stdout",
          "output_type": "stream",
          "text": [
            "epochs:49, loss:14549.567138671875\n"
          ]
        },
        {
          "name": "stderr",
          "output_type": "stream",
          "text": [
            " 20%|██        | 51/250 [02:45<09:01,  2.72s/it]"
          ]
        },
        {
          "name": "stdout",
          "output_type": "stream",
          "text": [
            "epochs:50, loss:14489.198974609375\n"
          ]
        },
        {
          "name": "stderr",
          "output_type": "stream",
          "text": [
            " 21%|██        | 52/250 [02:50<10:49,  3.28s/it]"
          ]
        },
        {
          "name": "stdout",
          "output_type": "stream",
          "text": [
            "epochs:51, loss:14435.46728515625\n"
          ]
        },
        {
          "name": "stderr",
          "output_type": "stream",
          "text": [
            " 21%|██        | 53/250 [02:54<11:22,  3.46s/it]"
          ]
        },
        {
          "name": "stdout",
          "output_type": "stream",
          "text": [
            "epochs:52, loss:14302.371337890625\n"
          ]
        },
        {
          "name": "stderr",
          "output_type": "stream",
          "text": [
            " 22%|██▏       | 54/250 [02:58<12:06,  3.71s/it]"
          ]
        },
        {
          "name": "stdout",
          "output_type": "stream",
          "text": [
            "epochs:53, loss:14160.932861328125\n"
          ]
        },
        {
          "name": "stderr",
          "output_type": "stream",
          "text": [
            " 22%|██▏       | 55/250 [03:02<12:02,  3.70s/it]"
          ]
        },
        {
          "name": "stdout",
          "output_type": "stream",
          "text": [
            "epochs:54, loss:14062.062255859375\n"
          ]
        },
        {
          "name": "stderr",
          "output_type": "stream",
          "text": [
            " 22%|██▏       | 56/250 [03:05<11:47,  3.64s/it]"
          ]
        },
        {
          "name": "stdout",
          "output_type": "stream",
          "text": [
            "epochs:55, loss:13886.092041015625\n"
          ]
        },
        {
          "name": "stderr",
          "output_type": "stream",
          "text": [
            " 23%|██▎       | 57/250 [03:10<12:53,  4.01s/it]"
          ]
        },
        {
          "name": "stdout",
          "output_type": "stream",
          "text": [
            "epochs:56, loss:13826.09765625\n"
          ]
        },
        {
          "name": "stderr",
          "output_type": "stream",
          "text": [
            " 23%|██▎       | 58/250 [03:14<12:26,  3.89s/it]"
          ]
        },
        {
          "name": "stdout",
          "output_type": "stream",
          "text": [
            "epochs:57, loss:13664.501953125\n"
          ]
        },
        {
          "name": "stderr",
          "output_type": "stream",
          "text": [
            " 24%|██▎       | 59/250 [03:17<11:41,  3.67s/it]"
          ]
        },
        {
          "name": "stdout",
          "output_type": "stream",
          "text": [
            "epochs:58, loss:13664.235107421875\n"
          ]
        },
        {
          "name": "stderr",
          "output_type": "stream",
          "text": [
            " 24%|██▍       | 60/250 [03:19<10:39,  3.36s/it]"
          ]
        },
        {
          "name": "stdout",
          "output_type": "stream",
          "text": [
            "epochs:59, loss:13502.154296875\n"
          ]
        },
        {
          "name": "stderr",
          "output_type": "stream",
          "text": [
            " 24%|██▍       | 61/250 [03:22<10:15,  3.26s/it]"
          ]
        },
        {
          "name": "stdout",
          "output_type": "stream",
          "text": [
            "epochs:60, loss:13328.4833984375\n"
          ]
        },
        {
          "name": "stderr",
          "output_type": "stream",
          "text": [
            " 25%|██▍       | 62/250 [03:25<09:35,  3.06s/it]"
          ]
        },
        {
          "name": "stdout",
          "output_type": "stream",
          "text": [
            "epochs:61, loss:13244.932861328125\n"
          ]
        },
        {
          "name": "stderr",
          "output_type": "stream",
          "text": [
            " 25%|██▌       | 63/250 [03:28<09:14,  2.96s/it]"
          ]
        },
        {
          "name": "stdout",
          "output_type": "stream",
          "text": [
            "epochs:62, loss:13161.841796875\n"
          ]
        },
        {
          "name": "stderr",
          "output_type": "stream",
          "text": [
            " 26%|██▌       | 64/250 [03:30<08:56,  2.88s/it]"
          ]
        },
        {
          "name": "stdout",
          "output_type": "stream",
          "text": [
            "epochs:63, loss:13118.673583984375\n"
          ]
        },
        {
          "name": "stderr",
          "output_type": "stream",
          "text": [
            " 26%|██▌       | 65/250 [03:33<08:42,  2.82s/it]"
          ]
        },
        {
          "name": "stdout",
          "output_type": "stream",
          "text": [
            "epochs:64, loss:12900.932861328125\n"
          ]
        },
        {
          "name": "stderr",
          "output_type": "stream",
          "text": [
            " 26%|██▋       | 66/250 [03:36<08:31,  2.78s/it]"
          ]
        },
        {
          "name": "stdout",
          "output_type": "stream",
          "text": [
            "epochs:65, loss:12817.40673828125\n"
          ]
        },
        {
          "name": "stderr",
          "output_type": "stream",
          "text": [
            " 27%|██▋       | 67/250 [03:39<08:23,  2.75s/it]"
          ]
        },
        {
          "name": "stdout",
          "output_type": "stream",
          "text": [
            "epochs:66, loss:12680.238525390625\n"
          ]
        },
        {
          "name": "stderr",
          "output_type": "stream",
          "text": [
            " 27%|██▋       | 68/250 [03:42<08:37,  2.85s/it]"
          ]
        },
        {
          "name": "stdout",
          "output_type": "stream",
          "text": [
            "epochs:67, loss:12576.274658203125\n"
          ]
        },
        {
          "name": "stderr",
          "output_type": "stream",
          "text": [
            " 28%|██▊       | 69/250 [03:45<08:51,  2.94s/it]"
          ]
        },
        {
          "name": "stdout",
          "output_type": "stream",
          "text": [
            "epochs:68, loss:12501.8544921875\n"
          ]
        },
        {
          "name": "stderr",
          "output_type": "stream",
          "text": [
            " 28%|██▊       | 70/250 [03:48<08:52,  2.96s/it]"
          ]
        },
        {
          "name": "stdout",
          "output_type": "stream",
          "text": [
            "epochs:69, loss:12349.90234375\n"
          ]
        },
        {
          "name": "stderr",
          "output_type": "stream",
          "text": [
            " 28%|██▊       | 71/250 [03:51<08:53,  2.98s/it]"
          ]
        },
        {
          "name": "stdout",
          "output_type": "stream",
          "text": [
            "epochs:70, loss:12217.157958984375\n"
          ]
        },
        {
          "name": "stderr",
          "output_type": "stream",
          "text": [
            " 29%|██▉       | 72/250 [03:54<08:55,  3.01s/it]"
          ]
        },
        {
          "name": "stdout",
          "output_type": "stream",
          "text": [
            "epochs:71, loss:12212.359619140625\n"
          ]
        },
        {
          "name": "stderr",
          "output_type": "stream",
          "text": [
            " 29%|██▉       | 73/250 [03:57<08:45,  2.97s/it]"
          ]
        },
        {
          "name": "stdout",
          "output_type": "stream",
          "text": [
            "epochs:72, loss:11940.76806640625\n"
          ]
        },
        {
          "name": "stderr",
          "output_type": "stream",
          "text": [
            " 30%|██▉       | 74/250 [04:00<08:45,  2.99s/it]"
          ]
        },
        {
          "name": "stdout",
          "output_type": "stream",
          "text": [
            "epochs:73, loss:11883.557373046875\n"
          ]
        },
        {
          "name": "stderr",
          "output_type": "stream",
          "text": [
            " 30%|███       | 75/250 [04:03<08:56,  3.06s/it]"
          ]
        },
        {
          "name": "stdout",
          "output_type": "stream",
          "text": [
            "epochs:74, loss:11817.235107421875\n"
          ]
        },
        {
          "name": "stderr",
          "output_type": "stream",
          "text": [
            " 30%|███       | 76/250 [04:06<08:49,  3.04s/it]"
          ]
        },
        {
          "name": "stdout",
          "output_type": "stream",
          "text": [
            "epochs:75, loss:11693.1982421875\n"
          ]
        },
        {
          "name": "stderr",
          "output_type": "stream",
          "text": [
            " 31%|███       | 77/250 [04:09<08:32,  2.96s/it]"
          ]
        },
        {
          "name": "stdout",
          "output_type": "stream",
          "text": [
            "epochs:76, loss:11601.73046875\n"
          ]
        },
        {
          "name": "stderr",
          "output_type": "stream",
          "text": [
            " 31%|███       | 78/250 [04:12<08:39,  3.02s/it]"
          ]
        },
        {
          "name": "stdout",
          "output_type": "stream",
          "text": [
            "epochs:77, loss:11506.3388671875\n"
          ]
        },
        {
          "name": "stderr",
          "output_type": "stream",
          "text": [
            " 32%|███▏      | 79/250 [04:15<08:37,  3.02s/it]"
          ]
        },
        {
          "name": "stdout",
          "output_type": "stream",
          "text": [
            "epochs:78, loss:11309.837890625\n"
          ]
        },
        {
          "name": "stderr",
          "output_type": "stream",
          "text": [
            " 32%|███▏      | 80/250 [04:18<08:33,  3.02s/it]"
          ]
        },
        {
          "name": "stdout",
          "output_type": "stream",
          "text": [
            "epochs:79, loss:11260.086669921875\n"
          ]
        },
        {
          "name": "stderr",
          "output_type": "stream",
          "text": [
            " 32%|███▏      | 81/250 [04:21<08:32,  3.03s/it]"
          ]
        },
        {
          "name": "stdout",
          "output_type": "stream",
          "text": [
            "epochs:80, loss:11143.908203125\n"
          ]
        },
        {
          "name": "stderr",
          "output_type": "stream",
          "text": [
            " 33%|███▎      | 82/250 [04:24<08:27,  3.02s/it]"
          ]
        },
        {
          "name": "stdout",
          "output_type": "stream",
          "text": [
            "epochs:81, loss:11015.33642578125\n"
          ]
        },
        {
          "name": "stderr",
          "output_type": "stream",
          "text": [
            " 33%|███▎      | 83/250 [04:27<08:29,  3.05s/it]"
          ]
        },
        {
          "name": "stdout",
          "output_type": "stream",
          "text": [
            "epochs:82, loss:10932.46044921875\n"
          ]
        },
        {
          "name": "stderr",
          "output_type": "stream",
          "text": [
            " 34%|███▎      | 84/250 [04:30<08:13,  2.97s/it]"
          ]
        },
        {
          "name": "stdout",
          "output_type": "stream",
          "text": [
            "epochs:83, loss:10762.6748046875\n"
          ]
        },
        {
          "name": "stderr",
          "output_type": "stream",
          "text": [
            " 34%|███▍      | 85/250 [04:33<08:29,  3.09s/it]"
          ]
        },
        {
          "name": "stdout",
          "output_type": "stream",
          "text": [
            "epochs:84, loss:10686.389404296875\n"
          ]
        },
        {
          "name": "stderr",
          "output_type": "stream",
          "text": [
            " 34%|███▍      | 86/250 [04:37<09:14,  3.38s/it]"
          ]
        },
        {
          "name": "stdout",
          "output_type": "stream",
          "text": [
            "epochs:85, loss:10580.031982421875\n"
          ]
        },
        {
          "name": "stderr",
          "output_type": "stream",
          "text": [
            " 35%|███▍      | 87/250 [04:42<10:19,  3.80s/it]"
          ]
        },
        {
          "name": "stdout",
          "output_type": "stream",
          "text": [
            "epochs:86, loss:10373.248779296875\n"
          ]
        },
        {
          "name": "stderr",
          "output_type": "stream",
          "text": [
            " 35%|███▌      | 88/250 [04:46<10:20,  3.83s/it]"
          ]
        },
        {
          "name": "stdout",
          "output_type": "stream",
          "text": [
            "epochs:87, loss:10338.629638671875\n"
          ]
        },
        {
          "name": "stderr",
          "output_type": "stream",
          "text": [
            " 36%|███▌      | 89/250 [04:49<09:30,  3.54s/it]"
          ]
        },
        {
          "name": "stdout",
          "output_type": "stream",
          "text": [
            "epochs:88, loss:10216.224853515625\n"
          ]
        },
        {
          "name": "stderr",
          "output_type": "stream",
          "text": [
            " 36%|███▌      | 90/250 [04:52<08:46,  3.29s/it]"
          ]
        },
        {
          "name": "stdout",
          "output_type": "stream",
          "text": [
            "epochs:89, loss:10156.473388671875\n"
          ]
        },
        {
          "name": "stderr",
          "output_type": "stream",
          "text": [
            " 36%|███▋      | 91/250 [04:55<08:25,  3.18s/it]"
          ]
        },
        {
          "name": "stdout",
          "output_type": "stream",
          "text": [
            "epochs:90, loss:10012.54248046875\n"
          ]
        },
        {
          "name": "stderr",
          "output_type": "stream",
          "text": [
            " 37%|███▋      | 92/250 [04:57<08:12,  3.12s/it]"
          ]
        },
        {
          "name": "stdout",
          "output_type": "stream",
          "text": [
            "epochs:91, loss:9927.166015625\n"
          ]
        },
        {
          "name": "stderr",
          "output_type": "stream",
          "text": [
            " 37%|███▋      | 93/250 [05:00<07:52,  3.01s/it]"
          ]
        },
        {
          "name": "stdout",
          "output_type": "stream",
          "text": [
            "epochs:92, loss:9768.535400390625\n"
          ]
        },
        {
          "name": "stderr",
          "output_type": "stream",
          "text": [
            " 38%|███▊      | 94/250 [05:03<07:43,  2.97s/it]"
          ]
        },
        {
          "name": "stdout",
          "output_type": "stream",
          "text": [
            "epochs:93, loss:9672.15966796875\n"
          ]
        },
        {
          "name": "stderr",
          "output_type": "stream",
          "text": [
            " 38%|███▊      | 95/250 [05:06<07:33,  2.92s/it]"
          ]
        },
        {
          "name": "stdout",
          "output_type": "stream",
          "text": [
            "epochs:94, loss:9586.43212890625\n"
          ]
        },
        {
          "name": "stderr",
          "output_type": "stream",
          "text": [
            " 38%|███▊      | 96/250 [05:09<07:29,  2.92s/it]"
          ]
        },
        {
          "name": "stdout",
          "output_type": "stream",
          "text": [
            "epochs:95, loss:9452.456298828125\n"
          ]
        },
        {
          "name": "stderr",
          "output_type": "stream",
          "text": [
            " 39%|███▉      | 97/250 [05:12<07:32,  2.96s/it]"
          ]
        },
        {
          "name": "stdout",
          "output_type": "stream",
          "text": [
            "epochs:96, loss:9308.673828125\n"
          ]
        },
        {
          "name": "stderr",
          "output_type": "stream",
          "text": [
            " 39%|███▉      | 98/250 [05:15<07:26,  2.94s/it]"
          ]
        },
        {
          "name": "stdout",
          "output_type": "stream",
          "text": [
            "epochs:97, loss:9220.595703125\n"
          ]
        },
        {
          "name": "stderr",
          "output_type": "stream",
          "text": [
            " 40%|███▉      | 99/250 [05:18<07:21,  2.93s/it]"
          ]
        },
        {
          "name": "stdout",
          "output_type": "stream",
          "text": [
            "epochs:98, loss:9156.586181640625\n"
          ]
        },
        {
          "name": "stderr",
          "output_type": "stream",
          "text": [
            " 40%|████      | 100/250 [05:21<07:14,  2.90s/it]"
          ]
        },
        {
          "name": "stdout",
          "output_type": "stream",
          "text": [
            "epochs:99, loss:9023.745361328125\n"
          ]
        },
        {
          "name": "stderr",
          "output_type": "stream",
          "text": [
            " 40%|████      | 101/250 [05:24<07:25,  2.99s/it]"
          ]
        },
        {
          "name": "stdout",
          "output_type": "stream",
          "text": [
            "epochs:100, loss:8962.66943359375\n"
          ]
        },
        {
          "name": "stderr",
          "output_type": "stream",
          "text": [
            " 41%|████      | 102/250 [05:27<07:15,  2.94s/it]"
          ]
        },
        {
          "name": "stdout",
          "output_type": "stream",
          "text": [
            "epochs:101, loss:8816.218017578125\n"
          ]
        },
        {
          "name": "stderr",
          "output_type": "stream",
          "text": [
            " 41%|████      | 103/250 [05:29<07:08,  2.91s/it]"
          ]
        },
        {
          "name": "stdout",
          "output_type": "stream",
          "text": [
            "epochs:102, loss:8714.71533203125\n"
          ]
        },
        {
          "name": "stderr",
          "output_type": "stream",
          "text": [
            " 42%|████▏     | 104/250 [05:32<06:57,  2.86s/it]"
          ]
        },
        {
          "name": "stdout",
          "output_type": "stream",
          "text": [
            "epochs:103, loss:8544.08740234375\n"
          ]
        },
        {
          "name": "stderr",
          "output_type": "stream",
          "text": [
            " 42%|████▏     | 105/250 [05:35<06:52,  2.84s/it]"
          ]
        },
        {
          "name": "stdout",
          "output_type": "stream",
          "text": [
            "epochs:104, loss:8468.780151367188\n"
          ]
        },
        {
          "name": "stderr",
          "output_type": "stream",
          "text": [
            " 42%|████▏     | 106/250 [05:38<06:58,  2.91s/it]"
          ]
        },
        {
          "name": "stdout",
          "output_type": "stream",
          "text": [
            "epochs:105, loss:8421.6240234375\n"
          ]
        },
        {
          "name": "stderr",
          "output_type": "stream",
          "text": [
            " 43%|████▎     | 107/250 [05:41<06:54,  2.90s/it]"
          ]
        },
        {
          "name": "stdout",
          "output_type": "stream",
          "text": [
            "epochs:106, loss:8308.879516601562\n"
          ]
        },
        {
          "name": "stderr",
          "output_type": "stream",
          "text": [
            " 43%|████▎     | 108/250 [05:44<06:46,  2.86s/it]"
          ]
        },
        {
          "name": "stdout",
          "output_type": "stream",
          "text": [
            "epochs:107, loss:8146.29052734375\n"
          ]
        },
        {
          "name": "stderr",
          "output_type": "stream",
          "text": [
            " 44%|████▎     | 109/250 [05:46<06:38,  2.83s/it]"
          ]
        },
        {
          "name": "stdout",
          "output_type": "stream",
          "text": [
            "epochs:108, loss:8082.342041015625\n"
          ]
        },
        {
          "name": "stderr",
          "output_type": "stream",
          "text": [
            " 44%|████▍     | 110/250 [05:49<06:41,  2.86s/it]"
          ]
        },
        {
          "name": "stdout",
          "output_type": "stream",
          "text": [
            "epochs:109, loss:7983.6234130859375\n"
          ]
        },
        {
          "name": "stderr",
          "output_type": "stream",
          "text": [
            " 44%|████▍     | 111/250 [05:52<06:46,  2.92s/it]"
          ]
        },
        {
          "name": "stdout",
          "output_type": "stream",
          "text": [
            "epochs:110, loss:7888.228515625\n"
          ]
        },
        {
          "name": "stderr",
          "output_type": "stream",
          "text": [
            " 45%|████▍     | 112/250 [05:55<06:34,  2.86s/it]"
          ]
        },
        {
          "name": "stdout",
          "output_type": "stream",
          "text": [
            "epochs:111, loss:7775.856689453125\n"
          ]
        },
        {
          "name": "stderr",
          "output_type": "stream",
          "text": [
            " 45%|████▌     | 113/250 [05:58<06:16,  2.75s/it]"
          ]
        },
        {
          "name": "stdout",
          "output_type": "stream",
          "text": [
            "epochs:112, loss:7692.919677734375\n"
          ]
        },
        {
          "name": "stderr",
          "output_type": "stream",
          "text": [
            " 46%|████▌     | 114/250 [06:00<06:06,  2.70s/it]"
          ]
        },
        {
          "name": "stdout",
          "output_type": "stream",
          "text": [
            "epochs:113, loss:7575.663330078125\n"
          ]
        },
        {
          "name": "stderr",
          "output_type": "stream",
          "text": [
            " 46%|████▌     | 115/250 [06:04<06:32,  2.91s/it]"
          ]
        },
        {
          "name": "stdout",
          "output_type": "stream",
          "text": [
            "epochs:114, loss:7504.290771484375\n"
          ]
        },
        {
          "name": "stderr",
          "output_type": "stream",
          "text": [
            " 46%|████▋     | 116/250 [06:07<06:53,  3.09s/it]"
          ]
        },
        {
          "name": "stdout",
          "output_type": "stream",
          "text": [
            "epochs:115, loss:7353.7218017578125\n"
          ]
        },
        {
          "name": "stderr",
          "output_type": "stream",
          "text": [
            " 47%|████▋     | 117/250 [06:11<07:08,  3.22s/it]"
          ]
        },
        {
          "name": "stdout",
          "output_type": "stream",
          "text": [
            "epochs:116, loss:7264.8033447265625\n"
          ]
        },
        {
          "name": "stderr",
          "output_type": "stream",
          "text": [
            " 47%|████▋     | 118/250 [06:13<06:50,  3.11s/it]"
          ]
        },
        {
          "name": "stdout",
          "output_type": "stream",
          "text": [
            "epochs:117, loss:7224.0057373046875\n"
          ]
        },
        {
          "name": "stderr",
          "output_type": "stream",
          "text": [
            " 48%|████▊     | 119/250 [06:16<06:20,  2.90s/it]"
          ]
        },
        {
          "name": "stdout",
          "output_type": "stream",
          "text": [
            "epochs:118, loss:7095.9251708984375\n"
          ]
        },
        {
          "name": "stderr",
          "output_type": "stream",
          "text": [
            " 48%|████▊     | 120/250 [06:18<06:01,  2.78s/it]"
          ]
        },
        {
          "name": "stdout",
          "output_type": "stream",
          "text": [
            "epochs:119, loss:7005.9779052734375\n"
          ]
        },
        {
          "name": "stderr",
          "output_type": "stream",
          "text": [
            " 48%|████▊     | 121/250 [06:21<05:50,  2.71s/it]"
          ]
        },
        {
          "name": "stdout",
          "output_type": "stream",
          "text": [
            "epochs:120, loss:6926.898681640625\n"
          ]
        },
        {
          "name": "stderr",
          "output_type": "stream",
          "text": [
            " 49%|████▉     | 122/250 [06:24<05:44,  2.69s/it]"
          ]
        },
        {
          "name": "stdout",
          "output_type": "stream",
          "text": [
            "epochs:121, loss:6860.15869140625\n"
          ]
        },
        {
          "name": "stderr",
          "output_type": "stream",
          "text": [
            " 49%|████▉     | 123/250 [06:27<05:53,  2.78s/it]"
          ]
        },
        {
          "name": "stdout",
          "output_type": "stream",
          "text": [
            "epochs:122, loss:6752.0079345703125\n"
          ]
        },
        {
          "name": "stderr",
          "output_type": "stream",
          "text": [
            " 50%|████▉     | 124/250 [06:29<05:38,  2.69s/it]"
          ]
        },
        {
          "name": "stdout",
          "output_type": "stream",
          "text": [
            "epochs:123, loss:6595.6778564453125\n"
          ]
        },
        {
          "name": "stderr",
          "output_type": "stream",
          "text": [
            " 50%|█████     | 125/250 [06:32<05:28,  2.63s/it]"
          ]
        },
        {
          "name": "stdout",
          "output_type": "stream",
          "text": [
            "epochs:124, loss:6540.60205078125\n"
          ]
        },
        {
          "name": "stderr",
          "output_type": "stream",
          "text": [
            " 50%|█████     | 126/250 [06:34<05:28,  2.65s/it]"
          ]
        },
        {
          "name": "stdout",
          "output_type": "stream",
          "text": [
            "epochs:125, loss:6487.36083984375\n"
          ]
        },
        {
          "name": "stderr",
          "output_type": "stream",
          "text": [
            " 51%|█████     | 127/250 [06:37<05:15,  2.56s/it]"
          ]
        },
        {
          "name": "stdout",
          "output_type": "stream",
          "text": [
            "epochs:126, loss:6390.7012939453125\n"
          ]
        },
        {
          "name": "stderr",
          "output_type": "stream",
          "text": [
            " 51%|█████     | 128/250 [06:39<05:08,  2.53s/it]"
          ]
        },
        {
          "name": "stdout",
          "output_type": "stream",
          "text": [
            "epochs:127, loss:6333.40771484375\n"
          ]
        },
        {
          "name": "stderr",
          "output_type": "stream",
          "text": [
            " 52%|█████▏    | 129/250 [06:41<04:59,  2.48s/it]"
          ]
        },
        {
          "name": "stdout",
          "output_type": "stream",
          "text": [
            "epochs:128, loss:6193.5567626953125\n"
          ]
        },
        {
          "name": "stderr",
          "output_type": "stream",
          "text": [
            " 52%|█████▏    | 130/250 [06:44<04:54,  2.45s/it]"
          ]
        },
        {
          "name": "stdout",
          "output_type": "stream",
          "text": [
            "epochs:129, loss:6116.61669921875\n"
          ]
        },
        {
          "name": "stderr",
          "output_type": "stream",
          "text": [
            " 52%|█████▏    | 131/250 [06:46<04:49,  2.43s/it]"
          ]
        },
        {
          "name": "stdout",
          "output_type": "stream",
          "text": [
            "epochs:130, loss:6065.011474609375\n"
          ]
        },
        {
          "name": "stderr",
          "output_type": "stream",
          "text": [
            " 53%|█████▎    | 132/250 [06:49<04:47,  2.44s/it]"
          ]
        },
        {
          "name": "stdout",
          "output_type": "stream",
          "text": [
            "epochs:131, loss:5959.8524169921875\n"
          ]
        },
        {
          "name": "stderr",
          "output_type": "stream",
          "text": [
            " 53%|█████▎    | 133/250 [06:51<04:43,  2.42s/it]"
          ]
        },
        {
          "name": "stdout",
          "output_type": "stream",
          "text": [
            "epochs:132, loss:5864.2835693359375\n"
          ]
        },
        {
          "name": "stderr",
          "output_type": "stream",
          "text": [
            " 54%|█████▎    | 134/250 [06:53<04:39,  2.41s/it]"
          ]
        },
        {
          "name": "stdout",
          "output_type": "stream",
          "text": [
            "epochs:133, loss:5775.775146484375\n"
          ]
        },
        {
          "name": "stderr",
          "output_type": "stream",
          "text": [
            " 54%|█████▍    | 135/250 [06:56<04:37,  2.41s/it]"
          ]
        },
        {
          "name": "stdout",
          "output_type": "stream",
          "text": [
            "epochs:134, loss:5687.549072265625\n"
          ]
        },
        {
          "name": "stderr",
          "output_type": "stream",
          "text": [
            " 54%|█████▍    | 136/250 [06:59<04:45,  2.50s/it]"
          ]
        },
        {
          "name": "stdout",
          "output_type": "stream",
          "text": [
            "epochs:135, loss:5594.753173828125\n"
          ]
        },
        {
          "name": "stderr",
          "output_type": "stream",
          "text": [
            " 55%|█████▍    | 137/250 [07:01<04:47,  2.54s/it]"
          ]
        },
        {
          "name": "stdout",
          "output_type": "stream",
          "text": [
            "epochs:136, loss:5537.4306640625\n"
          ]
        },
        {
          "name": "stderr",
          "output_type": "stream",
          "text": [
            " 55%|█████▌    | 138/250 [07:04<04:49,  2.58s/it]"
          ]
        },
        {
          "name": "stdout",
          "output_type": "stream",
          "text": [
            "epochs:137, loss:5426.766845703125\n"
          ]
        },
        {
          "name": "stderr",
          "output_type": "stream",
          "text": [
            " 56%|█████▌    | 139/250 [07:06<04:44,  2.56s/it]"
          ]
        },
        {
          "name": "stdout",
          "output_type": "stream",
          "text": [
            "epochs:138, loss:5342.5657958984375\n"
          ]
        },
        {
          "name": "stderr",
          "output_type": "stream",
          "text": [
            " 56%|█████▌    | 140/250 [07:09<04:43,  2.57s/it]"
          ]
        },
        {
          "name": "stdout",
          "output_type": "stream",
          "text": [
            "epochs:139, loss:5298.4530029296875\n"
          ]
        },
        {
          "name": "stderr",
          "output_type": "stream",
          "text": [
            " 56%|█████▋    | 141/250 [07:12<04:44,  2.61s/it]"
          ]
        },
        {
          "name": "stdout",
          "output_type": "stream",
          "text": [
            "epochs:140, loss:5238.5987548828125\n"
          ]
        },
        {
          "name": "stderr",
          "output_type": "stream",
          "text": [
            " 57%|█████▋    | 142/250 [07:14<04:38,  2.58s/it]"
          ]
        },
        {
          "name": "stdout",
          "output_type": "stream",
          "text": [
            "epochs:141, loss:5066.3680419921875\n"
          ]
        },
        {
          "name": "stderr",
          "output_type": "stream",
          "text": [
            " 57%|█████▋    | 143/250 [07:17<04:36,  2.59s/it]"
          ]
        },
        {
          "name": "stdout",
          "output_type": "stream",
          "text": [
            "epochs:142, loss:5058.985107421875\n"
          ]
        },
        {
          "name": "stderr",
          "output_type": "stream",
          "text": [
            " 58%|█████▊    | 144/250 [07:19<04:32,  2.57s/it]"
          ]
        },
        {
          "name": "stdout",
          "output_type": "stream",
          "text": [
            "epochs:143, loss:4934.417236328125\n"
          ]
        },
        {
          "name": "stderr",
          "output_type": "stream",
          "text": [
            " 58%|█████▊    | 145/250 [07:22<04:38,  2.65s/it]"
          ]
        },
        {
          "name": "stdout",
          "output_type": "stream",
          "text": [
            "epochs:144, loss:4836.0289306640625\n"
          ]
        },
        {
          "name": "stderr",
          "output_type": "stream",
          "text": [
            " 58%|█████▊    | 146/250 [07:25<04:38,  2.68s/it]"
          ]
        },
        {
          "name": "stdout",
          "output_type": "stream",
          "text": [
            "epochs:145, loss:4809.08056640625\n"
          ]
        },
        {
          "name": "stderr",
          "output_type": "stream",
          "text": [
            " 59%|█████▉    | 147/250 [07:27<04:33,  2.66s/it]"
          ]
        },
        {
          "name": "stdout",
          "output_type": "stream",
          "text": [
            "epochs:146, loss:4682.551513671875\n"
          ]
        },
        {
          "name": "stderr",
          "output_type": "stream",
          "text": [
            " 59%|█████▉    | 148/250 [07:30<04:26,  2.62s/it]"
          ]
        },
        {
          "name": "stdout",
          "output_type": "stream",
          "text": [
            "epochs:147, loss:4660.731201171875\n"
          ]
        },
        {
          "name": "stderr",
          "output_type": "stream",
          "text": [
            " 60%|█████▉    | 149/250 [07:33<04:23,  2.61s/it]"
          ]
        },
        {
          "name": "stdout",
          "output_type": "stream",
          "text": [
            "epochs:148, loss:4595.04150390625\n"
          ]
        },
        {
          "name": "stderr",
          "output_type": "stream",
          "text": [
            " 60%|██████    | 150/250 [07:35<04:20,  2.60s/it]"
          ]
        },
        {
          "name": "stdout",
          "output_type": "stream",
          "text": [
            "epochs:149, loss:4462.1507568359375\n"
          ]
        },
        {
          "name": "stderr",
          "output_type": "stream",
          "text": [
            " 60%|██████    | 151/250 [07:38<04:17,  2.60s/it]"
          ]
        },
        {
          "name": "stdout",
          "output_type": "stream",
          "text": [
            "epochs:150, loss:4368.503967285156\n"
          ]
        },
        {
          "name": "stderr",
          "output_type": "stream",
          "text": [
            " 61%|██████    | 152/250 [07:40<04:17,  2.63s/it]"
          ]
        },
        {
          "name": "stdout",
          "output_type": "stream",
          "text": [
            "epochs:151, loss:4332.6231689453125\n"
          ]
        },
        {
          "name": "stderr",
          "output_type": "stream",
          "text": [
            " 61%|██████    | 153/250 [07:43<04:15,  2.63s/it]"
          ]
        },
        {
          "name": "stdout",
          "output_type": "stream",
          "text": [
            "epochs:152, loss:4248.0587158203125\n"
          ]
        },
        {
          "name": "stderr",
          "output_type": "stream",
          "text": [
            " 62%|██████▏   | 154/250 [07:46<04:16,  2.67s/it]"
          ]
        },
        {
          "name": "stdout",
          "output_type": "stream",
          "text": [
            "epochs:153, loss:4229.8157958984375\n"
          ]
        },
        {
          "name": "stderr",
          "output_type": "stream",
          "text": [
            " 62%|██████▏   | 155/250 [07:48<04:11,  2.65s/it]"
          ]
        },
        {
          "name": "stdout",
          "output_type": "stream",
          "text": [
            "epochs:154, loss:4129.2198486328125\n"
          ]
        },
        {
          "name": "stderr",
          "output_type": "stream",
          "text": [
            " 62%|██████▏   | 156/250 [07:51<04:14,  2.70s/it]"
          ]
        },
        {
          "name": "stdout",
          "output_type": "stream",
          "text": [
            "epochs:155, loss:4057.2349243164062\n"
          ]
        },
        {
          "name": "stderr",
          "output_type": "stream",
          "text": [
            " 63%|██████▎   | 157/250 [07:54<04:18,  2.78s/it]"
          ]
        },
        {
          "name": "stdout",
          "output_type": "stream",
          "text": [
            "epochs:156, loss:4006.2261352539062\n"
          ]
        },
        {
          "name": "stderr",
          "output_type": "stream",
          "text": [
            " 63%|██████▎   | 158/250 [07:57<04:13,  2.76s/it]"
          ]
        },
        {
          "name": "stdout",
          "output_type": "stream",
          "text": [
            "epochs:157, loss:3916.8595581054688\n"
          ]
        },
        {
          "name": "stderr",
          "output_type": "stream",
          "text": [
            " 64%|██████▎   | 159/250 [08:00<04:11,  2.77s/it]"
          ]
        },
        {
          "name": "stdout",
          "output_type": "stream",
          "text": [
            "epochs:158, loss:3882.6324462890625\n"
          ]
        },
        {
          "name": "stderr",
          "output_type": "stream",
          "text": [
            " 64%|██████▍   | 160/250 [08:02<04:02,  2.70s/it]"
          ]
        },
        {
          "name": "stdout",
          "output_type": "stream",
          "text": [
            "epochs:159, loss:3809.6434326171875\n"
          ]
        },
        {
          "name": "stderr",
          "output_type": "stream",
          "text": [
            " 64%|██████▍   | 161/250 [08:05<04:04,  2.75s/it]"
          ]
        },
        {
          "name": "stdout",
          "output_type": "stream",
          "text": [
            "epochs:160, loss:3701.5403442382812\n"
          ]
        },
        {
          "name": "stderr",
          "output_type": "stream",
          "text": [
            " 65%|██████▍   | 162/250 [08:08<04:00,  2.73s/it]"
          ]
        },
        {
          "name": "stdout",
          "output_type": "stream",
          "text": [
            "epochs:161, loss:3647.0254516601562\n"
          ]
        },
        {
          "name": "stderr",
          "output_type": "stream",
          "text": [
            " 65%|██████▌   | 163/250 [08:10<03:53,  2.68s/it]"
          ]
        },
        {
          "name": "stdout",
          "output_type": "stream",
          "text": [
            "epochs:162, loss:3607.3335571289062\n"
          ]
        },
        {
          "name": "stderr",
          "output_type": "stream",
          "text": [
            " 66%|██████▌   | 164/250 [08:13<03:51,  2.69s/it]"
          ]
        },
        {
          "name": "stdout",
          "output_type": "stream",
          "text": [
            "epochs:163, loss:3535.0451049804688\n"
          ]
        },
        {
          "name": "stderr",
          "output_type": "stream",
          "text": [
            " 66%|██████▌   | 165/250 [08:16<03:54,  2.76s/it]"
          ]
        },
        {
          "name": "stdout",
          "output_type": "stream",
          "text": [
            "epochs:164, loss:3475.6104736328125\n"
          ]
        },
        {
          "name": "stderr",
          "output_type": "stream",
          "text": [
            " 66%|██████▋   | 166/250 [08:19<03:51,  2.75s/it]"
          ]
        },
        {
          "name": "stdout",
          "output_type": "stream",
          "text": [
            "epochs:165, loss:3385.1905517578125\n"
          ]
        },
        {
          "name": "stderr",
          "output_type": "stream",
          "text": [
            " 67%|██████▋   | 167/250 [08:21<03:46,  2.72s/it]"
          ]
        },
        {
          "name": "stdout",
          "output_type": "stream",
          "text": [
            "epochs:166, loss:3354.5894165039062\n"
          ]
        },
        {
          "name": "stderr",
          "output_type": "stream",
          "text": [
            " 67%|██████▋   | 168/250 [08:24<03:38,  2.66s/it]"
          ]
        },
        {
          "name": "stdout",
          "output_type": "stream",
          "text": [
            "epochs:167, loss:3305.9954223632812\n"
          ]
        },
        {
          "name": "stderr",
          "output_type": "stream",
          "text": [
            " 68%|██████▊   | 169/250 [08:27<03:33,  2.64s/it]"
          ]
        },
        {
          "name": "stdout",
          "output_type": "stream",
          "text": [
            "epochs:168, loss:3318.981689453125\n"
          ]
        },
        {
          "name": "stderr",
          "output_type": "stream",
          "text": [
            " 68%|██████▊   | 170/250 [08:29<03:30,  2.64s/it]"
          ]
        },
        {
          "name": "stdout",
          "output_type": "stream",
          "text": [
            "epochs:169, loss:3217.2615966796875\n"
          ]
        },
        {
          "name": "stderr",
          "output_type": "stream",
          "text": [
            " 68%|██████▊   | 171/250 [08:32<03:28,  2.63s/it]"
          ]
        },
        {
          "name": "stdout",
          "output_type": "stream",
          "text": [
            "epochs:170, loss:3076.3406372070312\n"
          ]
        },
        {
          "name": "stderr",
          "output_type": "stream",
          "text": [
            " 69%|██████▉   | 172/250 [08:34<03:26,  2.64s/it]"
          ]
        },
        {
          "name": "stdout",
          "output_type": "stream",
          "text": [
            "epochs:171, loss:3001.7604370117188\n"
          ]
        },
        {
          "name": "stderr",
          "output_type": "stream",
          "text": [
            " 69%|██████▉   | 173/250 [08:37<03:26,  2.68s/it]"
          ]
        },
        {
          "name": "stdout",
          "output_type": "stream",
          "text": [
            "epochs:172, loss:2932.5728149414062\n"
          ]
        },
        {
          "name": "stderr",
          "output_type": "stream",
          "text": [
            " 70%|██████▉   | 174/250 [08:40<03:23,  2.68s/it]"
          ]
        },
        {
          "name": "stdout",
          "output_type": "stream",
          "text": [
            "epochs:173, loss:2894.3506469726562\n"
          ]
        },
        {
          "name": "stderr",
          "output_type": "stream",
          "text": [
            " 70%|███████   | 175/250 [08:42<03:18,  2.65s/it]"
          ]
        },
        {
          "name": "stdout",
          "output_type": "stream",
          "text": [
            "epochs:174, loss:2821.0410766601562\n"
          ]
        },
        {
          "name": "stderr",
          "output_type": "stream",
          "text": [
            " 70%|███████   | 176/250 [08:45<03:13,  2.62s/it]"
          ]
        },
        {
          "name": "stdout",
          "output_type": "stream",
          "text": [
            "epochs:175, loss:2777.83642578125\n"
          ]
        },
        {
          "name": "stderr",
          "output_type": "stream",
          "text": [
            " 71%|███████   | 177/250 [08:48<03:16,  2.69s/it]"
          ]
        },
        {
          "name": "stdout",
          "output_type": "stream",
          "text": [
            "epochs:176, loss:2709.3363647460938\n"
          ]
        },
        {
          "name": "stderr",
          "output_type": "stream",
          "text": [
            " 71%|███████   | 178/250 [08:51<03:14,  2.70s/it]"
          ]
        },
        {
          "name": "stdout",
          "output_type": "stream",
          "text": [
            "epochs:177, loss:2666.1240234375\n"
          ]
        },
        {
          "name": "stderr",
          "output_type": "stream",
          "text": [
            " 72%|███████▏  | 179/250 [08:53<03:08,  2.66s/it]"
          ]
        },
        {
          "name": "stdout",
          "output_type": "stream",
          "text": [
            "epochs:178, loss:2626.0810546875\n"
          ]
        },
        {
          "name": "stderr",
          "output_type": "stream",
          "text": [
            " 72%|███████▏  | 180/250 [08:56<03:07,  2.67s/it]"
          ]
        },
        {
          "name": "stdout",
          "output_type": "stream",
          "text": [
            "epochs:179, loss:2607.8108520507812\n"
          ]
        },
        {
          "name": "stderr",
          "output_type": "stream",
          "text": [
            " 72%|███████▏  | 181/250 [08:59<03:04,  2.68s/it]"
          ]
        },
        {
          "name": "stdout",
          "output_type": "stream",
          "text": [
            "epochs:180, loss:2513.1885986328125\n"
          ]
        },
        {
          "name": "stderr",
          "output_type": "stream",
          "text": [
            " 73%|███████▎  | 182/250 [09:01<02:56,  2.59s/it]"
          ]
        },
        {
          "name": "stdout",
          "output_type": "stream",
          "text": [
            "epochs:181, loss:2451.0543212890625\n"
          ]
        },
        {
          "name": "stderr",
          "output_type": "stream",
          "text": [
            " 73%|███████▎  | 183/250 [09:04<02:55,  2.62s/it]"
          ]
        },
        {
          "name": "stdout",
          "output_type": "stream",
          "text": [
            "epochs:182, loss:2416.3944091796875\n"
          ]
        },
        {
          "name": "stderr",
          "output_type": "stream",
          "text": [
            " 74%|███████▎  | 184/250 [09:06<02:51,  2.60s/it]"
          ]
        },
        {
          "name": "stdout",
          "output_type": "stream",
          "text": [
            "epochs:183, loss:2404.46240234375\n"
          ]
        },
        {
          "name": "stderr",
          "output_type": "stream",
          "text": [
            " 74%|███████▍  | 185/250 [09:09<02:48,  2.60s/it]"
          ]
        },
        {
          "name": "stdout",
          "output_type": "stream",
          "text": [
            "epochs:184, loss:2341.2283325195312\n"
          ]
        },
        {
          "name": "stderr",
          "output_type": "stream",
          "text": [
            " 74%|███████▍  | 186/250 [09:11<02:48,  2.63s/it]"
          ]
        },
        {
          "name": "stdout",
          "output_type": "stream",
          "text": [
            "epochs:185, loss:2293.9859619140625\n"
          ]
        },
        {
          "name": "stderr",
          "output_type": "stream",
          "text": [
            " 75%|███████▍  | 187/250 [09:14<02:48,  2.67s/it]"
          ]
        },
        {
          "name": "stdout",
          "output_type": "stream",
          "text": [
            "epochs:186, loss:2247.0956420898438\n"
          ]
        },
        {
          "name": "stderr",
          "output_type": "stream",
          "text": [
            " 75%|███████▌  | 188/250 [09:17<02:42,  2.63s/it]"
          ]
        },
        {
          "name": "stdout",
          "output_type": "stream",
          "text": [
            "epochs:187, loss:2210.979736328125\n"
          ]
        },
        {
          "name": "stderr",
          "output_type": "stream",
          "text": [
            " 76%|███████▌  | 189/250 [09:20<02:42,  2.66s/it]"
          ]
        },
        {
          "name": "stdout",
          "output_type": "stream",
          "text": [
            "epochs:188, loss:2173.5411376953125\n"
          ]
        },
        {
          "name": "stderr",
          "output_type": "stream",
          "text": [
            " 76%|███████▌  | 190/250 [09:22<02:39,  2.66s/it]"
          ]
        },
        {
          "name": "stdout",
          "output_type": "stream",
          "text": [
            "epochs:189, loss:2130.169708251953\n"
          ]
        },
        {
          "name": "stderr",
          "output_type": "stream",
          "text": [
            " 76%|███████▋  | 191/250 [09:25<02:39,  2.70s/it]"
          ]
        },
        {
          "name": "stdout",
          "output_type": "stream",
          "text": [
            "epochs:190, loss:2097.9236450195312\n"
          ]
        },
        {
          "name": "stderr",
          "output_type": "stream",
          "text": [
            " 77%|███████▋  | 192/250 [09:28<02:35,  2.67s/it]"
          ]
        },
        {
          "name": "stdout",
          "output_type": "stream",
          "text": [
            "epochs:191, loss:2074.3580932617188\n"
          ]
        },
        {
          "name": "stderr",
          "output_type": "stream",
          "text": [
            " 77%|███████▋  | 193/250 [09:30<02:33,  2.70s/it]"
          ]
        },
        {
          "name": "stdout",
          "output_type": "stream",
          "text": [
            "epochs:192, loss:2004.1190490722656\n"
          ]
        },
        {
          "name": "stderr",
          "output_type": "stream",
          "text": [
            " 78%|███████▊  | 194/250 [09:33<02:30,  2.70s/it]"
          ]
        },
        {
          "name": "stdout",
          "output_type": "stream",
          "text": [
            "epochs:193, loss:1968.3860473632812\n"
          ]
        },
        {
          "name": "stderr",
          "output_type": "stream",
          "text": [
            " 78%|███████▊  | 195/250 [09:36<02:24,  2.63s/it]"
          ]
        },
        {
          "name": "stdout",
          "output_type": "stream",
          "text": [
            "epochs:194, loss:1957.496337890625\n"
          ]
        },
        {
          "name": "stderr",
          "output_type": "stream",
          "text": [
            " 78%|███████▊  | 196/250 [09:38<02:23,  2.66s/it]"
          ]
        },
        {
          "name": "stdout",
          "output_type": "stream",
          "text": [
            "epochs:195, loss:1889.8672790527344\n"
          ]
        },
        {
          "name": "stderr",
          "output_type": "stream",
          "text": [
            " 79%|███████▉  | 197/250 [09:41<02:17,  2.59s/it]"
          ]
        },
        {
          "name": "stdout",
          "output_type": "stream",
          "text": [
            "epochs:196, loss:1877.5616455078125\n"
          ]
        },
        {
          "name": "stderr",
          "output_type": "stream",
          "text": [
            " 79%|███████▉  | 198/250 [09:43<02:17,  2.64s/it]"
          ]
        },
        {
          "name": "stdout",
          "output_type": "stream",
          "text": [
            "epochs:197, loss:1828.8506469726562\n"
          ]
        },
        {
          "name": "stderr",
          "output_type": "stream",
          "text": [
            " 80%|███████▉  | 199/250 [09:46<02:11,  2.58s/it]"
          ]
        },
        {
          "name": "stdout",
          "output_type": "stream",
          "text": [
            "epochs:198, loss:1797.1026916503906\n"
          ]
        },
        {
          "name": "stderr",
          "output_type": "stream",
          "text": [
            " 80%|████████  | 200/250 [09:49<02:10,  2.61s/it]"
          ]
        },
        {
          "name": "stdout",
          "output_type": "stream",
          "text": [
            "epochs:199, loss:1771.7960510253906\n"
          ]
        },
        {
          "name": "stderr",
          "output_type": "stream",
          "text": [
            " 80%|████████  | 201/250 [09:52<02:14,  2.75s/it]"
          ]
        },
        {
          "name": "stdout",
          "output_type": "stream",
          "text": [
            "epochs:200, loss:1745.3831176757812\n"
          ]
        },
        {
          "name": "stderr",
          "output_type": "stream",
          "text": [
            " 81%|████████  | 202/250 [09:55<02:15,  2.83s/it]"
          ]
        },
        {
          "name": "stdout",
          "output_type": "stream",
          "text": [
            "epochs:201, loss:1702.902099609375\n"
          ]
        },
        {
          "name": "stderr",
          "output_type": "stream",
          "text": [
            " 81%|████████  | 203/250 [09:57<02:09,  2.75s/it]"
          ]
        },
        {
          "name": "stdout",
          "output_type": "stream",
          "text": [
            "epochs:202, loss:1673.8890991210938\n"
          ]
        },
        {
          "name": "stderr",
          "output_type": "stream",
          "text": [
            " 82%|████████▏ | 204/250 [10:00<02:05,  2.72s/it]"
          ]
        },
        {
          "name": "stdout",
          "output_type": "stream",
          "text": [
            "epochs:203, loss:1623.5395812988281\n"
          ]
        },
        {
          "name": "stderr",
          "output_type": "stream",
          "text": [
            " 82%|████████▏ | 205/250 [10:03<02:03,  2.75s/it]"
          ]
        },
        {
          "name": "stdout",
          "output_type": "stream",
          "text": [
            "epochs:204, loss:1604.3086242675781\n"
          ]
        },
        {
          "name": "stderr",
          "output_type": "stream",
          "text": [
            " 82%|████████▏ | 206/250 [10:05<01:57,  2.67s/it]"
          ]
        },
        {
          "name": "stdout",
          "output_type": "stream",
          "text": [
            "epochs:205, loss:1618.0106201171875\n"
          ]
        },
        {
          "name": "stderr",
          "output_type": "stream",
          "text": [
            " 83%|████████▎ | 207/250 [10:08<01:54,  2.66s/it]"
          ]
        },
        {
          "name": "stdout",
          "output_type": "stream",
          "text": [
            "epochs:206, loss:1554.7353820800781\n"
          ]
        },
        {
          "name": "stderr",
          "output_type": "stream",
          "text": [
            " 83%|████████▎ | 208/250 [10:11<01:53,  2.70s/it]"
          ]
        },
        {
          "name": "stdout",
          "output_type": "stream",
          "text": [
            "epochs:207, loss:1512.591064453125\n"
          ]
        },
        {
          "name": "stderr",
          "output_type": "stream",
          "text": [
            " 84%|████████▎ | 209/250 [10:13<01:49,  2.68s/it]"
          ]
        },
        {
          "name": "stdout",
          "output_type": "stream",
          "text": [
            "epochs:208, loss:1484.235107421875\n"
          ]
        },
        {
          "name": "stderr",
          "output_type": "stream",
          "text": [
            " 84%|████████▍ | 210/250 [10:16<01:46,  2.65s/it]"
          ]
        },
        {
          "name": "stdout",
          "output_type": "stream",
          "text": [
            "epochs:209, loss:1489.0297546386719\n"
          ]
        },
        {
          "name": "stderr",
          "output_type": "stream",
          "text": [
            " 84%|████████▍ | 211/250 [10:18<01:42,  2.62s/it]"
          ]
        },
        {
          "name": "stdout",
          "output_type": "stream",
          "text": [
            "epochs:210, loss:1435.9322204589844\n"
          ]
        },
        {
          "name": "stderr",
          "output_type": "stream",
          "text": [
            " 85%|████████▍ | 212/250 [10:21<01:40,  2.64s/it]"
          ]
        },
        {
          "name": "stdout",
          "output_type": "stream",
          "text": [
            "epochs:211, loss:1423.3128356933594\n"
          ]
        },
        {
          "name": "stderr",
          "output_type": "stream",
          "text": [
            " 85%|████████▌ | 213/250 [10:24<01:37,  2.64s/it]"
          ]
        },
        {
          "name": "stdout",
          "output_type": "stream",
          "text": [
            "epochs:212, loss:1388.4681091308594\n"
          ]
        },
        {
          "name": "stderr",
          "output_type": "stream",
          "text": [
            " 86%|████████▌ | 214/250 [10:26<01:36,  2.68s/it]"
          ]
        },
        {
          "name": "stdout",
          "output_type": "stream",
          "text": [
            "epochs:213, loss:1352.757568359375\n"
          ]
        },
        {
          "name": "stderr",
          "output_type": "stream",
          "text": [
            " 86%|████████▌ | 215/250 [10:29<01:33,  2.67s/it]"
          ]
        },
        {
          "name": "stdout",
          "output_type": "stream",
          "text": [
            "epochs:214, loss:1324.0069580078125\n"
          ]
        },
        {
          "name": "stderr",
          "output_type": "stream",
          "text": [
            " 86%|████████▋ | 216/250 [10:32<01:29,  2.64s/it]"
          ]
        },
        {
          "name": "stdout",
          "output_type": "stream",
          "text": [
            "epochs:215, loss:1318.8180847167969\n"
          ]
        },
        {
          "name": "stderr",
          "output_type": "stream",
          "text": [
            " 87%|████████▋ | 217/250 [10:34<01:25,  2.59s/it]"
          ]
        },
        {
          "name": "stdout",
          "output_type": "stream",
          "text": [
            "epochs:216, loss:1285.2608337402344\n"
          ]
        },
        {
          "name": "stderr",
          "output_type": "stream",
          "text": [
            " 87%|████████▋ | 218/250 [10:37<01:25,  2.67s/it]"
          ]
        },
        {
          "name": "stdout",
          "output_type": "stream",
          "text": [
            "epochs:217, loss:1251.3726196289062\n"
          ]
        },
        {
          "name": "stderr",
          "output_type": "stream",
          "text": [
            " 88%|████████▊ | 219/250 [10:39<01:20,  2.61s/it]"
          ]
        },
        {
          "name": "stdout",
          "output_type": "stream",
          "text": [
            "epochs:218, loss:1226.8431701660156\n"
          ]
        },
        {
          "name": "stderr",
          "output_type": "stream",
          "text": [
            " 88%|████████▊ | 220/250 [10:42<01:17,  2.59s/it]"
          ]
        },
        {
          "name": "stdout",
          "output_type": "stream",
          "text": [
            "epochs:219, loss:1231.2433776855469\n"
          ]
        },
        {
          "name": "stderr",
          "output_type": "stream",
          "text": [
            " 88%|████████▊ | 221/250 [10:45<01:15,  2.60s/it]"
          ]
        },
        {
          "name": "stdout",
          "output_type": "stream",
          "text": [
            "epochs:220, loss:1193.4741821289062\n"
          ]
        },
        {
          "name": "stderr",
          "output_type": "stream",
          "text": [
            " 89%|████████▉ | 222/250 [10:47<01:13,  2.64s/it]"
          ]
        },
        {
          "name": "stdout",
          "output_type": "stream",
          "text": [
            "epochs:221, loss:1168.1997680664062\n"
          ]
        },
        {
          "name": "stderr",
          "output_type": "stream",
          "text": [
            " 89%|████████▉ | 223/250 [10:50<01:12,  2.68s/it]"
          ]
        },
        {
          "name": "stdout",
          "output_type": "stream",
          "text": [
            "epochs:222, loss:1145.7303771972656\n"
          ]
        },
        {
          "name": "stderr",
          "output_type": "stream",
          "text": [
            " 90%|████████▉ | 224/250 [10:53<01:09,  2.66s/it]"
          ]
        },
        {
          "name": "stdout",
          "output_type": "stream",
          "text": [
            "epochs:223, loss:1139.2847900390625\n"
          ]
        },
        {
          "name": "stderr",
          "output_type": "stream",
          "text": [
            " 90%|█████████ | 225/250 [10:55<01:05,  2.64s/it]"
          ]
        },
        {
          "name": "stdout",
          "output_type": "stream",
          "text": [
            "epochs:224, loss:1150.731185913086\n"
          ]
        },
        {
          "name": "stderr",
          "output_type": "stream",
          "text": [
            " 90%|█████████ | 226/250 [10:58<01:03,  2.63s/it]"
          ]
        },
        {
          "name": "stdout",
          "output_type": "stream",
          "text": [
            "epochs:225, loss:1104.9561157226562\n"
          ]
        },
        {
          "name": "stderr",
          "output_type": "stream",
          "text": [
            " 91%|█████████ | 227/250 [11:01<01:00,  2.61s/it]"
          ]
        },
        {
          "name": "stdout",
          "output_type": "stream",
          "text": [
            "epochs:226, loss:1099.639144897461\n"
          ]
        },
        {
          "name": "stderr",
          "output_type": "stream",
          "text": [
            " 91%|█████████ | 228/250 [11:03<00:56,  2.57s/it]"
          ]
        },
        {
          "name": "stdout",
          "output_type": "stream",
          "text": [
            "epochs:227, loss:1068.7357788085938\n"
          ]
        },
        {
          "name": "stderr",
          "output_type": "stream",
          "text": [
            " 92%|█████████▏| 229/250 [11:06<00:53,  2.56s/it]"
          ]
        },
        {
          "name": "stdout",
          "output_type": "stream",
          "text": [
            "epochs:228, loss:1031.4457550048828\n"
          ]
        },
        {
          "name": "stderr",
          "output_type": "stream",
          "text": [
            " 92%|█████████▏| 230/250 [11:08<00:51,  2.55s/it]"
          ]
        },
        {
          "name": "stdout",
          "output_type": "stream",
          "text": [
            "epochs:229, loss:1012.1438293457031\n"
          ]
        },
        {
          "name": "stderr",
          "output_type": "stream",
          "text": [
            " 92%|█████████▏| 231/250 [11:11<00:48,  2.56s/it]"
          ]
        },
        {
          "name": "stdout",
          "output_type": "stream",
          "text": [
            "epochs:230, loss:997.1651458740234\n"
          ]
        },
        {
          "name": "stderr",
          "output_type": "stream",
          "text": [
            " 93%|█████████▎| 232/250 [11:13<00:45,  2.54s/it]"
          ]
        },
        {
          "name": "stdout",
          "output_type": "stream",
          "text": [
            "epochs:231, loss:986.1987457275391\n"
          ]
        },
        {
          "name": "stderr",
          "output_type": "stream",
          "text": [
            " 93%|█████████▎| 233/250 [11:16<00:44,  2.60s/it]"
          ]
        },
        {
          "name": "stdout",
          "output_type": "stream",
          "text": [
            "epochs:232, loss:964.1332244873047\n"
          ]
        },
        {
          "name": "stderr",
          "output_type": "stream",
          "text": [
            " 94%|█████████▎| 234/250 [11:19<00:42,  2.64s/it]"
          ]
        },
        {
          "name": "stdout",
          "output_type": "stream",
          "text": [
            "epochs:233, loss:962.4140625\n"
          ]
        },
        {
          "name": "stderr",
          "output_type": "stream",
          "text": [
            " 94%|█████████▍| 235/250 [11:21<00:39,  2.63s/it]"
          ]
        },
        {
          "name": "stdout",
          "output_type": "stream",
          "text": [
            "epochs:234, loss:939.7980804443359\n"
          ]
        },
        {
          "name": "stderr",
          "output_type": "stream",
          "text": [
            " 94%|█████████▍| 236/250 [11:24<00:36,  2.59s/it]"
          ]
        },
        {
          "name": "stdout",
          "output_type": "stream",
          "text": [
            "epochs:235, loss:922.0547180175781\n"
          ]
        },
        {
          "name": "stderr",
          "output_type": "stream",
          "text": [
            " 95%|█████████▍| 237/250 [11:26<00:33,  2.61s/it]"
          ]
        },
        {
          "name": "stdout",
          "output_type": "stream",
          "text": [
            "epochs:236, loss:934.0184783935547\n"
          ]
        },
        {
          "name": "stderr",
          "output_type": "stream",
          "text": [
            " 95%|█████████▌| 238/250 [11:29<00:30,  2.58s/it]"
          ]
        },
        {
          "name": "stdout",
          "output_type": "stream",
          "text": [
            "epochs:237, loss:900.0765991210938\n"
          ]
        },
        {
          "name": "stderr",
          "output_type": "stream",
          "text": [
            " 96%|█████████▌| 239/250 [11:32<00:29,  2.64s/it]"
          ]
        },
        {
          "name": "stdout",
          "output_type": "stream",
          "text": [
            "epochs:238, loss:894.217529296875\n"
          ]
        },
        {
          "name": "stderr",
          "output_type": "stream",
          "text": [
            " 96%|█████████▌| 240/250 [11:34<00:26,  2.64s/it]"
          ]
        },
        {
          "name": "stdout",
          "output_type": "stream",
          "text": [
            "epochs:239, loss:862.5269317626953\n"
          ]
        },
        {
          "name": "stderr",
          "output_type": "stream",
          "text": [
            " 96%|█████████▋| 241/250 [11:37<00:23,  2.66s/it]"
          ]
        },
        {
          "name": "stdout",
          "output_type": "stream",
          "text": [
            "epochs:240, loss:865.2344512939453\n"
          ]
        },
        {
          "name": "stderr",
          "output_type": "stream",
          "text": [
            " 97%|█████████▋| 242/250 [11:39<00:20,  2.60s/it]"
          ]
        },
        {
          "name": "stdout",
          "output_type": "stream",
          "text": [
            "epochs:241, loss:863.2223663330078\n"
          ]
        },
        {
          "name": "stderr",
          "output_type": "stream",
          "text": [
            " 97%|█████████▋| 243/250 [11:42<00:18,  2.60s/it]"
          ]
        },
        {
          "name": "stdout",
          "output_type": "stream",
          "text": [
            "epochs:242, loss:837.3638763427734\n"
          ]
        },
        {
          "name": "stderr",
          "output_type": "stream",
          "text": [
            " 98%|█████████▊| 244/250 [11:45<00:15,  2.57s/it]"
          ]
        },
        {
          "name": "stdout",
          "output_type": "stream",
          "text": [
            "epochs:243, loss:816.4408874511719\n"
          ]
        },
        {
          "name": "stderr",
          "output_type": "stream",
          "text": [
            " 98%|█████████▊| 245/250 [11:47<00:13,  2.61s/it]"
          ]
        },
        {
          "name": "stdout",
          "output_type": "stream",
          "text": [
            "epochs:244, loss:801.1235046386719\n"
          ]
        },
        {
          "name": "stderr",
          "output_type": "stream",
          "text": [
            " 98%|█████████▊| 246/250 [11:50<00:10,  2.61s/it]"
          ]
        },
        {
          "name": "stdout",
          "output_type": "stream",
          "text": [
            "epochs:245, loss:785.109619140625\n"
          ]
        },
        {
          "name": "stderr",
          "output_type": "stream",
          "text": [
            " 99%|█████████▉| 247/250 [11:52<00:07,  2.56s/it]"
          ]
        },
        {
          "name": "stdout",
          "output_type": "stream",
          "text": [
            "epochs:246, loss:784.8301544189453\n"
          ]
        },
        {
          "name": "stderr",
          "output_type": "stream",
          "text": [
            " 99%|█████████▉| 248/250 [11:55<00:05,  2.59s/it]"
          ]
        },
        {
          "name": "stdout",
          "output_type": "stream",
          "text": [
            "epochs:247, loss:766.5843200683594\n"
          ]
        },
        {
          "name": "stderr",
          "output_type": "stream",
          "text": [
            "100%|█████████▉| 249/250 [11:58<00:02,  2.63s/it]"
          ]
        },
        {
          "name": "stdout",
          "output_type": "stream",
          "text": [
            "epochs:248, loss:764.8253479003906\n"
          ]
        },
        {
          "name": "stderr",
          "output_type": "stream",
          "text": [
            "100%|██████████| 250/250 [12:00<00:00,  2.88s/it]"
          ]
        },
        {
          "name": "stdout",
          "output_type": "stream",
          "text": [
            "epochs:249, loss:763.9592895507812\n"
          ]
        },
        {
          "name": "stderr",
          "output_type": "stream",
          "text": [
            "\n"
          ]
        },
        {
          "data": {
            "image/png": "[encoded data removed]",
            "text/plain": [
              "<Figure size 1000x400 with 10 Axes>"
            ]
          },
          "metadata": {},
          "output_type": "display_data"
        },
        {
          "name": "stdout",
          "output_type": "stream",
          "text": [
            "Error rate:0.29914529914529914\n",
            "Precision:0.7959183673469388 Sensitivity:0.7 Specificity:0.7008547008547008 f1:0.7448840381991815\n",
            "\n"
          ]
        },
        {
          "data": {
            "image/png": "[encoded data removed]",
            "text/plain": [
              "<Figure size 640x480 with 1 Axes>"
            ]
          },
          "metadata": {},
          "output_type": "display_data"
        },
        {
          "data": {
            "image/png": "[encoded data removed]",
            "text/plain": [
              "<Figure size 640x480 with 1 Axes>"
            ]
          },
          "metadata": {},
          "output_type": "display_data"
        }
      ],
      "source": [
        "import torch\n",
        "import numpy as np\n",
        "import matplotlib.pyplot as plt\n",
        "from tqdm import tqdm\n",
        "import numpy as np\n",
        "import torch\n",
        "from sklearn import metrics\n",
        "\n",
        "def train_loop(model, loader):\n",
        "    optim = torch.optim.Adam(model.parameters(), 5e-4, betas=(0.5, 0.999))\n",
        "    for e in tqdm(range(EPOCHS)):\n",
        "        model.train()\n",
        "        loass_array = []\n",
        "        for (x, _) in loader:\n",
        "            x.requires_grad = False\n",
        "            x.permute(0, 3, 1, 2)\n",
        "            out = model(x)\n",
        "            rec_err = (out - x) ** 2\n",
        "            loss = rec_err.mean()\n",
        "            loass_array.append(loss.item())\n",
        "            optim.zero_grad()\n",
        "            loss.backward()\n",
        "            optim.step()\n",
        "        loass_array = np.mean(loass_array)\n",
        "        print('epochs:{}, loss:{}'.format(e, loass_array))\n",
        "    torch.save(model.state_dict(), checkpoint_dir + '/winning architecture/AE_gray.pth')\n",
        "\n",
        "if __name__ == '__main__':\n",
        "    EPOCHS = 250\n",
        "    model = AE(latent_size=64)\n",
        "    train_loop(model, train_loader)\n"
      ]
    },
    {
      "cell_type": "markdown",
      "source": [
        "# Task 4 - Explainability - in train notebook"
      ],
      "metadata": {
        "id": "Z9MUFm8GhDF9"
      }
    }
  ]
}